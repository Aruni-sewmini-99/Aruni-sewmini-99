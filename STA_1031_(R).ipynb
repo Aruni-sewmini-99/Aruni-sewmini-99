{
  "nbformat": 4,
  "nbformat_minor": 0,
  "metadata": {
    "colab": {
      "provenance": [],
      "include_colab_link": true
    },
    "kernelspec": {
      "name": "ir",
      "display_name": "R"
    },
    "language_info": {
      "name": "R"
    }
  },
  "cells": [
    {
      "cell_type": "markdown",
      "metadata": {
        "id": "view-in-github",
        "colab_type": "text"
      },
      "source": [
        "<a href=\"https://colab.research.google.com/github/Aruni-sewmini-99/Aruni-sewmini-99/blob/main/STA_1031_(R).ipynb\" target=\"_parent\"><img src=\"https://colab.research.google.com/assets/colab-badge.svg\" alt=\"Open In Colab\"/></a>"
      ]
    },
    {
      "cell_type": "markdown",
      "metadata": {
        "id": "pCoApAU3W5YE"
      },
      "source": [
        "# **1.Introduction to R**"
      ]
    },
    {
      "cell_type": "code",
      "source": [
        "2+4\n",
        "3*5\n",
        "5/2\n",
        "sqrt(16)\n",
        "exp(-2)\n",
        "pi\n",
        "log(100)\n",
        "120^2\n",
        "((23-4)+(5-3))*(pi*2)/3\n",
        "sin(120)\n",
        "cos(120*pi/180)"
      ],
      "metadata": {
        "colab": {
          "base_uri": "https://localhost:8080/",
          "height": 173
        },
        "id": "96GjC-_SoMJP",
        "outputId": "47c89ac4-2e57-40cf-d39e-b513bec397c8"
      },
      "execution_count": null,
      "outputs": [
        {
          "output_type": "display_data",
          "data": {
            "text/html": [
              "6"
            ],
            "text/markdown": "6",
            "text/latex": "6",
            "text/plain": [
              "[1] 6"
            ]
          },
          "metadata": {}
        },
        {
          "output_type": "display_data",
          "data": {
            "text/html": [
              "15"
            ],
            "text/markdown": "15",
            "text/latex": "15",
            "text/plain": [
              "[1] 15"
            ]
          },
          "metadata": {}
        },
        {
          "output_type": "display_data",
          "data": {
            "text/html": [
              "2.5"
            ],
            "text/markdown": "2.5",
            "text/latex": "2.5",
            "text/plain": [
              "[1] 2.5"
            ]
          },
          "metadata": {}
        },
        {
          "output_type": "display_data",
          "data": {
            "text/html": [
              "4"
            ],
            "text/markdown": "4",
            "text/latex": "4",
            "text/plain": [
              "[1] 4"
            ]
          },
          "metadata": {}
        },
        {
          "output_type": "display_data",
          "data": {
            "text/html": [
              "0.135335283236613"
            ],
            "text/markdown": "0.135335283236613",
            "text/latex": "0.135335283236613",
            "text/plain": [
              "[1] 0.1353353"
            ]
          },
          "metadata": {}
        },
        {
          "output_type": "display_data",
          "data": {
            "text/html": [
              "3.14159265358979"
            ],
            "text/markdown": "3.14159265358979",
            "text/latex": "3.14159265358979",
            "text/plain": [
              "[1] 3.141593"
            ]
          },
          "metadata": {}
        },
        {
          "output_type": "display_data",
          "data": {
            "text/html": [
              "4.60517018598809"
            ],
            "text/markdown": "4.60517018598809",
            "text/latex": "4.60517018598809",
            "text/plain": [
              "[1] 4.60517"
            ]
          },
          "metadata": {}
        },
        {
          "output_type": "display_data",
          "data": {
            "text/html": [
              "14400"
            ],
            "text/markdown": "14400",
            "text/latex": "14400",
            "text/plain": [
              "[1] 14400"
            ]
          },
          "metadata": {}
        },
        {
          "output_type": "display_data",
          "data": {
            "text/html": [
              "43.9822971502571"
            ],
            "text/markdown": "43.9822971502571",
            "text/latex": "43.9822971502571",
            "text/plain": [
              "[1] 43.9823"
            ]
          },
          "metadata": {}
        }
      ]
    },
    {
      "cell_type": "code",
      "source": [
        "x = c(3,5,7,2,6,8,4,1,9,10)\n",
        "x\n",
        "a = x+x\n",
        "a\n",
        "b = x^2/4\n",
        "b\n",
        "y = a+b+2\n",
        "y\n",
        "z = 1/y\n",
        "z\n"
      ],
      "metadata": {
        "colab": {
          "base_uri": "https://localhost:8080/",
          "height": 121
        },
        "id": "FjKfnfbnoMYL",
        "outputId": "c09237b1-8277-489f-acbb-08e0f52aaa82"
      },
      "execution_count": null,
      "outputs": [
        {
          "output_type": "display_data",
          "data": {
            "text/html": [
              "<style>\n",
              ".list-inline {list-style: none; margin:0; padding: 0}\n",
              ".list-inline>li {display: inline-block}\n",
              ".list-inline>li:not(:last-child)::after {content: \"\\00b7\"; padding: 0 .5ex}\n",
              "</style>\n",
              "<ol class=list-inline><li>3</li><li>5</li><li>7</li><li>2</li><li>6</li><li>8</li><li>4</li><li>1</li><li>9</li><li>10</li></ol>\n"
            ],
            "text/markdown": "1. 3\n2. 5\n3. 7\n4. 2\n5. 6\n6. 8\n7. 4\n8. 1\n9. 9\n10. 10\n\n\n",
            "text/latex": "\\begin{enumerate*}\n\\item 3\n\\item 5\n\\item 7\n\\item 2\n\\item 6\n\\item 8\n\\item 4\n\\item 1\n\\item 9\n\\item 10\n\\end{enumerate*}\n",
            "text/plain": [
              " [1]  3  5  7  2  6  8  4  1  9 10"
            ]
          },
          "metadata": {}
        },
        {
          "output_type": "display_data",
          "data": {
            "text/html": [
              "<style>\n",
              ".list-inline {list-style: none; margin:0; padding: 0}\n",
              ".list-inline>li {display: inline-block}\n",
              ".list-inline>li:not(:last-child)::after {content: \"\\00b7\"; padding: 0 .5ex}\n",
              "</style>\n",
              "<ol class=list-inline><li>6</li><li>10</li><li>14</li><li>4</li><li>12</li><li>16</li><li>8</li><li>2</li><li>18</li><li>20</li></ol>\n"
            ],
            "text/markdown": "1. 6\n2. 10\n3. 14\n4. 4\n5. 12\n6. 16\n7. 8\n8. 2\n9. 18\n10. 20\n\n\n",
            "text/latex": "\\begin{enumerate*}\n\\item 6\n\\item 10\n\\item 14\n\\item 4\n\\item 12\n\\item 16\n\\item 8\n\\item 2\n\\item 18\n\\item 20\n\\end{enumerate*}\n",
            "text/plain": [
              " [1]  6 10 14  4 12 16  8  2 18 20"
            ]
          },
          "metadata": {}
        },
        {
          "output_type": "display_data",
          "data": {
            "text/html": [
              "<style>\n",
              ".list-inline {list-style: none; margin:0; padding: 0}\n",
              ".list-inline>li {display: inline-block}\n",
              ".list-inline>li:not(:last-child)::after {content: \"\\00b7\"; padding: 0 .5ex}\n",
              "</style>\n",
              "<ol class=list-inline><li>2.25</li><li>6.25</li><li>12.25</li><li>1</li><li>9</li><li>16</li><li>4</li><li>0.25</li><li>20.25</li><li>25</li></ol>\n"
            ],
            "text/markdown": "1. 2.25\n2. 6.25\n3. 12.25\n4. 1\n5. 9\n6. 16\n7. 4\n8. 0.25\n9. 20.25\n10. 25\n\n\n",
            "text/latex": "\\begin{enumerate*}\n\\item 2.25\n\\item 6.25\n\\item 12.25\n\\item 1\n\\item 9\n\\item 16\n\\item 4\n\\item 0.25\n\\item 20.25\n\\item 25\n\\end{enumerate*}\n",
            "text/plain": [
              " [1]  2.25  6.25 12.25  1.00  9.00 16.00  4.00  0.25 20.25 25.00"
            ]
          },
          "metadata": {}
        },
        {
          "output_type": "display_data",
          "data": {
            "text/html": [
              "<style>\n",
              ".list-inline {list-style: none; margin:0; padding: 0}\n",
              ".list-inline>li {display: inline-block}\n",
              ".list-inline>li:not(:last-child)::after {content: \"\\00b7\"; padding: 0 .5ex}\n",
              "</style>\n",
              "<ol class=list-inline><li>10.25</li><li>18.25</li><li>28.25</li><li>7</li><li>23</li><li>34</li><li>14</li><li>4.25</li><li>40.25</li><li>47</li></ol>\n"
            ],
            "text/markdown": "1. 10.25\n2. 18.25\n3. 28.25\n4. 7\n5. 23\n6. 34\n7. 14\n8. 4.25\n9. 40.25\n10. 47\n\n\n",
            "text/latex": "\\begin{enumerate*}\n\\item 10.25\n\\item 18.25\n\\item 28.25\n\\item 7\n\\item 23\n\\item 34\n\\item 14\n\\item 4.25\n\\item 40.25\n\\item 47\n\\end{enumerate*}\n",
            "text/plain": [
              " [1] 10.25 18.25 28.25  7.00 23.00 34.00 14.00  4.25 40.25 47.00"
            ]
          },
          "metadata": {}
        },
        {
          "output_type": "display_data",
          "data": {
            "text/html": [
              "<style>\n",
              ".list-inline {list-style: none; margin:0; padding: 0}\n",
              ".list-inline>li {display: inline-block}\n",
              ".list-inline>li:not(:last-child)::after {content: \"\\00b7\"; padding: 0 .5ex}\n",
              "</style>\n",
              "<ol class=list-inline><li>0.0975609756097561</li><li>0.0547945205479452</li><li>0.0353982300884956</li><li>0.142857142857143</li><li>0.0434782608695652</li><li>0.0294117647058824</li><li>0.0714285714285714</li><li>0.235294117647059</li><li>0.0248447204968944</li><li>0.0212765957446809</li></ol>\n"
            ],
            "text/markdown": "1. 0.0975609756097561\n2. 0.0547945205479452\n3. 0.0353982300884956\n4. 0.142857142857143\n5. 0.0434782608695652\n6. 0.0294117647058824\n7. 0.0714285714285714\n8. 0.235294117647059\n9. 0.0248447204968944\n10. 0.0212765957446809\n\n\n",
            "text/latex": "\\begin{enumerate*}\n\\item 0.0975609756097561\n\\item 0.0547945205479452\n\\item 0.0353982300884956\n\\item 0.142857142857143\n\\item 0.0434782608695652\n\\item 0.0294117647058824\n\\item 0.0714285714285714\n\\item 0.235294117647059\n\\item 0.0248447204968944\n\\item 0.0212765957446809\n\\end{enumerate*}\n",
            "text/plain": [
              " [1] 0.09756098 0.05479452 0.03539823 0.14285714 0.04347826 0.02941176\n",
              " [7] 0.07142857 0.23529412 0.02484472 0.02127660"
            ]
          },
          "metadata": {}
        }
      ]
    },
    {
      "cell_type": "code",
      "source": [
        "x = c(3,5,7,2,6,8,4,1,9,10)\n",
        "x\n",
        "x[3]\n",
        "x[1:3]\n",
        "head(x,3)\n",
        "tail(x,2)"
      ],
      "metadata": {
        "colab": {
          "base_uri": "https://localhost:8080/",
          "height": 104
        },
        "id": "CKWxbYDdoMdP",
        "outputId": "8e13b5e8-1492-47a0-b33d-2e81a8111738"
      },
      "execution_count": null,
      "outputs": [
        {
          "output_type": "display_data",
          "data": {
            "text/html": [
              "<style>\n",
              ".list-inline {list-style: none; margin:0; padding: 0}\n",
              ".list-inline>li {display: inline-block}\n",
              ".list-inline>li:not(:last-child)::after {content: \"\\00b7\"; padding: 0 .5ex}\n",
              "</style>\n",
              "<ol class=list-inline><li>3</li><li>5</li><li>7</li><li>2</li><li>6</li><li>8</li><li>4</li><li>1</li><li>9</li><li>10</li></ol>\n"
            ],
            "text/markdown": "1. 3\n2. 5\n3. 7\n4. 2\n5. 6\n6. 8\n7. 4\n8. 1\n9. 9\n10. 10\n\n\n",
            "text/latex": "\\begin{enumerate*}\n\\item 3\n\\item 5\n\\item 7\n\\item 2\n\\item 6\n\\item 8\n\\item 4\n\\item 1\n\\item 9\n\\item 10\n\\end{enumerate*}\n",
            "text/plain": [
              " [1]  3  5  7  2  6  8  4  1  9 10"
            ]
          },
          "metadata": {}
        },
        {
          "output_type": "display_data",
          "data": {
            "text/html": [
              "7"
            ],
            "text/markdown": "7",
            "text/latex": "7",
            "text/plain": [
              "[1] 7"
            ]
          },
          "metadata": {}
        },
        {
          "output_type": "display_data",
          "data": {
            "text/html": [
              "<style>\n",
              ".list-inline {list-style: none; margin:0; padding: 0}\n",
              ".list-inline>li {display: inline-block}\n",
              ".list-inline>li:not(:last-child)::after {content: \"\\00b7\"; padding: 0 .5ex}\n",
              "</style>\n",
              "<ol class=list-inline><li>3</li><li>5</li><li>7</li></ol>\n"
            ],
            "text/markdown": "1. 3\n2. 5\n3. 7\n\n\n",
            "text/latex": "\\begin{enumerate*}\n\\item 3\n\\item 5\n\\item 7\n\\end{enumerate*}\n",
            "text/plain": [
              "[1] 3 5 7"
            ]
          },
          "metadata": {}
        },
        {
          "output_type": "display_data",
          "data": {
            "text/html": [
              "<style>\n",
              ".list-inline {list-style: none; margin:0; padding: 0}\n",
              ".list-inline>li {display: inline-block}\n",
              ".list-inline>li:not(:last-child)::after {content: \"\\00b7\"; padding: 0 .5ex}\n",
              "</style>\n",
              "<ol class=list-inline><li>3</li><li>5</li><li>7</li></ol>\n"
            ],
            "text/markdown": "1. 3\n2. 5\n3. 7\n\n\n",
            "text/latex": "\\begin{enumerate*}\n\\item 3\n\\item 5\n\\item 7\n\\end{enumerate*}\n",
            "text/plain": [
              "[1] 3 5 7"
            ]
          },
          "metadata": {}
        },
        {
          "output_type": "display_data",
          "data": {
            "text/html": [
              "<style>\n",
              ".list-inline {list-style: none; margin:0; padding: 0}\n",
              ".list-inline>li {display: inline-block}\n",
              ".list-inline>li:not(:last-child)::after {content: \"\\00b7\"; padding: 0 .5ex}\n",
              "</style>\n",
              "<ol class=list-inline><li>9</li><li>10</li></ol>\n"
            ],
            "text/markdown": "1. 9\n2. 10\n\n\n",
            "text/latex": "\\begin{enumerate*}\n\\item 9\n\\item 10\n\\end{enumerate*}\n",
            "text/plain": [
              "[1]  9 10"
            ]
          },
          "metadata": {}
        }
      ]
    },
    {
      "cell_type": "code",
      "source": [
        "y = c(\"A\",\"B\",\"C\",\"D\")\n",
        "y\n",
        "\n",
        "y[2]\n",
        "y[2:5]"
      ],
      "metadata": {
        "colab": {
          "base_uri": "https://localhost:8080/",
          "height": 69
        },
        "id": "LetJCVWaGWAZ",
        "outputId": "fba68e2d-3596-46d4-fdae-66419070a5e6"
      },
      "execution_count": null,
      "outputs": [
        {
          "output_type": "display_data",
          "data": {
            "text/html": [
              "<style>\n",
              ".list-inline {list-style: none; margin:0; padding: 0}\n",
              ".list-inline>li {display: inline-block}\n",
              ".list-inline>li:not(:last-child)::after {content: \"\\00b7\"; padding: 0 .5ex}\n",
              "</style>\n",
              "<ol class=list-inline><li>'A'</li><li>'B'</li><li>'C'</li><li>'D'</li></ol>\n"
            ],
            "text/markdown": "1. 'A'\n2. 'B'\n3. 'C'\n4. 'D'\n\n\n",
            "text/latex": "\\begin{enumerate*}\n\\item 'A'\n\\item 'B'\n\\item 'C'\n\\item 'D'\n\\end{enumerate*}\n",
            "text/plain": [
              "[1] \"A\" \"B\" \"C\" \"D\""
            ]
          },
          "metadata": {}
        },
        {
          "output_type": "display_data",
          "data": {
            "text/html": [
              "'B'"
            ],
            "text/markdown": "'B'",
            "text/latex": "'B'",
            "text/plain": [
              "[1] \"B\""
            ]
          },
          "metadata": {}
        },
        {
          "output_type": "display_data",
          "data": {
            "text/html": [
              "<style>\n",
              ".list-inline {list-style: none; margin:0; padding: 0}\n",
              ".list-inline>li {display: inline-block}\n",
              ".list-inline>li:not(:last-child)::after {content: \"\\00b7\"; padding: 0 .5ex}\n",
              "</style>\n",
              "<ol class=list-inline><li>'B'</li><li>'C'</li><li>'D'</li><li>NA</li></ol>\n"
            ],
            "text/markdown": "1. 'B'\n2. 'C'\n3. 'D'\n4. NA\n\n\n",
            "text/latex": "\\begin{enumerate*}\n\\item 'B'\n\\item 'C'\n\\item 'D'\n\\item NA\n\\end{enumerate*}\n",
            "text/plain": [
              "[1] \"B\" \"C\" \"D\" NA "
            ]
          },
          "metadata": {}
        }
      ]
    },
    {
      "cell_type": "code",
      "source": [
        "v <-c(T,F,T,T,F,F,T)\n",
        "v\n",
        "\n",
        "x<-c(5,8,9,6,3,7)\n",
        "y<-x<5\n",
        "y"
      ],
      "metadata": {
        "colab": {
          "base_uri": "https://localhost:8080/",
          "height": 52
        },
        "id": "jKfk3gmPHqao",
        "outputId": "c0cf72e8-e014-4afc-9032-87a066ee2d50"
      },
      "execution_count": null,
      "outputs": [
        {
          "output_type": "display_data",
          "data": {
            "text/html": [
              "<style>\n",
              ".list-inline {list-style: none; margin:0; padding: 0}\n",
              ".list-inline>li {display: inline-block}\n",
              ".list-inline>li:not(:last-child)::after {content: \"\\00b7\"; padding: 0 .5ex}\n",
              "</style>\n",
              "<ol class=list-inline><li>TRUE</li><li>FALSE</li><li>TRUE</li><li>TRUE</li><li>FALSE</li><li>FALSE</li><li>TRUE</li></ol>\n"
            ],
            "text/markdown": "1. TRUE\n2. FALSE\n3. TRUE\n4. TRUE\n5. FALSE\n6. FALSE\n7. TRUE\n\n\n",
            "text/latex": "\\begin{enumerate*}\n\\item TRUE\n\\item FALSE\n\\item TRUE\n\\item TRUE\n\\item FALSE\n\\item FALSE\n\\item TRUE\n\\end{enumerate*}\n",
            "text/plain": [
              "[1]  TRUE FALSE  TRUE  TRUE FALSE FALSE  TRUE"
            ]
          },
          "metadata": {}
        },
        {
          "output_type": "display_data",
          "data": {
            "text/html": [
              "<style>\n",
              ".list-inline {list-style: none; margin:0; padding: 0}\n",
              ".list-inline>li {display: inline-block}\n",
              ".list-inline>li:not(:last-child)::after {content: \"\\00b7\"; padding: 0 .5ex}\n",
              "</style>\n",
              "<ol class=list-inline><li>FALSE</li><li>FALSE</li><li>FALSE</li><li>FALSE</li><li>TRUE</li><li>FALSE</li></ol>\n"
            ],
            "text/markdown": "1. FALSE\n2. FALSE\n3. FALSE\n4. FALSE\n5. TRUE\n6. FALSE\n\n\n",
            "text/latex": "\\begin{enumerate*}\n\\item FALSE\n\\item FALSE\n\\item FALSE\n\\item FALSE\n\\item TRUE\n\\item FALSE\n\\end{enumerate*}\n",
            "text/plain": [
              "[1] FALSE FALSE FALSE FALSE  TRUE FALSE"
            ]
          },
          "metadata": {}
        }
      ]
    },
    {
      "cell_type": "code",
      "source": [
        "x<-c(3,6,1,8,10)\n",
        "x\n",
        "y<-c(5,7,4,2,9)\n",
        "y\n",
        "a <-x+y\n",
        "a\n",
        "b = a^2\n",
        "b\n",
        "z = x>y\n",
        "z\n",
        "head(z,3)\n",
        "head(x,2)*tail(y,2)"
      ],
      "metadata": {
        "colab": {
          "base_uri": "https://localhost:8080/",
          "height": 138
        },
        "id": "33Gic8SNIxFB",
        "outputId": "8d843069-45bf-425d-926c-e0709defa30d"
      },
      "execution_count": null,
      "outputs": [
        {
          "output_type": "display_data",
          "data": {
            "text/html": [
              "<style>\n",
              ".list-inline {list-style: none; margin:0; padding: 0}\n",
              ".list-inline>li {display: inline-block}\n",
              ".list-inline>li:not(:last-child)::after {content: \"\\00b7\"; padding: 0 .5ex}\n",
              "</style>\n",
              "<ol class=list-inline><li>3</li><li>6</li><li>1</li><li>8</li><li>10</li></ol>\n"
            ],
            "text/markdown": "1. 3\n2. 6\n3. 1\n4. 8\n5. 10\n\n\n",
            "text/latex": "\\begin{enumerate*}\n\\item 3\n\\item 6\n\\item 1\n\\item 8\n\\item 10\n\\end{enumerate*}\n",
            "text/plain": [
              "[1]  3  6  1  8 10"
            ]
          },
          "metadata": {}
        },
        {
          "output_type": "display_data",
          "data": {
            "text/html": [
              "<style>\n",
              ".list-inline {list-style: none; margin:0; padding: 0}\n",
              ".list-inline>li {display: inline-block}\n",
              ".list-inline>li:not(:last-child)::after {content: \"\\00b7\"; padding: 0 .5ex}\n",
              "</style>\n",
              "<ol class=list-inline><li>5</li><li>7</li><li>4</li><li>2</li><li>9</li></ol>\n"
            ],
            "text/markdown": "1. 5\n2. 7\n3. 4\n4. 2\n5. 9\n\n\n",
            "text/latex": "\\begin{enumerate*}\n\\item 5\n\\item 7\n\\item 4\n\\item 2\n\\item 9\n\\end{enumerate*}\n",
            "text/plain": [
              "[1] 5 7 4 2 9"
            ]
          },
          "metadata": {}
        },
        {
          "output_type": "display_data",
          "data": {
            "text/html": [
              "<style>\n",
              ".list-inline {list-style: none; margin:0; padding: 0}\n",
              ".list-inline>li {display: inline-block}\n",
              ".list-inline>li:not(:last-child)::after {content: \"\\00b7\"; padding: 0 .5ex}\n",
              "</style>\n",
              "<ol class=list-inline><li>8</li><li>13</li><li>5</li><li>10</li><li>19</li></ol>\n"
            ],
            "text/markdown": "1. 8\n2. 13\n3. 5\n4. 10\n5. 19\n\n\n",
            "text/latex": "\\begin{enumerate*}\n\\item 8\n\\item 13\n\\item 5\n\\item 10\n\\item 19\n\\end{enumerate*}\n",
            "text/plain": [
              "[1]  8 13  5 10 19"
            ]
          },
          "metadata": {}
        },
        {
          "output_type": "display_data",
          "data": {
            "text/html": [
              "<style>\n",
              ".list-inline {list-style: none; margin:0; padding: 0}\n",
              ".list-inline>li {display: inline-block}\n",
              ".list-inline>li:not(:last-child)::after {content: \"\\00b7\"; padding: 0 .5ex}\n",
              "</style>\n",
              "<ol class=list-inline><li>64</li><li>169</li><li>25</li><li>100</li><li>361</li></ol>\n"
            ],
            "text/markdown": "1. 64\n2. 169\n3. 25\n4. 100\n5. 361\n\n\n",
            "text/latex": "\\begin{enumerate*}\n\\item 64\n\\item 169\n\\item 25\n\\item 100\n\\item 361\n\\end{enumerate*}\n",
            "text/plain": [
              "[1]  64 169  25 100 361"
            ]
          },
          "metadata": {}
        },
        {
          "output_type": "display_data",
          "data": {
            "text/html": [
              "<style>\n",
              ".list-inline {list-style: none; margin:0; padding: 0}\n",
              ".list-inline>li {display: inline-block}\n",
              ".list-inline>li:not(:last-child)::after {content: \"\\00b7\"; padding: 0 .5ex}\n",
              "</style>\n",
              "<ol class=list-inline><li>FALSE</li><li>FALSE</li><li>FALSE</li><li>TRUE</li><li>TRUE</li></ol>\n"
            ],
            "text/markdown": "1. FALSE\n2. FALSE\n3. FALSE\n4. TRUE\n5. TRUE\n\n\n",
            "text/latex": "\\begin{enumerate*}\n\\item FALSE\n\\item FALSE\n\\item FALSE\n\\item TRUE\n\\item TRUE\n\\end{enumerate*}\n",
            "text/plain": [
              "[1] FALSE FALSE FALSE  TRUE  TRUE"
            ]
          },
          "metadata": {}
        },
        {
          "output_type": "display_data",
          "data": {
            "text/html": [
              "<style>\n",
              ".list-inline {list-style: none; margin:0; padding: 0}\n",
              ".list-inline>li {display: inline-block}\n",
              ".list-inline>li:not(:last-child)::after {content: \"\\00b7\"; padding: 0 .5ex}\n",
              "</style>\n",
              "<ol class=list-inline><li>FALSE</li><li>FALSE</li><li>FALSE</li></ol>\n"
            ],
            "text/markdown": "1. FALSE\n2. FALSE\n3. FALSE\n\n\n",
            "text/latex": "\\begin{enumerate*}\n\\item FALSE\n\\item FALSE\n\\item FALSE\n\\end{enumerate*}\n",
            "text/plain": [
              "[1] FALSE FALSE FALSE"
            ]
          },
          "metadata": {}
        },
        {
          "output_type": "display_data",
          "data": {
            "text/html": [
              "<style>\n",
              ".list-inline {list-style: none; margin:0; padding: 0}\n",
              ".list-inline>li {display: inline-block}\n",
              ".list-inline>li:not(:last-child)::after {content: \"\\00b7\"; padding: 0 .5ex}\n",
              "</style>\n",
              "<ol class=list-inline><li>6</li><li>54</li></ol>\n"
            ],
            "text/markdown": "1. 6\n2. 54\n\n\n",
            "text/latex": "\\begin{enumerate*}\n\\item 6\n\\item 54\n\\end{enumerate*}\n",
            "text/plain": [
              "[1]  6 54"
            ]
          },
          "metadata": {}
        }
      ]
    },
    {
      "cell_type": "code",
      "metadata": {
        "colab": {
          "base_uri": "https://localhost:8080/",
          "height": 185
        },
        "id": "rLO_t8gfXhZR",
        "outputId": "88a7cd9b-ef67-40a7-bfec-3e2dbd92346c"
      },
      "source": [
        "x<-c(3,5,7,2,6,8,4,1,9,10)\n",
        "cat(\"x=\",x)\n",
        "a=x+x\n",
        "a\n",
        "b=(x^2)/4\n",
        "b\n",
        "y=a+b+2\n",
        "y\n",
        "z=1/y\n",
        "z\n",
        "\n",
        "#3rd element of the vector x\n",
        "x[3]\n",
        "#1st 3rd elements and last 2 elements\n",
        "head(x,3)\n",
        "tail(x,2)\n"
      ],
      "execution_count": null,
      "outputs": [
        {
          "output_type": "stream",
          "name": "stdout",
          "text": [
            "x= 3 5 7 2 6 8 4 1 9 10"
          ]
        },
        {
          "output_type": "display_data",
          "data": {
            "text/plain": [
              " [1]  6 10 14  4 12 16  8  2 18 20"
            ],
            "text/latex": "\\begin{enumerate*}\n\\item 6\n\\item 10\n\\item 14\n\\item 4\n\\item 12\n\\item 16\n\\item 8\n\\item 2\n\\item 18\n\\item 20\n\\end{enumerate*}\n",
            "text/markdown": "1. 6\n2. 10\n3. 14\n4. 4\n5. 12\n6. 16\n7. 8\n8. 2\n9. 18\n10. 20\n\n\n",
            "text/html": [
              "<style>\n",
              ".list-inline {list-style: none; margin:0; padding: 0}\n",
              ".list-inline>li {display: inline-block}\n",
              ".list-inline>li:not(:last-child)::after {content: \"\\00b7\"; padding: 0 .5ex}\n",
              "</style>\n",
              "<ol class=list-inline><li>6</li><li>10</li><li>14</li><li>4</li><li>12</li><li>16</li><li>8</li><li>2</li><li>18</li><li>20</li></ol>\n"
            ]
          },
          "metadata": {}
        },
        {
          "output_type": "display_data",
          "data": {
            "text/plain": [
              " [1]  2.25  6.25 12.25  1.00  9.00 16.00  4.00  0.25 20.25 25.00"
            ],
            "text/latex": "\\begin{enumerate*}\n\\item 2.25\n\\item 6.25\n\\item 12.25\n\\item 1\n\\item 9\n\\item 16\n\\item 4\n\\item 0.25\n\\item 20.25\n\\item 25\n\\end{enumerate*}\n",
            "text/markdown": "1. 2.25\n2. 6.25\n3. 12.25\n4. 1\n5. 9\n6. 16\n7. 4\n8. 0.25\n9. 20.25\n10. 25\n\n\n",
            "text/html": [
              "<style>\n",
              ".list-inline {list-style: none; margin:0; padding: 0}\n",
              ".list-inline>li {display: inline-block}\n",
              ".list-inline>li:not(:last-child)::after {content: \"\\00b7\"; padding: 0 .5ex}\n",
              "</style>\n",
              "<ol class=list-inline><li>2.25</li><li>6.25</li><li>12.25</li><li>1</li><li>9</li><li>16</li><li>4</li><li>0.25</li><li>20.25</li><li>25</li></ol>\n"
            ]
          },
          "metadata": {}
        },
        {
          "output_type": "display_data",
          "data": {
            "text/plain": [
              " [1] 10.25 18.25 28.25  7.00 23.00 34.00 14.00  4.25 40.25 47.00"
            ],
            "text/latex": "\\begin{enumerate*}\n\\item 10.25\n\\item 18.25\n\\item 28.25\n\\item 7\n\\item 23\n\\item 34\n\\item 14\n\\item 4.25\n\\item 40.25\n\\item 47\n\\end{enumerate*}\n",
            "text/markdown": "1. 10.25\n2. 18.25\n3. 28.25\n4. 7\n5. 23\n6. 34\n7. 14\n8. 4.25\n9. 40.25\n10. 47\n\n\n",
            "text/html": [
              "<style>\n",
              ".list-inline {list-style: none; margin:0; padding: 0}\n",
              ".list-inline>li {display: inline-block}\n",
              ".list-inline>li:not(:last-child)::after {content: \"\\00b7\"; padding: 0 .5ex}\n",
              "</style>\n",
              "<ol class=list-inline><li>10.25</li><li>18.25</li><li>28.25</li><li>7</li><li>23</li><li>34</li><li>14</li><li>4.25</li><li>40.25</li><li>47</li></ol>\n"
            ]
          },
          "metadata": {}
        },
        {
          "output_type": "display_data",
          "data": {
            "text/plain": [
              " [1] 0.09756098 0.05479452 0.03539823 0.14285714 0.04347826 0.02941176\n",
              " [7] 0.07142857 0.23529412 0.02484472 0.02127660"
            ],
            "text/latex": "\\begin{enumerate*}\n\\item 0.0975609756097561\n\\item 0.0547945205479452\n\\item 0.0353982300884956\n\\item 0.142857142857143\n\\item 0.0434782608695652\n\\item 0.0294117647058824\n\\item 0.0714285714285714\n\\item 0.235294117647059\n\\item 0.0248447204968944\n\\item 0.0212765957446809\n\\end{enumerate*}\n",
            "text/markdown": "1. 0.0975609756097561\n2. 0.0547945205479452\n3. 0.0353982300884956\n4. 0.142857142857143\n5. 0.0434782608695652\n6. 0.0294117647058824\n7. 0.0714285714285714\n8. 0.235294117647059\n9. 0.0248447204968944\n10. 0.0212765957446809\n\n\n",
            "text/html": [
              "<style>\n",
              ".list-inline {list-style: none; margin:0; padding: 0}\n",
              ".list-inline>li {display: inline-block}\n",
              ".list-inline>li:not(:last-child)::after {content: \"\\00b7\"; padding: 0 .5ex}\n",
              "</style>\n",
              "<ol class=list-inline><li>0.0975609756097561</li><li>0.0547945205479452</li><li>0.0353982300884956</li><li>0.142857142857143</li><li>0.0434782608695652</li><li>0.0294117647058824</li><li>0.0714285714285714</li><li>0.235294117647059</li><li>0.0248447204968944</li><li>0.0212765957446809</li></ol>\n"
            ]
          },
          "metadata": {}
        },
        {
          "output_type": "display_data",
          "data": {
            "text/plain": [
              "[1] 7"
            ],
            "text/latex": "7",
            "text/markdown": "7",
            "text/html": [
              "7"
            ]
          },
          "metadata": {}
        },
        {
          "output_type": "display_data",
          "data": {
            "text/plain": [
              "[1] 3 5 7"
            ],
            "text/latex": "\\begin{enumerate*}\n\\item 3\n\\item 5\n\\item 7\n\\end{enumerate*}\n",
            "text/markdown": "1. 3\n2. 5\n3. 7\n\n\n",
            "text/html": [
              "<style>\n",
              ".list-inline {list-style: none; margin:0; padding: 0}\n",
              ".list-inline>li {display: inline-block}\n",
              ".list-inline>li:not(:last-child)::after {content: \"\\00b7\"; padding: 0 .5ex}\n",
              "</style>\n",
              "<ol class=list-inline><li>3</li><li>5</li><li>7</li></ol>\n"
            ]
          },
          "metadata": {}
        },
        {
          "output_type": "display_data",
          "data": {
            "text/plain": [
              "[1]  9 10"
            ],
            "text/latex": "\\begin{enumerate*}\n\\item 9\n\\item 10\n\\end{enumerate*}\n",
            "text/markdown": "1. 9\n2. 10\n\n\n",
            "text/html": [
              "<style>\n",
              ".list-inline {list-style: none; margin:0; padding: 0}\n",
              ".list-inline>li {display: inline-block}\n",
              ".list-inline>li:not(:last-child)::after {content: \"\\00b7\"; padding: 0 .5ex}\n",
              "</style>\n",
              "<ol class=list-inline><li>9</li><li>10</li></ol>\n"
            ]
          },
          "metadata": {}
        }
      ]
    },
    {
      "cell_type": "code",
      "metadata": {
        "colab": {
          "base_uri": "https://localhost:8080/",
          "height": 101
        },
        "id": "mt5FpyfWYayp",
        "outputId": "6c823277-1e7f-432e-9a3e-ad701dd862c7"
      },
      "source": [
        "x<-c(3,6,1,8,10)\n",
        "y<-c(5,7,4,2,9)\n",
        "\n",
        "#1\n",
        "a=x+y\n",
        "a\n",
        "#2\n",
        "b=a^2\n",
        "b\n",
        "#37\n",
        "z<-x>y\n",
        "z\n",
        "#4\n",
        "head(z,3)\n",
        "#5\n",
        "head(x,2)*tail(y,2)"
      ],
      "execution_count": null,
      "outputs": [
        {
          "output_type": "display_data",
          "data": {
            "text/plain": [
              "[1]  8 13  5 10 19"
            ],
            "text/latex": "\\begin{enumerate*}\n\\item 8\n\\item 13\n\\item 5\n\\item 10\n\\item 19\n\\end{enumerate*}\n",
            "text/markdown": "1. 8\n2. 13\n3. 5\n4. 10\n5. 19\n\n\n",
            "text/html": [
              "<style>\n",
              ".list-inline {list-style: none; margin:0; padding: 0}\n",
              ".list-inline>li {display: inline-block}\n",
              ".list-inline>li:not(:last-child)::after {content: \"\\00b7\"; padding: 0 .5ex}\n",
              "</style>\n",
              "<ol class=list-inline><li>8</li><li>13</li><li>5</li><li>10</li><li>19</li></ol>\n"
            ]
          },
          "metadata": {}
        },
        {
          "output_type": "display_data",
          "data": {
            "text/plain": [
              "[1]  64 169  25 100 361"
            ],
            "text/latex": "\\begin{enumerate*}\n\\item 64\n\\item 169\n\\item 25\n\\item 100\n\\item 361\n\\end{enumerate*}\n",
            "text/markdown": "1. 64\n2. 169\n3. 25\n4. 100\n5. 361\n\n\n",
            "text/html": [
              "<style>\n",
              ".list-inline {list-style: none; margin:0; padding: 0}\n",
              ".list-inline>li {display: inline-block}\n",
              ".list-inline>li:not(:last-child)::after {content: \"\\00b7\"; padding: 0 .5ex}\n",
              "</style>\n",
              "<ol class=list-inline><li>64</li><li>169</li><li>25</li><li>100</li><li>361</li></ol>\n"
            ]
          },
          "metadata": {}
        },
        {
          "output_type": "display_data",
          "data": {
            "text/plain": [
              "[1] FALSE FALSE FALSE  TRUE  TRUE"
            ],
            "text/latex": "\\begin{enumerate*}\n\\item FALSE\n\\item FALSE\n\\item FALSE\n\\item TRUE\n\\item TRUE\n\\end{enumerate*}\n",
            "text/markdown": "1. FALSE\n2. FALSE\n3. FALSE\n4. TRUE\n5. TRUE\n\n\n",
            "text/html": [
              "<style>\n",
              ".list-inline {list-style: none; margin:0; padding: 0}\n",
              ".list-inline>li {display: inline-block}\n",
              ".list-inline>li:not(:last-child)::after {content: \"\\00b7\"; padding: 0 .5ex}\n",
              "</style>\n",
              "<ol class=list-inline><li>FALSE</li><li>FALSE</li><li>FALSE</li><li>TRUE</li><li>TRUE</li></ol>\n"
            ]
          },
          "metadata": {}
        },
        {
          "output_type": "display_data",
          "data": {
            "text/plain": [
              "[1] FALSE FALSE FALSE"
            ],
            "text/latex": "\\begin{enumerate*}\n\\item FALSE\n\\item FALSE\n\\item FALSE\n\\end{enumerate*}\n",
            "text/markdown": "1. FALSE\n2. FALSE\n3. FALSE\n\n\n",
            "text/html": [
              "<style>\n",
              ".list-inline {list-style: none; margin:0; padding: 0}\n",
              ".list-inline>li {display: inline-block}\n",
              ".list-inline>li:not(:last-child)::after {content: \"\\00b7\"; padding: 0 .5ex}\n",
              "</style>\n",
              "<ol class=list-inline><li>FALSE</li><li>FALSE</li><li>FALSE</li></ol>\n"
            ]
          },
          "metadata": {}
        },
        {
          "output_type": "display_data",
          "data": {
            "text/plain": [
              "[1]  6 54"
            ],
            "text/latex": "\\begin{enumerate*}\n\\item 6\n\\item 54\n\\end{enumerate*}\n",
            "text/markdown": "1. 6\n2. 54\n\n\n",
            "text/html": [
              "<style>\n",
              ".list-inline {list-style: none; margin:0; padding: 0}\n",
              ".list-inline>li {display: inline-block}\n",
              ".list-inline>li:not(:last-child)::after {content: \"\\00b7\"; padding: 0 .5ex}\n",
              "</style>\n",
              "<ol class=list-inline><li>6</li><li>54</li></ol>\n"
            ]
          },
          "metadata": {}
        }
      ]
    },
    {
      "cell_type": "code",
      "source": [
        "x <- c(1,2,3,4)\n",
        "x\n",
        "y <- c(5,6)\n",
        "y\n",
        "a <-x+y\n",
        "a\n",
        "rbind(x,y)"
      ],
      "metadata": {
        "colab": {
          "base_uri": "https://localhost:8080/",
          "height": 166
        },
        "id": "BYSIO4C5Ku7F",
        "outputId": "21269ee9-d8f7-44ee-81d1-2213be08e44d"
      },
      "execution_count": null,
      "outputs": [
        {
          "output_type": "display_data",
          "data": {
            "text/html": [
              "<style>\n",
              ".list-inline {list-style: none; margin:0; padding: 0}\n",
              ".list-inline>li {display: inline-block}\n",
              ".list-inline>li:not(:last-child)::after {content: \"\\00b7\"; padding: 0 .5ex}\n",
              "</style>\n",
              "<ol class=list-inline><li>1</li><li>2</li><li>3</li><li>4</li></ol>\n"
            ],
            "text/markdown": "1. 1\n2. 2\n3. 3\n4. 4\n\n\n",
            "text/latex": "\\begin{enumerate*}\n\\item 1\n\\item 2\n\\item 3\n\\item 4\n\\end{enumerate*}\n",
            "text/plain": [
              "[1] 1 2 3 4"
            ]
          },
          "metadata": {}
        },
        {
          "output_type": "display_data",
          "data": {
            "text/html": [
              "<style>\n",
              ".list-inline {list-style: none; margin:0; padding: 0}\n",
              ".list-inline>li {display: inline-block}\n",
              ".list-inline>li:not(:last-child)::after {content: \"\\00b7\"; padding: 0 .5ex}\n",
              "</style>\n",
              "<ol class=list-inline><li>5</li><li>6</li></ol>\n"
            ],
            "text/markdown": "1. 5\n2. 6\n\n\n",
            "text/latex": "\\begin{enumerate*}\n\\item 5\n\\item 6\n\\end{enumerate*}\n",
            "text/plain": [
              "[1] 5 6"
            ]
          },
          "metadata": {}
        },
        {
          "output_type": "display_data",
          "data": {
            "text/html": [
              "<style>\n",
              ".list-inline {list-style: none; margin:0; padding: 0}\n",
              ".list-inline>li {display: inline-block}\n",
              ".list-inline>li:not(:last-child)::after {content: \"\\00b7\"; padding: 0 .5ex}\n",
              "</style>\n",
              "<ol class=list-inline><li>6</li><li>8</li><li>8</li><li>10</li></ol>\n"
            ],
            "text/markdown": "1. 6\n2. 8\n3. 8\n4. 10\n\n\n",
            "text/latex": "\\begin{enumerate*}\n\\item 6\n\\item 8\n\\item 8\n\\item 10\n\\end{enumerate*}\n",
            "text/plain": [
              "[1]  6  8  8 10"
            ]
          },
          "metadata": {}
        },
        {
          "output_type": "display_data",
          "data": {
            "text/html": [
              "<table class=\"dataframe\">\n",
              "<caption>A matrix: 2 × 4 of type dbl</caption>\n",
              "<tbody>\n",
              "\t<tr><th scope=row>x</th><td>1</td><td>2</td><td>3</td><td>4</td></tr>\n",
              "\t<tr><th scope=row>y</th><td>5</td><td>6</td><td>5</td><td>6</td></tr>\n",
              "</tbody>\n",
              "</table>\n"
            ],
            "text/markdown": "\nA matrix: 2 × 4 of type dbl\n\n| x | 1 | 2 | 3 | 4 |\n| y | 5 | 6 | 5 | 6 |\n\n",
            "text/latex": "A matrix: 2 × 4 of type dbl\n\\begin{tabular}{r|llll}\n\tx & 1 & 2 & 3 & 4\\\\\n\ty & 5 & 6 & 5 & 6\\\\\n\\end{tabular}\n",
            "text/plain": [
              "  [,1] [,2] [,3] [,4]\n",
              "x 1    2    3    4   \n",
              "y 5    6    5    6   "
            ]
          },
          "metadata": {}
        }
      ]
    },
    {
      "cell_type": "code",
      "source": [
        "z <-c(2353,12.2,NA,20)\n",
        "z\n",
        "class(z)\n",
        "prod(z)\n",
        "prod(na.omit(z))\n",
        "sum(z)\n",
        "sum(na.omit(z))"
      ],
      "metadata": {
        "colab": {
          "base_uri": "https://localhost:8080/",
          "height": 121
        },
        "id": "DT_IE26UKu-D",
        "outputId": "1f9bf675-5c16-403f-c0d0-973fe4b90c73"
      },
      "execution_count": null,
      "outputs": [
        {
          "output_type": "display_data",
          "data": {
            "text/html": [
              "<style>\n",
              ".list-inline {list-style: none; margin:0; padding: 0}\n",
              ".list-inline>li {display: inline-block}\n",
              ".list-inline>li:not(:last-child)::after {content: \"\\00b7\"; padding: 0 .5ex}\n",
              "</style>\n",
              "<ol class=list-inline><li>2353</li><li>12.2</li><li>&lt;NA&gt;</li><li>20</li></ol>\n"
            ],
            "text/markdown": "1. 2353\n2. 12.2\n3. &lt;NA&gt;\n4. 20\n\n\n",
            "text/latex": "\\begin{enumerate*}\n\\item 2353\n\\item 12.2\n\\item <NA>\n\\item 20\n\\end{enumerate*}\n",
            "text/plain": [
              "[1] 2353.0   12.2     NA   20.0"
            ]
          },
          "metadata": {}
        },
        {
          "output_type": "display_data",
          "data": {
            "text/html": [
              "'numeric'"
            ],
            "text/markdown": "'numeric'",
            "text/latex": "'numeric'",
            "text/plain": [
              "[1] \"numeric\""
            ]
          },
          "metadata": {}
        },
        {
          "output_type": "display_data",
          "data": {
            "text/html": [
              "&lt;NA&gt;"
            ],
            "text/markdown": "&lt;NA&gt;",
            "text/latex": "<NA>",
            "text/plain": [
              "[1] NA"
            ]
          },
          "metadata": {}
        },
        {
          "output_type": "display_data",
          "data": {
            "text/html": [
              "574132"
            ],
            "text/markdown": "574132",
            "text/latex": "574132",
            "text/plain": [
              "[1] 574132"
            ]
          },
          "metadata": {}
        },
        {
          "output_type": "display_data",
          "data": {
            "text/html": [
              "&lt;NA&gt;"
            ],
            "text/markdown": "&lt;NA&gt;",
            "text/latex": "<NA>",
            "text/plain": [
              "[1] NA"
            ]
          },
          "metadata": {}
        },
        {
          "output_type": "display_data",
          "data": {
            "text/html": [
              "2385.2"
            ],
            "text/markdown": "2385.2",
            "text/latex": "2385.2",
            "text/plain": [
              "[1] 2385.2"
            ]
          },
          "metadata": {}
        }
      ]
    },
    {
      "cell_type": "markdown",
      "metadata": {
        "id": "95vJgG3maEF-"
      },
      "source": [
        "# **2.Operations in R**"
      ]
    },
    {
      "cell_type": "code",
      "source": [
        "1+1 ; 2*9 ; 3-7"
      ],
      "metadata": {
        "colab": {
          "base_uri": "https://localhost:8080/",
          "height": 69
        },
        "id": "WMc4sIjFQ81c",
        "outputId": "cadb34c6-9c0e-466c-8271-9dc89189146d"
      },
      "execution_count": null,
      "outputs": [
        {
          "output_type": "display_data",
          "data": {
            "text/html": [
              "2"
            ],
            "text/markdown": "2",
            "text/latex": "2",
            "text/plain": [
              "[1] 2"
            ]
          },
          "metadata": {}
        },
        {
          "output_type": "display_data",
          "data": {
            "text/html": [
              "18"
            ],
            "text/markdown": "18",
            "text/latex": "18",
            "text/plain": [
              "[1] 18"
            ]
          },
          "metadata": {}
        },
        {
          "output_type": "display_data",
          "data": {
            "text/html": [
              "-4"
            ],
            "text/markdown": "-4",
            "text/latex": "-4",
            "text/plain": [
              "[1] -4"
            ]
          },
          "metadata": {}
        }
      ]
    },
    {
      "cell_type": "code",
      "source": [
        "factorial(5)\n",
        "sqrt(64)\n",
        "round(8.36987551,digits = 1)\n",
        "abs(-89.3)"
      ],
      "metadata": {
        "colab": {
          "base_uri": "https://localhost:8080/",
          "height": 86
        },
        "id": "KBC44-DQRLVc",
        "outputId": "7f2a9e0d-c0c8-4dae-f349-1803d9def78d"
      },
      "execution_count": null,
      "outputs": [
        {
          "output_type": "display_data",
          "data": {
            "text/html": [
              "120"
            ],
            "text/markdown": "120",
            "text/latex": "120",
            "text/plain": [
              "[1] 120"
            ]
          },
          "metadata": {}
        },
        {
          "output_type": "display_data",
          "data": {
            "text/html": [
              "8"
            ],
            "text/markdown": "8",
            "text/latex": "8",
            "text/plain": [
              "[1] 8"
            ]
          },
          "metadata": {}
        },
        {
          "output_type": "display_data",
          "data": {
            "text/html": [
              "8.4"
            ],
            "text/markdown": "8.4",
            "text/latex": "8.4",
            "text/plain": [
              "[1] 8.4"
            ]
          },
          "metadata": {}
        },
        {
          "output_type": "display_data",
          "data": {
            "text/html": [
              "89.3"
            ],
            "text/markdown": "89.3",
            "text/latex": "89.3",
            "text/plain": [
              "[1] 89.3"
            ]
          },
          "metadata": {}
        }
      ]
    },
    {
      "cell_type": "code",
      "source": [
        "#floar division\n",
        "20%/%11\n",
        "#modulo\n",
        "20%%11"
      ],
      "metadata": {
        "colab": {
          "base_uri": "https://localhost:8080/",
          "height": 52
        },
        "id": "HbXJIdvSSUj4",
        "outputId": "8e1e3bff-bd3b-4e09-978b-8d7d532ea108"
      },
      "execution_count": null,
      "outputs": [
        {
          "output_type": "display_data",
          "data": {
            "text/html": [
              "1"
            ],
            "text/markdown": "1",
            "text/latex": "1",
            "text/plain": [
              "[1] 1"
            ]
          },
          "metadata": {}
        },
        {
          "output_type": "display_data",
          "data": {
            "text/html": [
              "9"
            ],
            "text/markdown": "9",
            "text/latex": "9",
            "text/plain": [
              "[1] 9"
            ]
          },
          "metadata": {}
        }
      ]
    },
    {
      "cell_type": "code",
      "source": [
        "x = 1:10\n",
        "x\n",
        "\n",
        "length(x)\n",
        "x[2]\n",
        "x[-2] #omit the 2nd element\n",
        "x[-c(1:3)] #omit the 1:3 elements"
      ],
      "metadata": {
        "colab": {
          "base_uri": "https://localhost:8080/",
          "height": 104
        },
        "id": "c3yaFjvcStr8",
        "outputId": "d5bc37ab-9bb7-44b7-e081-65e9d6a5cf64"
      },
      "execution_count": null,
      "outputs": [
        {
          "output_type": "display_data",
          "data": {
            "text/html": [
              "<style>\n",
              ".list-inline {list-style: none; margin:0; padding: 0}\n",
              ".list-inline>li {display: inline-block}\n",
              ".list-inline>li:not(:last-child)::after {content: \"\\00b7\"; padding: 0 .5ex}\n",
              "</style>\n",
              "<ol class=list-inline><li>1</li><li>2</li><li>3</li><li>4</li><li>5</li><li>6</li><li>7</li><li>8</li><li>9</li><li>10</li></ol>\n"
            ],
            "text/markdown": "1. 1\n2. 2\n3. 3\n4. 4\n5. 5\n6. 6\n7. 7\n8. 8\n9. 9\n10. 10\n\n\n",
            "text/latex": "\\begin{enumerate*}\n\\item 1\n\\item 2\n\\item 3\n\\item 4\n\\item 5\n\\item 6\n\\item 7\n\\item 8\n\\item 9\n\\item 10\n\\end{enumerate*}\n",
            "text/plain": [
              " [1]  1  2  3  4  5  6  7  8  9 10"
            ]
          },
          "metadata": {}
        },
        {
          "output_type": "display_data",
          "data": {
            "text/html": [
              "10"
            ],
            "text/markdown": "10",
            "text/latex": "10",
            "text/plain": [
              "[1] 10"
            ]
          },
          "metadata": {}
        },
        {
          "output_type": "display_data",
          "data": {
            "text/html": [
              "2"
            ],
            "text/markdown": "2",
            "text/latex": "2",
            "text/plain": [
              "[1] 2"
            ]
          },
          "metadata": {}
        },
        {
          "output_type": "display_data",
          "data": {
            "text/html": [
              "<style>\n",
              ".list-inline {list-style: none; margin:0; padding: 0}\n",
              ".list-inline>li {display: inline-block}\n",
              ".list-inline>li:not(:last-child)::after {content: \"\\00b7\"; padding: 0 .5ex}\n",
              "</style>\n",
              "<ol class=list-inline><li>1</li><li>3</li><li>4</li><li>5</li><li>6</li><li>7</li><li>8</li><li>9</li><li>10</li></ol>\n"
            ],
            "text/markdown": "1. 1\n2. 3\n3. 4\n4. 5\n5. 6\n6. 7\n7. 8\n8. 9\n9. 10\n\n\n",
            "text/latex": "\\begin{enumerate*}\n\\item 1\n\\item 3\n\\item 4\n\\item 5\n\\item 6\n\\item 7\n\\item 8\n\\item 9\n\\item 10\n\\end{enumerate*}\n",
            "text/plain": [
              "[1]  1  3  4  5  6  7  8  9 10"
            ]
          },
          "metadata": {}
        },
        {
          "output_type": "display_data",
          "data": {
            "text/html": [
              "<style>\n",
              ".list-inline {list-style: none; margin:0; padding: 0}\n",
              ".list-inline>li {display: inline-block}\n",
              ".list-inline>li:not(:last-child)::after {content: \"\\00b7\"; padding: 0 .5ex}\n",
              "</style>\n",
              "<ol class=list-inline><li>4</li><li>5</li><li>6</li><li>7</li><li>8</li><li>9</li><li>10</li></ol>\n"
            ],
            "text/markdown": "1. 4\n2. 5\n3. 6\n4. 7\n5. 8\n6. 9\n7. 10\n\n\n",
            "text/latex": "\\begin{enumerate*}\n\\item 4\n\\item 5\n\\item 6\n\\item 7\n\\item 8\n\\item 9\n\\item 10\n\\end{enumerate*}\n",
            "text/plain": [
              "[1]  4  5  6  7  8  9 10"
            ]
          },
          "metadata": {}
        }
      ]
    },
    {
      "cell_type": "code",
      "source": [
        "x = 1:10\n",
        "x\n",
        "\n",
        "head(x,3)\n",
        "tail(x,5)\n",
        "sqrt(x)\n",
        "\n",
        "x[c(1,2,5)]\n",
        "x[x>3]\n",
        "x[x<2 | x>6]\n",
        "which(x == max(x))"
      ],
      "metadata": {
        "colab": {
          "base_uri": "https://localhost:8080/",
          "height": 156
        },
        "id": "457F_b0lTT1K",
        "outputId": "61fa279c-0a7c-478e-99c6-343930514305"
      },
      "execution_count": null,
      "outputs": [
        {
          "output_type": "display_data",
          "data": {
            "text/html": [
              "<style>\n",
              ".list-inline {list-style: none; margin:0; padding: 0}\n",
              ".list-inline>li {display: inline-block}\n",
              ".list-inline>li:not(:last-child)::after {content: \"\\00b7\"; padding: 0 .5ex}\n",
              "</style>\n",
              "<ol class=list-inline><li>1</li><li>2</li><li>3</li><li>4</li><li>5</li><li>6</li><li>7</li><li>8</li><li>9</li><li>10</li></ol>\n"
            ],
            "text/markdown": "1. 1\n2. 2\n3. 3\n4. 4\n5. 5\n6. 6\n7. 7\n8. 8\n9. 9\n10. 10\n\n\n",
            "text/latex": "\\begin{enumerate*}\n\\item 1\n\\item 2\n\\item 3\n\\item 4\n\\item 5\n\\item 6\n\\item 7\n\\item 8\n\\item 9\n\\item 10\n\\end{enumerate*}\n",
            "text/plain": [
              " [1]  1  2  3  4  5  6  7  8  9 10"
            ]
          },
          "metadata": {}
        },
        {
          "output_type": "display_data",
          "data": {
            "text/html": [
              "<style>\n",
              ".list-inline {list-style: none; margin:0; padding: 0}\n",
              ".list-inline>li {display: inline-block}\n",
              ".list-inline>li:not(:last-child)::after {content: \"\\00b7\"; padding: 0 .5ex}\n",
              "</style>\n",
              "<ol class=list-inline><li>1</li><li>2</li><li>3</li></ol>\n"
            ],
            "text/markdown": "1. 1\n2. 2\n3. 3\n\n\n",
            "text/latex": "\\begin{enumerate*}\n\\item 1\n\\item 2\n\\item 3\n\\end{enumerate*}\n",
            "text/plain": [
              "[1] 1 2 3"
            ]
          },
          "metadata": {}
        },
        {
          "output_type": "display_data",
          "data": {
            "text/html": [
              "<style>\n",
              ".list-inline {list-style: none; margin:0; padding: 0}\n",
              ".list-inline>li {display: inline-block}\n",
              ".list-inline>li:not(:last-child)::after {content: \"\\00b7\"; padding: 0 .5ex}\n",
              "</style>\n",
              "<ol class=list-inline><li>6</li><li>7</li><li>8</li><li>9</li><li>10</li></ol>\n"
            ],
            "text/markdown": "1. 6\n2. 7\n3. 8\n4. 9\n5. 10\n\n\n",
            "text/latex": "\\begin{enumerate*}\n\\item 6\n\\item 7\n\\item 8\n\\item 9\n\\item 10\n\\end{enumerate*}\n",
            "text/plain": [
              "[1]  6  7  8  9 10"
            ]
          },
          "metadata": {}
        },
        {
          "output_type": "display_data",
          "data": {
            "text/html": [
              "<style>\n",
              ".list-inline {list-style: none; margin:0; padding: 0}\n",
              ".list-inline>li {display: inline-block}\n",
              ".list-inline>li:not(:last-child)::after {content: \"\\00b7\"; padding: 0 .5ex}\n",
              "</style>\n",
              "<ol class=list-inline><li>1</li><li>1.4142135623731</li><li>1.73205080756888</li><li>2</li><li>2.23606797749979</li><li>2.44948974278318</li><li>2.64575131106459</li><li>2.82842712474619</li><li>3</li><li>3.16227766016838</li></ol>\n"
            ],
            "text/markdown": "1. 1\n2. 1.4142135623731\n3. 1.73205080756888\n4. 2\n5. 2.23606797749979\n6. 2.44948974278318\n7. 2.64575131106459\n8. 2.82842712474619\n9. 3\n10. 3.16227766016838\n\n\n",
            "text/latex": "\\begin{enumerate*}\n\\item 1\n\\item 1.4142135623731\n\\item 1.73205080756888\n\\item 2\n\\item 2.23606797749979\n\\item 2.44948974278318\n\\item 2.64575131106459\n\\item 2.82842712474619\n\\item 3\n\\item 3.16227766016838\n\\end{enumerate*}\n",
            "text/plain": [
              " [1] 1.000000 1.414214 1.732051 2.000000 2.236068 2.449490 2.645751 2.828427\n",
              " [9] 3.000000 3.162278"
            ]
          },
          "metadata": {}
        },
        {
          "output_type": "display_data",
          "data": {
            "text/html": [
              "<style>\n",
              ".list-inline {list-style: none; margin:0; padding: 0}\n",
              ".list-inline>li {display: inline-block}\n",
              ".list-inline>li:not(:last-child)::after {content: \"\\00b7\"; padding: 0 .5ex}\n",
              "</style>\n",
              "<ol class=list-inline><li>1</li><li>2</li><li>5</li></ol>\n"
            ],
            "text/markdown": "1. 1\n2. 2\n3. 5\n\n\n",
            "text/latex": "\\begin{enumerate*}\n\\item 1\n\\item 2\n\\item 5\n\\end{enumerate*}\n",
            "text/plain": [
              "[1] 1 2 5"
            ]
          },
          "metadata": {}
        },
        {
          "output_type": "display_data",
          "data": {
            "text/html": [
              "<style>\n",
              ".list-inline {list-style: none; margin:0; padding: 0}\n",
              ".list-inline>li {display: inline-block}\n",
              ".list-inline>li:not(:last-child)::after {content: \"\\00b7\"; padding: 0 .5ex}\n",
              "</style>\n",
              "<ol class=list-inline><li>4</li><li>5</li><li>6</li><li>7</li><li>8</li><li>9</li><li>10</li></ol>\n"
            ],
            "text/markdown": "1. 4\n2. 5\n3. 6\n4. 7\n5. 8\n6. 9\n7. 10\n\n\n",
            "text/latex": "\\begin{enumerate*}\n\\item 4\n\\item 5\n\\item 6\n\\item 7\n\\item 8\n\\item 9\n\\item 10\n\\end{enumerate*}\n",
            "text/plain": [
              "[1]  4  5  6  7  8  9 10"
            ]
          },
          "metadata": {}
        },
        {
          "output_type": "display_data",
          "data": {
            "text/html": [
              "<style>\n",
              ".list-inline {list-style: none; margin:0; padding: 0}\n",
              ".list-inline>li {display: inline-block}\n",
              ".list-inline>li:not(:last-child)::after {content: \"\\00b7\"; padding: 0 .5ex}\n",
              "</style>\n",
              "<ol class=list-inline><li>1</li><li>7</li><li>8</li><li>9</li><li>10</li></ol>\n"
            ],
            "text/markdown": "1. 1\n2. 7\n3. 8\n4. 9\n5. 10\n\n\n",
            "text/latex": "\\begin{enumerate*}\n\\item 1\n\\item 7\n\\item 8\n\\item 9\n\\item 10\n\\end{enumerate*}\n",
            "text/plain": [
              "[1]  1  7  8  9 10"
            ]
          },
          "metadata": {}
        },
        {
          "output_type": "display_data",
          "data": {
            "text/html": [
              "10"
            ],
            "text/markdown": "10",
            "text/latex": "10",
            "text/plain": [
              "[1] 10"
            ]
          },
          "metadata": {}
        }
      ]
    },
    {
      "cell_type": "code",
      "source": [
        "y<-c(12,34,6,48,-3,-28)\n",
        "\n",
        "sort(y)\n",
        "sort(y, decreasing = T)\n",
        "\n",
        "order(y)\n",
        "order(y,decreasing = T)"
      ],
      "metadata": {
        "colab": {
          "base_uri": "https://localhost:8080/",
          "height": 86
        },
        "id": "6fIUxYagTwfQ",
        "outputId": "d0e135e2-253d-43ad-c114-bcd754c5b5fb"
      },
      "execution_count": null,
      "outputs": [
        {
          "output_type": "display_data",
          "data": {
            "text/html": [
              "<style>\n",
              ".list-inline {list-style: none; margin:0; padding: 0}\n",
              ".list-inline>li {display: inline-block}\n",
              ".list-inline>li:not(:last-child)::after {content: \"\\00b7\"; padding: 0 .5ex}\n",
              "</style>\n",
              "<ol class=list-inline><li>-28</li><li>-3</li><li>6</li><li>12</li><li>34</li><li>48</li></ol>\n"
            ],
            "text/markdown": "1. -28\n2. -3\n3. 6\n4. 12\n5. 34\n6. 48\n\n\n",
            "text/latex": "\\begin{enumerate*}\n\\item -28\n\\item -3\n\\item 6\n\\item 12\n\\item 34\n\\item 48\n\\end{enumerate*}\n",
            "text/plain": [
              "[1] -28  -3   6  12  34  48"
            ]
          },
          "metadata": {}
        },
        {
          "output_type": "display_data",
          "data": {
            "text/html": [
              "<style>\n",
              ".list-inline {list-style: none; margin:0; padding: 0}\n",
              ".list-inline>li {display: inline-block}\n",
              ".list-inline>li:not(:last-child)::after {content: \"\\00b7\"; padding: 0 .5ex}\n",
              "</style>\n",
              "<ol class=list-inline><li>48</li><li>34</li><li>12</li><li>6</li><li>-3</li><li>-28</li></ol>\n"
            ],
            "text/markdown": "1. 48\n2. 34\n3. 12\n4. 6\n5. -3\n6. -28\n\n\n",
            "text/latex": "\\begin{enumerate*}\n\\item 48\n\\item 34\n\\item 12\n\\item 6\n\\item -3\n\\item -28\n\\end{enumerate*}\n",
            "text/plain": [
              "[1]  48  34  12   6  -3 -28"
            ]
          },
          "metadata": {}
        },
        {
          "output_type": "display_data",
          "data": {
            "text/html": [
              "<style>\n",
              ".list-inline {list-style: none; margin:0; padding: 0}\n",
              ".list-inline>li {display: inline-block}\n",
              ".list-inline>li:not(:last-child)::after {content: \"\\00b7\"; padding: 0 .5ex}\n",
              "</style>\n",
              "<ol class=list-inline><li>6</li><li>5</li><li>3</li><li>1</li><li>2</li><li>4</li></ol>\n"
            ],
            "text/markdown": "1. 6\n2. 5\n3. 3\n4. 1\n5. 2\n6. 4\n\n\n",
            "text/latex": "\\begin{enumerate*}\n\\item 6\n\\item 5\n\\item 3\n\\item 1\n\\item 2\n\\item 4\n\\end{enumerate*}\n",
            "text/plain": [
              "[1] 6 5 3 1 2 4"
            ]
          },
          "metadata": {}
        },
        {
          "output_type": "display_data",
          "data": {
            "text/html": [
              "<style>\n",
              ".list-inline {list-style: none; margin:0; padding: 0}\n",
              ".list-inline>li {display: inline-block}\n",
              ".list-inline>li:not(:last-child)::after {content: \"\\00b7\"; padding: 0 .5ex}\n",
              "</style>\n",
              "<ol class=list-inline><li>4</li><li>2</li><li>1</li><li>3</li><li>5</li><li>6</li></ol>\n"
            ],
            "text/markdown": "1. 4\n2. 2\n3. 1\n4. 3\n5. 5\n6. 6\n\n\n",
            "text/latex": "\\begin{enumerate*}\n\\item 4\n\\item 2\n\\item 1\n\\item 3\n\\item 5\n\\item 6\n\\end{enumerate*}\n",
            "text/plain": [
              "[1] 4 2 1 3 5 6"
            ]
          },
          "metadata": {}
        }
      ]
    },
    {
      "cell_type": "code",
      "source": [
        "sample(1:40,5)\n",
        "sample(1:50,20, replace = T)"
      ],
      "metadata": {
        "colab": {
          "base_uri": "https://localhost:8080/",
          "height": 52
        },
        "id": "XdbQxcu7VMJO",
        "outputId": "f9683811-b20f-4025-f03f-5de55f91efad"
      },
      "execution_count": null,
      "outputs": [
        {
          "output_type": "display_data",
          "data": {
            "text/html": [
              "<style>\n",
              ".list-inline {list-style: none; margin:0; padding: 0}\n",
              ".list-inline>li {display: inline-block}\n",
              ".list-inline>li:not(:last-child)::after {content: \"\\00b7\"; padding: 0 .5ex}\n",
              "</style>\n",
              "<ol class=list-inline><li>10</li><li>37</li><li>38</li><li>16</li><li>22</li></ol>\n"
            ],
            "text/markdown": "1. 10\n2. 37\n3. 38\n4. 16\n5. 22\n\n\n",
            "text/latex": "\\begin{enumerate*}\n\\item 10\n\\item 37\n\\item 38\n\\item 16\n\\item 22\n\\end{enumerate*}\n",
            "text/plain": [
              "[1] 10 37 38 16 22"
            ]
          },
          "metadata": {}
        },
        {
          "output_type": "display_data",
          "data": {
            "text/html": [
              "<style>\n",
              ".list-inline {list-style: none; margin:0; padding: 0}\n",
              ".list-inline>li {display: inline-block}\n",
              ".list-inline>li:not(:last-child)::after {content: \"\\00b7\"; padding: 0 .5ex}\n",
              "</style>\n",
              "<ol class=list-inline><li>7</li><li>21</li><li>23</li><li>2</li><li>45</li><li>26</li><li>18</li><li>15</li><li>20</li><li>43</li><li>47</li><li>26</li><li>15</li><li>12</li><li>17</li><li>45</li><li>19</li><li>44</li><li>3</li><li>6</li></ol>\n"
            ],
            "text/markdown": "1. 7\n2. 21\n3. 23\n4. 2\n5. 45\n6. 26\n7. 18\n8. 15\n9. 20\n10. 43\n11. 47\n12. 26\n13. 15\n14. 12\n15. 17\n16. 45\n17. 19\n18. 44\n19. 3\n20. 6\n\n\n",
            "text/latex": "\\begin{enumerate*}\n\\item 7\n\\item 21\n\\item 23\n\\item 2\n\\item 45\n\\item 26\n\\item 18\n\\item 15\n\\item 20\n\\item 43\n\\item 47\n\\item 26\n\\item 15\n\\item 12\n\\item 17\n\\item 45\n\\item 19\n\\item 44\n\\item 3\n\\item 6\n\\end{enumerate*}\n",
            "text/plain": [
              " [1]  7 21 23  2 45 26 18 15 20 43 47 26 15 12 17 45 19 44  3  6"
            ]
          },
          "metadata": {}
        }
      ]
    },
    {
      "cell_type": "code",
      "metadata": {
        "colab": {
          "base_uri": "https://localhost:8080/",
          "height": 521
        },
        "id": "OqtRFbChaemu",
        "outputId": "40e804ff-b1c2-4f99-a58b-757b393e92c5"
      },
      "source": [
        "#1\n",
        "10*3\n",
        "#2\n",
        "x<-5\n",
        "x*10\n",
        "#3\n",
        "y<-c(1:5)\n",
        "y\n",
        "new.y<-y+3\n",
        "new.y\n",
        "#4\n",
        "z<-c(5,8,10,15,2,89)\n",
        "z>10\n",
        "#5\n",
        "v<-seq(20,50)\n",
        "v\n",
        "max<-max(v)\n",
        "max\n",
        "min<-min(v)\n",
        "min\n",
        "mean(v)\n",
        "median(v)\n",
        "sum(v)\n",
        "sd(v)\n",
        "var(v)\n",
        "length(v)\n",
        "#6\n",
        "factorial(12)\n",
        "#7\n",
        "round(152.238913862,digits = 1)\n",
        "round(152.238913862,digits = 2)\n",
        "round(152.238913862,digits = 7)\n",
        "#8\n",
        "#integer quotient\n",
        "1734%/%6\n",
        "#modulo\n",
        "1734%%6\n",
        "#9\n",
        "a<-c(21,49,160,72,86,356,55,67,91,30)\n",
        "a\n",
        "length(a)\n",
        "a[6]\n",
        "head(a,4)\n",
        "tail(a,4)\n",
        "a[a<100]\n",
        "#10\n",
        "b<-c(5,8,1,2,9,-8,9,0)\n",
        "sort(b)\n",
        "sort(b,decreasing = TRUE)\n",
        "#11\n",
        "c<-sample(-50:50,10,replace = F)\n",
        "c"
      ],
      "execution_count": null,
      "outputs": [
        {
          "output_type": "display_data",
          "data": {
            "text/plain": [
              "[1] 30"
            ],
            "text/latex": "30",
            "text/markdown": "30",
            "text/html": [
              "30"
            ]
          },
          "metadata": {}
        },
        {
          "output_type": "display_data",
          "data": {
            "text/plain": [
              "[1] 50"
            ],
            "text/latex": "50",
            "text/markdown": "50",
            "text/html": [
              "50"
            ]
          },
          "metadata": {}
        },
        {
          "output_type": "display_data",
          "data": {
            "text/plain": [
              "[1] 1 2 3 4 5"
            ],
            "text/latex": "\\begin{enumerate*}\n\\item 1\n\\item 2\n\\item 3\n\\item 4\n\\item 5\n\\end{enumerate*}\n",
            "text/markdown": "1. 1\n2. 2\n3. 3\n4. 4\n5. 5\n\n\n",
            "text/html": [
              "<style>\n",
              ".list-inline {list-style: none; margin:0; padding: 0}\n",
              ".list-inline>li {display: inline-block}\n",
              ".list-inline>li:not(:last-child)::after {content: \"\\00b7\"; padding: 0 .5ex}\n",
              "</style>\n",
              "<ol class=list-inline><li>1</li><li>2</li><li>3</li><li>4</li><li>5</li></ol>\n"
            ]
          },
          "metadata": {}
        },
        {
          "output_type": "display_data",
          "data": {
            "text/plain": [
              "[1] 4 5 6 7 8"
            ],
            "text/latex": "\\begin{enumerate*}\n\\item 4\n\\item 5\n\\item 6\n\\item 7\n\\item 8\n\\end{enumerate*}\n",
            "text/markdown": "1. 4\n2. 5\n3. 6\n4. 7\n5. 8\n\n\n",
            "text/html": [
              "<style>\n",
              ".list-inline {list-style: none; margin:0; padding: 0}\n",
              ".list-inline>li {display: inline-block}\n",
              ".list-inline>li:not(:last-child)::after {content: \"\\00b7\"; padding: 0 .5ex}\n",
              "</style>\n",
              "<ol class=list-inline><li>4</li><li>5</li><li>6</li><li>7</li><li>8</li></ol>\n"
            ]
          },
          "metadata": {}
        },
        {
          "output_type": "display_data",
          "data": {
            "text/plain": [
              "[1] FALSE FALSE FALSE  TRUE FALSE  TRUE"
            ],
            "text/latex": "\\begin{enumerate*}\n\\item FALSE\n\\item FALSE\n\\item FALSE\n\\item TRUE\n\\item FALSE\n\\item TRUE\n\\end{enumerate*}\n",
            "text/markdown": "1. FALSE\n2. FALSE\n3. FALSE\n4. TRUE\n5. FALSE\n6. TRUE\n\n\n",
            "text/html": [
              "<style>\n",
              ".list-inline {list-style: none; margin:0; padding: 0}\n",
              ".list-inline>li {display: inline-block}\n",
              ".list-inline>li:not(:last-child)::after {content: \"\\00b7\"; padding: 0 .5ex}\n",
              "</style>\n",
              "<ol class=list-inline><li>FALSE</li><li>FALSE</li><li>FALSE</li><li>TRUE</li><li>FALSE</li><li>TRUE</li></ol>\n"
            ]
          },
          "metadata": {}
        },
        {
          "output_type": "display_data",
          "data": {
            "text/plain": [
              " [1] 20 21 22 23 24 25 26 27 28 29 30 31 32 33 34 35 36 37 38 39 40 41 42 43 44\n",
              "[26] 45 46 47 48 49 50"
            ],
            "text/latex": "\\begin{enumerate*}\n\\item 20\n\\item 21\n\\item 22\n\\item 23\n\\item 24\n\\item 25\n\\item 26\n\\item 27\n\\item 28\n\\item 29\n\\item 30\n\\item 31\n\\item 32\n\\item 33\n\\item 34\n\\item 35\n\\item 36\n\\item 37\n\\item 38\n\\item 39\n\\item 40\n\\item 41\n\\item 42\n\\item 43\n\\item 44\n\\item 45\n\\item 46\n\\item 47\n\\item 48\n\\item 49\n\\item 50\n\\end{enumerate*}\n",
            "text/markdown": "1. 20\n2. 21\n3. 22\n4. 23\n5. 24\n6. 25\n7. 26\n8. 27\n9. 28\n10. 29\n11. 30\n12. 31\n13. 32\n14. 33\n15. 34\n16. 35\n17. 36\n18. 37\n19. 38\n20. 39\n21. 40\n22. 41\n23. 42\n24. 43\n25. 44\n26. 45\n27. 46\n28. 47\n29. 48\n30. 49\n31. 50\n\n\n",
            "text/html": [
              "<style>\n",
              ".list-inline {list-style: none; margin:0; padding: 0}\n",
              ".list-inline>li {display: inline-block}\n",
              ".list-inline>li:not(:last-child)::after {content: \"\\00b7\"; padding: 0 .5ex}\n",
              "</style>\n",
              "<ol class=list-inline><li>20</li><li>21</li><li>22</li><li>23</li><li>24</li><li>25</li><li>26</li><li>27</li><li>28</li><li>29</li><li>30</li><li>31</li><li>32</li><li>33</li><li>34</li><li>35</li><li>36</li><li>37</li><li>38</li><li>39</li><li>40</li><li>41</li><li>42</li><li>43</li><li>44</li><li>45</li><li>46</li><li>47</li><li>48</li><li>49</li><li>50</li></ol>\n"
            ]
          },
          "metadata": {}
        },
        {
          "output_type": "display_data",
          "data": {
            "text/plain": [
              "[1] 50"
            ],
            "text/latex": "50",
            "text/markdown": "50",
            "text/html": [
              "50"
            ]
          },
          "metadata": {}
        },
        {
          "output_type": "display_data",
          "data": {
            "text/plain": [
              "[1] 20"
            ],
            "text/latex": "20",
            "text/markdown": "20",
            "text/html": [
              "20"
            ]
          },
          "metadata": {}
        },
        {
          "output_type": "display_data",
          "data": {
            "text/plain": [
              "[1] 35"
            ],
            "text/latex": "35",
            "text/markdown": "35",
            "text/html": [
              "35"
            ]
          },
          "metadata": {}
        },
        {
          "output_type": "display_data",
          "data": {
            "text/plain": [
              "[1] 35"
            ],
            "text/latex": "35",
            "text/markdown": "35",
            "text/html": [
              "35"
            ]
          },
          "metadata": {}
        },
        {
          "output_type": "display_data",
          "data": {
            "text/plain": [
              "[1] 1085"
            ],
            "text/latex": "1085",
            "text/markdown": "1085",
            "text/html": [
              "1085"
            ]
          },
          "metadata": {}
        },
        {
          "output_type": "display_data",
          "data": {
            "text/plain": [
              "[1] 9.092121"
            ],
            "text/latex": "9.0921211313239",
            "text/markdown": "9.0921211313239",
            "text/html": [
              "9.0921211313239"
            ]
          },
          "metadata": {}
        },
        {
          "output_type": "display_data",
          "data": {
            "text/plain": [
              "[1] 82.66667"
            ],
            "text/latex": "82.6666666666667",
            "text/markdown": "82.6666666666667",
            "text/html": [
              "82.6666666666667"
            ]
          },
          "metadata": {}
        },
        {
          "output_type": "display_data",
          "data": {
            "text/plain": [
              "[1] 31"
            ],
            "text/latex": "31",
            "text/markdown": "31",
            "text/html": [
              "31"
            ]
          },
          "metadata": {}
        },
        {
          "output_type": "display_data",
          "data": {
            "text/plain": [
              "[1] 479001600"
            ],
            "text/latex": "479001600",
            "text/markdown": "479001600",
            "text/html": [
              "479001600"
            ]
          },
          "metadata": {}
        },
        {
          "output_type": "display_data",
          "data": {
            "text/plain": [
              "[1] 152.2"
            ],
            "text/latex": "152.2",
            "text/markdown": "152.2",
            "text/html": [
              "152.2"
            ]
          },
          "metadata": {}
        },
        {
          "output_type": "display_data",
          "data": {
            "text/plain": [
              "[1] 152.24"
            ],
            "text/latex": "152.24",
            "text/markdown": "152.24",
            "text/html": [
              "152.24"
            ]
          },
          "metadata": {}
        },
        {
          "output_type": "display_data",
          "data": {
            "text/plain": [
              "[1] 152.2389"
            ],
            "text/latex": "152.2389139",
            "text/markdown": "152.2389139",
            "text/html": [
              "152.2389139"
            ]
          },
          "metadata": {}
        },
        {
          "output_type": "display_data",
          "data": {
            "text/plain": [
              "[1] 289"
            ],
            "text/latex": "289",
            "text/markdown": "289",
            "text/html": [
              "289"
            ]
          },
          "metadata": {}
        },
        {
          "output_type": "display_data",
          "data": {
            "text/plain": [
              "[1] 0"
            ],
            "text/latex": "0",
            "text/markdown": "0",
            "text/html": [
              "0"
            ]
          },
          "metadata": {}
        },
        {
          "output_type": "display_data",
          "data": {
            "text/plain": [
              " [1]  21  49 160  72  86 356  55  67  91  30"
            ],
            "text/latex": "\\begin{enumerate*}\n\\item 21\n\\item 49\n\\item 160\n\\item 72\n\\item 86\n\\item 356\n\\item 55\n\\item 67\n\\item 91\n\\item 30\n\\end{enumerate*}\n",
            "text/markdown": "1. 21\n2. 49\n3. 160\n4. 72\n5. 86\n6. 356\n7. 55\n8. 67\n9. 91\n10. 30\n\n\n",
            "text/html": [
              "<style>\n",
              ".list-inline {list-style: none; margin:0; padding: 0}\n",
              ".list-inline>li {display: inline-block}\n",
              ".list-inline>li:not(:last-child)::after {content: \"\\00b7\"; padding: 0 .5ex}\n",
              "</style>\n",
              "<ol class=list-inline><li>21</li><li>49</li><li>160</li><li>72</li><li>86</li><li>356</li><li>55</li><li>67</li><li>91</li><li>30</li></ol>\n"
            ]
          },
          "metadata": {}
        },
        {
          "output_type": "display_data",
          "data": {
            "text/plain": [
              "[1] 10"
            ],
            "text/latex": "10",
            "text/markdown": "10",
            "text/html": [
              "10"
            ]
          },
          "metadata": {}
        },
        {
          "output_type": "display_data",
          "data": {
            "text/plain": [
              "[1] 356"
            ],
            "text/latex": "356",
            "text/markdown": "356",
            "text/html": [
              "356"
            ]
          },
          "metadata": {}
        },
        {
          "output_type": "display_data",
          "data": {
            "text/plain": [
              "[1]  21  49 160  72"
            ],
            "text/latex": "\\begin{enumerate*}\n\\item 21\n\\item 49\n\\item 160\n\\item 72\n\\end{enumerate*}\n",
            "text/markdown": "1. 21\n2. 49\n3. 160\n4. 72\n\n\n",
            "text/html": [
              "<style>\n",
              ".list-inline {list-style: none; margin:0; padding: 0}\n",
              ".list-inline>li {display: inline-block}\n",
              ".list-inline>li:not(:last-child)::after {content: \"\\00b7\"; padding: 0 .5ex}\n",
              "</style>\n",
              "<ol class=list-inline><li>21</li><li>49</li><li>160</li><li>72</li></ol>\n"
            ]
          },
          "metadata": {}
        },
        {
          "output_type": "display_data",
          "data": {
            "text/plain": [
              "[1] 55 67 91 30"
            ],
            "text/latex": "\\begin{enumerate*}\n\\item 55\n\\item 67\n\\item 91\n\\item 30\n\\end{enumerate*}\n",
            "text/markdown": "1. 55\n2. 67\n3. 91\n4. 30\n\n\n",
            "text/html": [
              "<style>\n",
              ".list-inline {list-style: none; margin:0; padding: 0}\n",
              ".list-inline>li {display: inline-block}\n",
              ".list-inline>li:not(:last-child)::after {content: \"\\00b7\"; padding: 0 .5ex}\n",
              "</style>\n",
              "<ol class=list-inline><li>55</li><li>67</li><li>91</li><li>30</li></ol>\n"
            ]
          },
          "metadata": {}
        },
        {
          "output_type": "display_data",
          "data": {
            "text/plain": [
              "[1] 21 49 72 86 55 67 91 30"
            ],
            "text/latex": "\\begin{enumerate*}\n\\item 21\n\\item 49\n\\item 72\n\\item 86\n\\item 55\n\\item 67\n\\item 91\n\\item 30\n\\end{enumerate*}\n",
            "text/markdown": "1. 21\n2. 49\n3. 72\n4. 86\n5. 55\n6. 67\n7. 91\n8. 30\n\n\n",
            "text/html": [
              "<style>\n",
              ".list-inline {list-style: none; margin:0; padding: 0}\n",
              ".list-inline>li {display: inline-block}\n",
              ".list-inline>li:not(:last-child)::after {content: \"\\00b7\"; padding: 0 .5ex}\n",
              "</style>\n",
              "<ol class=list-inline><li>21</li><li>49</li><li>72</li><li>86</li><li>55</li><li>67</li><li>91</li><li>30</li></ol>\n"
            ]
          },
          "metadata": {}
        },
        {
          "output_type": "display_data",
          "data": {
            "text/plain": [
              "[1] -8  0  1  2  5  8  9  9"
            ],
            "text/latex": "\\begin{enumerate*}\n\\item -8\n\\item 0\n\\item 1\n\\item 2\n\\item 5\n\\item 8\n\\item 9\n\\item 9\n\\end{enumerate*}\n",
            "text/markdown": "1. -8\n2. 0\n3. 1\n4. 2\n5. 5\n6. 8\n7. 9\n8. 9\n\n\n",
            "text/html": [
              "<style>\n",
              ".list-inline {list-style: none; margin:0; padding: 0}\n",
              ".list-inline>li {display: inline-block}\n",
              ".list-inline>li:not(:last-child)::after {content: \"\\00b7\"; padding: 0 .5ex}\n",
              "</style>\n",
              "<ol class=list-inline><li>-8</li><li>0</li><li>1</li><li>2</li><li>5</li><li>8</li><li>9</li><li>9</li></ol>\n"
            ]
          },
          "metadata": {}
        },
        {
          "output_type": "display_data",
          "data": {
            "text/plain": [
              "[1]  9  9  8  5  2  1  0 -8"
            ],
            "text/latex": "\\begin{enumerate*}\n\\item 9\n\\item 9\n\\item 8\n\\item 5\n\\item 2\n\\item 1\n\\item 0\n\\item -8\n\\end{enumerate*}\n",
            "text/markdown": "1. 9\n2. 9\n3. 8\n4. 5\n5. 2\n6. 1\n7. 0\n8. -8\n\n\n",
            "text/html": [
              "<style>\n",
              ".list-inline {list-style: none; margin:0; padding: 0}\n",
              ".list-inline>li {display: inline-block}\n",
              ".list-inline>li:not(:last-child)::after {content: \"\\00b7\"; padding: 0 .5ex}\n",
              "</style>\n",
              "<ol class=list-inline><li>9</li><li>9</li><li>8</li><li>5</li><li>2</li><li>1</li><li>0</li><li>-8</li></ol>\n"
            ]
          },
          "metadata": {}
        },
        {
          "output_type": "display_data",
          "data": {
            "text/plain": [
              " [1]  23  -1  -5 -38  25 -41   8  50 -22   9"
            ],
            "text/latex": "\\begin{enumerate*}\n\\item 23\n\\item -1\n\\item -5\n\\item -38\n\\item 25\n\\item -41\n\\item 8\n\\item 50\n\\item -22\n\\item 9\n\\end{enumerate*}\n",
            "text/markdown": "1. 23\n2. -1\n3. -5\n4. -38\n5. 25\n6. -41\n7. 8\n8. 50\n9. -22\n10. 9\n\n\n",
            "text/html": [
              "<style>\n",
              ".list-inline {list-style: none; margin:0; padding: 0}\n",
              ".list-inline>li {display: inline-block}\n",
              ".list-inline>li:not(:last-child)::after {content: \"\\00b7\"; padding: 0 .5ex}\n",
              "</style>\n",
              "<ol class=list-inline><li>23</li><li>-1</li><li>-5</li><li>-38</li><li>25</li><li>-41</li><li>8</li><li>50</li><li>-22</li><li>9</li></ol>\n"
            ]
          },
          "metadata": {}
        }
      ]
    },
    {
      "cell_type": "code",
      "source": [
        "10*3\n",
        "\n",
        "x<-5\n",
        "x*10\n",
        "\n",
        "y<-c(1,2,3,4,5)\n",
        "y\n",
        "y+3\n",
        "\n",
        "z<-c(56,8,9,41,2,36)\n",
        "z>10\n",
        "\n",
        "v<-seq(20,50,1)\n",
        "v\n",
        "min(v)\n",
        "max(v)\n",
        "mean(v)\n",
        "median(v)\n",
        "sum(v)\n",
        "sd(v)\n",
        "var(v)\n",
        "length(v)\n",
        "\n",
        "factorial(12)\n",
        "\n",
        "round(v, digits = 1)\n",
        "round(v, digits = 2)\n",
        "round(v, digits = 7)\n",
        "\n",
        "1734%/%6\n",
        "1734%%6\n",
        "\n",
        "a <- c(21,49,160,72,86,356,55,67,91,30)\n",
        "a\n",
        "\n",
        "length(a)\n",
        "a[6]\n",
        "head(a,4)\n",
        "tail(a,4)\n",
        "a[a>100]\n",
        "\n",
        "B <- seq(1,16,2)\n",
        "B\n",
        "\n",
        "sort(B)\n",
        "sort(B, decreasing = T)\n",
        "\n",
        "C <- sample(-50:50,10)"
      ],
      "metadata": {
        "colab": {
          "base_uri": "https://localhost:8080/",
          "height": 520
        },
        "id": "HbCo8IfAVhVp",
        "outputId": "4ad84bb5-3f3f-409d-c9de-f94294022009"
      },
      "execution_count": null,
      "outputs": [
        {
          "output_type": "display_data",
          "data": {
            "text/html": [
              "30"
            ],
            "text/markdown": "30",
            "text/latex": "30",
            "text/plain": [
              "[1] 30"
            ]
          },
          "metadata": {}
        },
        {
          "output_type": "display_data",
          "data": {
            "text/html": [
              "50"
            ],
            "text/markdown": "50",
            "text/latex": "50",
            "text/plain": [
              "[1] 50"
            ]
          },
          "metadata": {}
        },
        {
          "output_type": "display_data",
          "data": {
            "text/html": [
              "<style>\n",
              ".list-inline {list-style: none; margin:0; padding: 0}\n",
              ".list-inline>li {display: inline-block}\n",
              ".list-inline>li:not(:last-child)::after {content: \"\\00b7\"; padding: 0 .5ex}\n",
              "</style>\n",
              "<ol class=list-inline><li>1</li><li>2</li><li>3</li><li>4</li><li>5</li></ol>\n"
            ],
            "text/markdown": "1. 1\n2. 2\n3. 3\n4. 4\n5. 5\n\n\n",
            "text/latex": "\\begin{enumerate*}\n\\item 1\n\\item 2\n\\item 3\n\\item 4\n\\item 5\n\\end{enumerate*}\n",
            "text/plain": [
              "[1] 1 2 3 4 5"
            ]
          },
          "metadata": {}
        },
        {
          "output_type": "display_data",
          "data": {
            "text/html": [
              "<style>\n",
              ".list-inline {list-style: none; margin:0; padding: 0}\n",
              ".list-inline>li {display: inline-block}\n",
              ".list-inline>li:not(:last-child)::after {content: \"\\00b7\"; padding: 0 .5ex}\n",
              "</style>\n",
              "<ol class=list-inline><li>4</li><li>5</li><li>6</li><li>7</li><li>8</li></ol>\n"
            ],
            "text/markdown": "1. 4\n2. 5\n3. 6\n4. 7\n5. 8\n\n\n",
            "text/latex": "\\begin{enumerate*}\n\\item 4\n\\item 5\n\\item 6\n\\item 7\n\\item 8\n\\end{enumerate*}\n",
            "text/plain": [
              "[1] 4 5 6 7 8"
            ]
          },
          "metadata": {}
        },
        {
          "output_type": "display_data",
          "data": {
            "text/html": [
              "<style>\n",
              ".list-inline {list-style: none; margin:0; padding: 0}\n",
              ".list-inline>li {display: inline-block}\n",
              ".list-inline>li:not(:last-child)::after {content: \"\\00b7\"; padding: 0 .5ex}\n",
              "</style>\n",
              "<ol class=list-inline><li>TRUE</li><li>FALSE</li><li>FALSE</li><li>TRUE</li><li>FALSE</li><li>TRUE</li></ol>\n"
            ],
            "text/markdown": "1. TRUE\n2. FALSE\n3. FALSE\n4. TRUE\n5. FALSE\n6. TRUE\n\n\n",
            "text/latex": "\\begin{enumerate*}\n\\item TRUE\n\\item FALSE\n\\item FALSE\n\\item TRUE\n\\item FALSE\n\\item TRUE\n\\end{enumerate*}\n",
            "text/plain": [
              "[1]  TRUE FALSE FALSE  TRUE FALSE  TRUE"
            ]
          },
          "metadata": {}
        },
        {
          "output_type": "display_data",
          "data": {
            "text/html": [
              "<style>\n",
              ".list-inline {list-style: none; margin:0; padding: 0}\n",
              ".list-inline>li {display: inline-block}\n",
              ".list-inline>li:not(:last-child)::after {content: \"\\00b7\"; padding: 0 .5ex}\n",
              "</style>\n",
              "<ol class=list-inline><li>20</li><li>21</li><li>22</li><li>23</li><li>24</li><li>25</li><li>26</li><li>27</li><li>28</li><li>29</li><li>30</li><li>31</li><li>32</li><li>33</li><li>34</li><li>35</li><li>36</li><li>37</li><li>38</li><li>39</li><li>40</li><li>41</li><li>42</li><li>43</li><li>44</li><li>45</li><li>46</li><li>47</li><li>48</li><li>49</li><li>50</li></ol>\n"
            ],
            "text/markdown": "1. 20\n2. 21\n3. 22\n4. 23\n5. 24\n6. 25\n7. 26\n8. 27\n9. 28\n10. 29\n11. 30\n12. 31\n13. 32\n14. 33\n15. 34\n16. 35\n17. 36\n18. 37\n19. 38\n20. 39\n21. 40\n22. 41\n23. 42\n24. 43\n25. 44\n26. 45\n27. 46\n28. 47\n29. 48\n30. 49\n31. 50\n\n\n",
            "text/latex": "\\begin{enumerate*}\n\\item 20\n\\item 21\n\\item 22\n\\item 23\n\\item 24\n\\item 25\n\\item 26\n\\item 27\n\\item 28\n\\item 29\n\\item 30\n\\item 31\n\\item 32\n\\item 33\n\\item 34\n\\item 35\n\\item 36\n\\item 37\n\\item 38\n\\item 39\n\\item 40\n\\item 41\n\\item 42\n\\item 43\n\\item 44\n\\item 45\n\\item 46\n\\item 47\n\\item 48\n\\item 49\n\\item 50\n\\end{enumerate*}\n",
            "text/plain": [
              " [1] 20 21 22 23 24 25 26 27 28 29 30 31 32 33 34 35 36 37 38 39 40 41 42 43 44\n",
              "[26] 45 46 47 48 49 50"
            ]
          },
          "metadata": {}
        },
        {
          "output_type": "display_data",
          "data": {
            "text/html": [
              "20"
            ],
            "text/markdown": "20",
            "text/latex": "20",
            "text/plain": [
              "[1] 20"
            ]
          },
          "metadata": {}
        },
        {
          "output_type": "display_data",
          "data": {
            "text/html": [
              "50"
            ],
            "text/markdown": "50",
            "text/latex": "50",
            "text/plain": [
              "[1] 50"
            ]
          },
          "metadata": {}
        },
        {
          "output_type": "display_data",
          "data": {
            "text/html": [
              "35"
            ],
            "text/markdown": "35",
            "text/latex": "35",
            "text/plain": [
              "[1] 35"
            ]
          },
          "metadata": {}
        },
        {
          "output_type": "display_data",
          "data": {
            "text/html": [
              "35"
            ],
            "text/markdown": "35",
            "text/latex": "35",
            "text/plain": [
              "[1] 35"
            ]
          },
          "metadata": {}
        },
        {
          "output_type": "display_data",
          "data": {
            "text/html": [
              "1085"
            ],
            "text/markdown": "1085",
            "text/latex": "1085",
            "text/plain": [
              "[1] 1085"
            ]
          },
          "metadata": {}
        },
        {
          "output_type": "display_data",
          "data": {
            "text/html": [
              "9.0921211313239"
            ],
            "text/markdown": "9.0921211313239",
            "text/latex": "9.0921211313239",
            "text/plain": [
              "[1] 9.092121"
            ]
          },
          "metadata": {}
        },
        {
          "output_type": "display_data",
          "data": {
            "text/html": [
              "82.6666666666667"
            ],
            "text/markdown": "82.6666666666667",
            "text/latex": "82.6666666666667",
            "text/plain": [
              "[1] 82.66667"
            ]
          },
          "metadata": {}
        },
        {
          "output_type": "display_data",
          "data": {
            "text/html": [
              "31"
            ],
            "text/markdown": "31",
            "text/latex": "31",
            "text/plain": [
              "[1] 31"
            ]
          },
          "metadata": {}
        },
        {
          "output_type": "display_data",
          "data": {
            "text/html": [
              "479001600"
            ],
            "text/markdown": "479001600",
            "text/latex": "479001600",
            "text/plain": [
              "[1] 479001600"
            ]
          },
          "metadata": {}
        },
        {
          "output_type": "display_data",
          "data": {
            "text/html": [
              "<style>\n",
              ".list-inline {list-style: none; margin:0; padding: 0}\n",
              ".list-inline>li {display: inline-block}\n",
              ".list-inline>li:not(:last-child)::after {content: \"\\00b7\"; padding: 0 .5ex}\n",
              "</style>\n",
              "<ol class=list-inline><li>20</li><li>21</li><li>22</li><li>23</li><li>24</li><li>25</li><li>26</li><li>27</li><li>28</li><li>29</li><li>30</li><li>31</li><li>32</li><li>33</li><li>34</li><li>35</li><li>36</li><li>37</li><li>38</li><li>39</li><li>40</li><li>41</li><li>42</li><li>43</li><li>44</li><li>45</li><li>46</li><li>47</li><li>48</li><li>49</li><li>50</li></ol>\n"
            ],
            "text/markdown": "1. 20\n2. 21\n3. 22\n4. 23\n5. 24\n6. 25\n7. 26\n8. 27\n9. 28\n10. 29\n11. 30\n12. 31\n13. 32\n14. 33\n15. 34\n16. 35\n17. 36\n18. 37\n19. 38\n20. 39\n21. 40\n22. 41\n23. 42\n24. 43\n25. 44\n26. 45\n27. 46\n28. 47\n29. 48\n30. 49\n31. 50\n\n\n",
            "text/latex": "\\begin{enumerate*}\n\\item 20\n\\item 21\n\\item 22\n\\item 23\n\\item 24\n\\item 25\n\\item 26\n\\item 27\n\\item 28\n\\item 29\n\\item 30\n\\item 31\n\\item 32\n\\item 33\n\\item 34\n\\item 35\n\\item 36\n\\item 37\n\\item 38\n\\item 39\n\\item 40\n\\item 41\n\\item 42\n\\item 43\n\\item 44\n\\item 45\n\\item 46\n\\item 47\n\\item 48\n\\item 49\n\\item 50\n\\end{enumerate*}\n",
            "text/plain": [
              " [1] 20 21 22 23 24 25 26 27 28 29 30 31 32 33 34 35 36 37 38 39 40 41 42 43 44\n",
              "[26] 45 46 47 48 49 50"
            ]
          },
          "metadata": {}
        },
        {
          "output_type": "display_data",
          "data": {
            "text/html": [
              "<style>\n",
              ".list-inline {list-style: none; margin:0; padding: 0}\n",
              ".list-inline>li {display: inline-block}\n",
              ".list-inline>li:not(:last-child)::after {content: \"\\00b7\"; padding: 0 .5ex}\n",
              "</style>\n",
              "<ol class=list-inline><li>20</li><li>21</li><li>22</li><li>23</li><li>24</li><li>25</li><li>26</li><li>27</li><li>28</li><li>29</li><li>30</li><li>31</li><li>32</li><li>33</li><li>34</li><li>35</li><li>36</li><li>37</li><li>38</li><li>39</li><li>40</li><li>41</li><li>42</li><li>43</li><li>44</li><li>45</li><li>46</li><li>47</li><li>48</li><li>49</li><li>50</li></ol>\n"
            ],
            "text/markdown": "1. 20\n2. 21\n3. 22\n4. 23\n5. 24\n6. 25\n7. 26\n8. 27\n9. 28\n10. 29\n11. 30\n12. 31\n13. 32\n14. 33\n15. 34\n16. 35\n17. 36\n18. 37\n19. 38\n20. 39\n21. 40\n22. 41\n23. 42\n24. 43\n25. 44\n26. 45\n27. 46\n28. 47\n29. 48\n30. 49\n31. 50\n\n\n",
            "text/latex": "\\begin{enumerate*}\n\\item 20\n\\item 21\n\\item 22\n\\item 23\n\\item 24\n\\item 25\n\\item 26\n\\item 27\n\\item 28\n\\item 29\n\\item 30\n\\item 31\n\\item 32\n\\item 33\n\\item 34\n\\item 35\n\\item 36\n\\item 37\n\\item 38\n\\item 39\n\\item 40\n\\item 41\n\\item 42\n\\item 43\n\\item 44\n\\item 45\n\\item 46\n\\item 47\n\\item 48\n\\item 49\n\\item 50\n\\end{enumerate*}\n",
            "text/plain": [
              " [1] 20 21 22 23 24 25 26 27 28 29 30 31 32 33 34 35 36 37 38 39 40 41 42 43 44\n",
              "[26] 45 46 47 48 49 50"
            ]
          },
          "metadata": {}
        },
        {
          "output_type": "display_data",
          "data": {
            "text/html": [
              "<style>\n",
              ".list-inline {list-style: none; margin:0; padding: 0}\n",
              ".list-inline>li {display: inline-block}\n",
              ".list-inline>li:not(:last-child)::after {content: \"\\00b7\"; padding: 0 .5ex}\n",
              "</style>\n",
              "<ol class=list-inline><li>20</li><li>21</li><li>22</li><li>23</li><li>24</li><li>25</li><li>26</li><li>27</li><li>28</li><li>29</li><li>30</li><li>31</li><li>32</li><li>33</li><li>34</li><li>35</li><li>36</li><li>37</li><li>38</li><li>39</li><li>40</li><li>41</li><li>42</li><li>43</li><li>44</li><li>45</li><li>46</li><li>47</li><li>48</li><li>49</li><li>50</li></ol>\n"
            ],
            "text/markdown": "1. 20\n2. 21\n3. 22\n4. 23\n5. 24\n6. 25\n7. 26\n8. 27\n9. 28\n10. 29\n11. 30\n12. 31\n13. 32\n14. 33\n15. 34\n16. 35\n17. 36\n18. 37\n19. 38\n20. 39\n21. 40\n22. 41\n23. 42\n24. 43\n25. 44\n26. 45\n27. 46\n28. 47\n29. 48\n30. 49\n31. 50\n\n\n",
            "text/latex": "\\begin{enumerate*}\n\\item 20\n\\item 21\n\\item 22\n\\item 23\n\\item 24\n\\item 25\n\\item 26\n\\item 27\n\\item 28\n\\item 29\n\\item 30\n\\item 31\n\\item 32\n\\item 33\n\\item 34\n\\item 35\n\\item 36\n\\item 37\n\\item 38\n\\item 39\n\\item 40\n\\item 41\n\\item 42\n\\item 43\n\\item 44\n\\item 45\n\\item 46\n\\item 47\n\\item 48\n\\item 49\n\\item 50\n\\end{enumerate*}\n",
            "text/plain": [
              " [1] 20 21 22 23 24 25 26 27 28 29 30 31 32 33 34 35 36 37 38 39 40 41 42 43 44\n",
              "[26] 45 46 47 48 49 50"
            ]
          },
          "metadata": {}
        },
        {
          "output_type": "display_data",
          "data": {
            "text/html": [
              "289"
            ],
            "text/markdown": "289",
            "text/latex": "289",
            "text/plain": [
              "[1] 289"
            ]
          },
          "metadata": {}
        },
        {
          "output_type": "display_data",
          "data": {
            "text/html": [
              "0"
            ],
            "text/markdown": "0",
            "text/latex": "0",
            "text/plain": [
              "[1] 0"
            ]
          },
          "metadata": {}
        },
        {
          "output_type": "display_data",
          "data": {
            "text/html": [
              "<style>\n",
              ".list-inline {list-style: none; margin:0; padding: 0}\n",
              ".list-inline>li {display: inline-block}\n",
              ".list-inline>li:not(:last-child)::after {content: \"\\00b7\"; padding: 0 .5ex}\n",
              "</style>\n",
              "<ol class=list-inline><li>21</li><li>49</li><li>160</li><li>72</li><li>86</li><li>356</li><li>55</li><li>67</li><li>91</li><li>30</li></ol>\n"
            ],
            "text/markdown": "1. 21\n2. 49\n3. 160\n4. 72\n5. 86\n6. 356\n7. 55\n8. 67\n9. 91\n10. 30\n\n\n",
            "text/latex": "\\begin{enumerate*}\n\\item 21\n\\item 49\n\\item 160\n\\item 72\n\\item 86\n\\item 356\n\\item 55\n\\item 67\n\\item 91\n\\item 30\n\\end{enumerate*}\n",
            "text/plain": [
              " [1]  21  49 160  72  86 356  55  67  91  30"
            ]
          },
          "metadata": {}
        },
        {
          "output_type": "display_data",
          "data": {
            "text/html": [
              "10"
            ],
            "text/markdown": "10",
            "text/latex": "10",
            "text/plain": [
              "[1] 10"
            ]
          },
          "metadata": {}
        },
        {
          "output_type": "display_data",
          "data": {
            "text/html": [
              "356"
            ],
            "text/markdown": "356",
            "text/latex": "356",
            "text/plain": [
              "[1] 356"
            ]
          },
          "metadata": {}
        },
        {
          "output_type": "display_data",
          "data": {
            "text/html": [
              "<style>\n",
              ".list-inline {list-style: none; margin:0; padding: 0}\n",
              ".list-inline>li {display: inline-block}\n",
              ".list-inline>li:not(:last-child)::after {content: \"\\00b7\"; padding: 0 .5ex}\n",
              "</style>\n",
              "<ol class=list-inline><li>21</li><li>49</li><li>160</li><li>72</li></ol>\n"
            ],
            "text/markdown": "1. 21\n2. 49\n3. 160\n4. 72\n\n\n",
            "text/latex": "\\begin{enumerate*}\n\\item 21\n\\item 49\n\\item 160\n\\item 72\n\\end{enumerate*}\n",
            "text/plain": [
              "[1]  21  49 160  72"
            ]
          },
          "metadata": {}
        },
        {
          "output_type": "display_data",
          "data": {
            "text/html": [
              "<style>\n",
              ".list-inline {list-style: none; margin:0; padding: 0}\n",
              ".list-inline>li {display: inline-block}\n",
              ".list-inline>li:not(:last-child)::after {content: \"\\00b7\"; padding: 0 .5ex}\n",
              "</style>\n",
              "<ol class=list-inline><li>55</li><li>67</li><li>91</li><li>30</li></ol>\n"
            ],
            "text/markdown": "1. 55\n2. 67\n3. 91\n4. 30\n\n\n",
            "text/latex": "\\begin{enumerate*}\n\\item 55\n\\item 67\n\\item 91\n\\item 30\n\\end{enumerate*}\n",
            "text/plain": [
              "[1] 55 67 91 30"
            ]
          },
          "metadata": {}
        },
        {
          "output_type": "display_data",
          "data": {
            "text/html": [
              "<style>\n",
              ".list-inline {list-style: none; margin:0; padding: 0}\n",
              ".list-inline>li {display: inline-block}\n",
              ".list-inline>li:not(:last-child)::after {content: \"\\00b7\"; padding: 0 .5ex}\n",
              "</style>\n",
              "<ol class=list-inline><li>160</li><li>356</li></ol>\n"
            ],
            "text/markdown": "1. 160\n2. 356\n\n\n",
            "text/latex": "\\begin{enumerate*}\n\\item 160\n\\item 356\n\\end{enumerate*}\n",
            "text/plain": [
              "[1] 160 356"
            ]
          },
          "metadata": {}
        },
        {
          "output_type": "display_data",
          "data": {
            "text/html": [
              "<style>\n",
              ".list-inline {list-style: none; margin:0; padding: 0}\n",
              ".list-inline>li {display: inline-block}\n",
              ".list-inline>li:not(:last-child)::after {content: \"\\00b7\"; padding: 0 .5ex}\n",
              "</style>\n",
              "<ol class=list-inline><li>1</li><li>3</li><li>5</li><li>7</li><li>9</li><li>11</li><li>13</li><li>15</li></ol>\n"
            ],
            "text/markdown": "1. 1\n2. 3\n3. 5\n4. 7\n5. 9\n6. 11\n7. 13\n8. 15\n\n\n",
            "text/latex": "\\begin{enumerate*}\n\\item 1\n\\item 3\n\\item 5\n\\item 7\n\\item 9\n\\item 11\n\\item 13\n\\item 15\n\\end{enumerate*}\n",
            "text/plain": [
              "[1]  1  3  5  7  9 11 13 15"
            ]
          },
          "metadata": {}
        },
        {
          "output_type": "display_data",
          "data": {
            "text/html": [
              "<style>\n",
              ".list-inline {list-style: none; margin:0; padding: 0}\n",
              ".list-inline>li {display: inline-block}\n",
              ".list-inline>li:not(:last-child)::after {content: \"\\00b7\"; padding: 0 .5ex}\n",
              "</style>\n",
              "<ol class=list-inline><li>1</li><li>3</li><li>5</li><li>7</li><li>9</li><li>11</li><li>13</li><li>15</li></ol>\n"
            ],
            "text/markdown": "1. 1\n2. 3\n3. 5\n4. 7\n5. 9\n6. 11\n7. 13\n8. 15\n\n\n",
            "text/latex": "\\begin{enumerate*}\n\\item 1\n\\item 3\n\\item 5\n\\item 7\n\\item 9\n\\item 11\n\\item 13\n\\item 15\n\\end{enumerate*}\n",
            "text/plain": [
              "[1]  1  3  5  7  9 11 13 15"
            ]
          },
          "metadata": {}
        },
        {
          "output_type": "display_data",
          "data": {
            "text/html": [
              "<style>\n",
              ".list-inline {list-style: none; margin:0; padding: 0}\n",
              ".list-inline>li {display: inline-block}\n",
              ".list-inline>li:not(:last-child)::after {content: \"\\00b7\"; padding: 0 .5ex}\n",
              "</style>\n",
              "<ol class=list-inline><li>15</li><li>13</li><li>11</li><li>9</li><li>7</li><li>5</li><li>3</li><li>1</li></ol>\n"
            ],
            "text/markdown": "1. 15\n2. 13\n3. 11\n4. 9\n5. 7\n6. 5\n7. 3\n8. 1\n\n\n",
            "text/latex": "\\begin{enumerate*}\n\\item 15\n\\item 13\n\\item 11\n\\item 9\n\\item 7\n\\item 5\n\\item 3\n\\item 1\n\\end{enumerate*}\n",
            "text/plain": [
              "[1] 15 13 11  9  7  5  3  1"
            ]
          },
          "metadata": {}
        }
      ]
    },
    {
      "cell_type": "markdown",
      "metadata": {
        "id": "iRktlcDxf4kb"
      },
      "source": [
        "# **3.Matrices in R**"
      ]
    },
    {
      "cell_type": "code",
      "metadata": {
        "colab": {
          "base_uri": "https://localhost:8080/",
          "height": 646
        },
        "id": "lLuVTYaIf8Mi",
        "outputId": "ebd28f0d-04c7-4784-f03e-02ade991e5a8"
      },
      "source": [
        "#1\n",
        "seq1<-seq(1,30,2)\n",
        "seq1\n",
        "#2\n",
        "m1<-matrix(seq1,nrow = 3,byrow = FALSE)\n",
        "m1\n",
        "#3\n",
        "rownames(m1)<-c(\"A\",\"B\",\"C\")\n",
        "m1\n",
        "#4\n",
        "colnames(m1)<-c('P','Q','R','S','T')\n",
        "m1\n",
        "#5\n",
        "dim(m1)\n",
        "#6\n",
        "t(m1)"
      ],
      "execution_count": null,
      "outputs": [
        {
          "output_type": "display_data",
          "data": {
            "text/plain": [
              " [1]  1  3  5  7  9 11 13 15 17 19 21 23 25 27 29"
            ],
            "text/latex": "\\begin{enumerate*}\n\\item 1\n\\item 3\n\\item 5\n\\item 7\n\\item 9\n\\item 11\n\\item 13\n\\item 15\n\\item 17\n\\item 19\n\\item 21\n\\item 23\n\\item 25\n\\item 27\n\\item 29\n\\end{enumerate*}\n",
            "text/markdown": "1. 1\n2. 3\n3. 5\n4. 7\n5. 9\n6. 11\n7. 13\n8. 15\n9. 17\n10. 19\n11. 21\n12. 23\n13. 25\n14. 27\n15. 29\n\n\n",
            "text/html": [
              "<style>\n",
              ".list-inline {list-style: none; margin:0; padding: 0}\n",
              ".list-inline>li {display: inline-block}\n",
              ".list-inline>li:not(:last-child)::after {content: \"\\00b7\"; padding: 0 .5ex}\n",
              "</style>\n",
              "<ol class=list-inline><li>1</li><li>3</li><li>5</li><li>7</li><li>9</li><li>11</li><li>13</li><li>15</li><li>17</li><li>19</li><li>21</li><li>23</li><li>25</li><li>27</li><li>29</li></ol>\n"
            ]
          },
          "metadata": {}
        },
        {
          "output_type": "display_data",
          "data": {
            "text/plain": [
              "     [,1] [,2] [,3] [,4] [,5]\n",
              "[1,] 1     7   13   19   25  \n",
              "[2,] 3     9   15   21   27  \n",
              "[3,] 5    11   17   23   29  "
            ],
            "text/latex": "A matrix: 3 × 5 of type dbl\n\\begin{tabular}{lllll}\n\t 1 &  7 & 13 & 19 & 25\\\\\n\t 3 &  9 & 15 & 21 & 27\\\\\n\t 5 & 11 & 17 & 23 & 29\\\\\n\\end{tabular}\n",
            "text/markdown": "\nA matrix: 3 × 5 of type dbl\n\n| 1 |  7 | 13 | 19 | 25 |\n| 3 |  9 | 15 | 21 | 27 |\n| 5 | 11 | 17 | 23 | 29 |\n\n",
            "text/html": [
              "<table class=\"dataframe\">\n",
              "<caption>A matrix: 3 × 5 of type dbl</caption>\n",
              "<tbody>\n",
              "\t<tr><td>1</td><td> 7</td><td>13</td><td>19</td><td>25</td></tr>\n",
              "\t<tr><td>3</td><td> 9</td><td>15</td><td>21</td><td>27</td></tr>\n",
              "\t<tr><td>5</td><td>11</td><td>17</td><td>23</td><td>29</td></tr>\n",
              "</tbody>\n",
              "</table>\n"
            ]
          },
          "metadata": {}
        },
        {
          "output_type": "display_data",
          "data": {
            "text/plain": [
              "  [,1] [,2] [,3] [,4] [,5]\n",
              "A 1     7   13   19   25  \n",
              "B 3     9   15   21   27  \n",
              "C 5    11   17   23   29  "
            ],
            "text/latex": "A matrix: 3 × 5 of type dbl\n\\begin{tabular}{r|lllll}\n\tA & 1 &  7 & 13 & 19 & 25\\\\\n\tB & 3 &  9 & 15 & 21 & 27\\\\\n\tC & 5 & 11 & 17 & 23 & 29\\\\\n\\end{tabular}\n",
            "text/markdown": "\nA matrix: 3 × 5 of type dbl\n\n| A | 1 |  7 | 13 | 19 | 25 |\n| B | 3 |  9 | 15 | 21 | 27 |\n| C | 5 | 11 | 17 | 23 | 29 |\n\n",
            "text/html": [
              "<table class=\"dataframe\">\n",
              "<caption>A matrix: 3 × 5 of type dbl</caption>\n",
              "<tbody>\n",
              "\t<tr><th scope=row>A</th><td>1</td><td> 7</td><td>13</td><td>19</td><td>25</td></tr>\n",
              "\t<tr><th scope=row>B</th><td>3</td><td> 9</td><td>15</td><td>21</td><td>27</td></tr>\n",
              "\t<tr><th scope=row>C</th><td>5</td><td>11</td><td>17</td><td>23</td><td>29</td></tr>\n",
              "</tbody>\n",
              "</table>\n"
            ]
          },
          "metadata": {}
        },
        {
          "output_type": "display_data",
          "data": {
            "text/plain": [
              "  P Q  R  S  T \n",
              "A 1  7 13 19 25\n",
              "B 3  9 15 21 27\n",
              "C 5 11 17 23 29"
            ],
            "text/latex": "A matrix: 3 × 5 of type dbl\n\\begin{tabular}{r|lllll}\n  & P & Q & R & S & T\\\\\n\\hline\n\tA & 1 &  7 & 13 & 19 & 25\\\\\n\tB & 3 &  9 & 15 & 21 & 27\\\\\n\tC & 5 & 11 & 17 & 23 & 29\\\\\n\\end{tabular}\n",
            "text/markdown": "\nA matrix: 3 × 5 of type dbl\n\n| <!--/--> | P | Q | R | S | T |\n|---|---|---|---|---|---|\n| A | 1 |  7 | 13 | 19 | 25 |\n| B | 3 |  9 | 15 | 21 | 27 |\n| C | 5 | 11 | 17 | 23 | 29 |\n\n",
            "text/html": [
              "<table class=\"dataframe\">\n",
              "<caption>A matrix: 3 × 5 of type dbl</caption>\n",
              "<thead>\n",
              "\t<tr><th></th><th scope=col>P</th><th scope=col>Q</th><th scope=col>R</th><th scope=col>S</th><th scope=col>T</th></tr>\n",
              "</thead>\n",
              "<tbody>\n",
              "\t<tr><th scope=row>A</th><td>1</td><td> 7</td><td>13</td><td>19</td><td>25</td></tr>\n",
              "\t<tr><th scope=row>B</th><td>3</td><td> 9</td><td>15</td><td>21</td><td>27</td></tr>\n",
              "\t<tr><th scope=row>C</th><td>5</td><td>11</td><td>17</td><td>23</td><td>29</td></tr>\n",
              "</tbody>\n",
              "</table>\n"
            ]
          },
          "metadata": {}
        },
        {
          "output_type": "display_data",
          "data": {
            "text/plain": [
              "[1] 3 5"
            ],
            "text/latex": "\\begin{enumerate*}\n\\item 3\n\\item 5\n\\end{enumerate*}\n",
            "text/markdown": "1. 3\n2. 5\n\n\n",
            "text/html": [
              "<style>\n",
              ".list-inline {list-style: none; margin:0; padding: 0}\n",
              ".list-inline>li {display: inline-block}\n",
              ".list-inline>li:not(:last-child)::after {content: \"\\00b7\"; padding: 0 .5ex}\n",
              "</style>\n",
              "<ol class=list-inline><li>3</li><li>5</li></ol>\n"
            ]
          },
          "metadata": {}
        },
        {
          "output_type": "display_data",
          "data": {
            "text/plain": [
              "  A  B  C \n",
              "P  1  3  5\n",
              "Q  7  9 11\n",
              "R 13 15 17\n",
              "S 19 21 23\n",
              "T 25 27 29"
            ],
            "text/latex": "A matrix: 5 × 3 of type dbl\n\\begin{tabular}{r|lll}\n  & A & B & C\\\\\n\\hline\n\tP &  1 &  3 &  5\\\\\n\tQ &  7 &  9 & 11\\\\\n\tR & 13 & 15 & 17\\\\\n\tS & 19 & 21 & 23\\\\\n\tT & 25 & 27 & 29\\\\\n\\end{tabular}\n",
            "text/markdown": "\nA matrix: 5 × 3 of type dbl\n\n| <!--/--> | A | B | C |\n|---|---|---|---|\n| P |  1 |  3 |  5 |\n| Q |  7 |  9 | 11 |\n| R | 13 | 15 | 17 |\n| S | 19 | 21 | 23 |\n| T | 25 | 27 | 29 |\n\n",
            "text/html": [
              "<table class=\"dataframe\">\n",
              "<caption>A matrix: 5 × 3 of type dbl</caption>\n",
              "<thead>\n",
              "\t<tr><th></th><th scope=col>A</th><th scope=col>B</th><th scope=col>C</th></tr>\n",
              "</thead>\n",
              "<tbody>\n",
              "\t<tr><th scope=row>P</th><td> 1</td><td> 3</td><td> 5</td></tr>\n",
              "\t<tr><th scope=row>Q</th><td> 7</td><td> 9</td><td>11</td></tr>\n",
              "\t<tr><th scope=row>R</th><td>13</td><td>15</td><td>17</td></tr>\n",
              "\t<tr><th scope=row>S</th><td>19</td><td>21</td><td>23</td></tr>\n",
              "\t<tr><th scope=row>T</th><td>25</td><td>27</td><td>29</td></tr>\n",
              "</tbody>\n",
              "</table>\n"
            ]
          },
          "metadata": {}
        }
      ]
    },
    {
      "cell_type": "code",
      "metadata": {
        "colab": {
          "base_uri": "https://localhost:8080/",
          "height": 965
        },
        "id": "7VYhjdDvh6jC",
        "outputId": "c1b00df9-75d0-4ad8-dfb6-96f31d1f8b0b"
      },
      "source": [
        "#1\n",
        "a<-matrix(c(1:9),nrow = 3,ncol = 3)\n",
        "a\n",
        "#2\n",
        "rownames(a)<-c('a','b','c')\n",
        "colnames(a)<-c('d','e','f')\n",
        "a\n",
        "#3\n",
        "dim(a)\n",
        "#4\n",
        "a[3,]<-c(3,4,-2)\n",
        "a\n",
        "#5\n",
        "det(a)\n",
        "#6\n",
        "b<-t(a)\n",
        "b\n",
        "#7\n",
        "c<-solve(a)\n",
        "c\n",
        "#8\n",
        "m<-diag(c(1,2,3,4))\n",
        "m"
      ],
      "execution_count": null,
      "outputs": [
        {
          "output_type": "display_data",
          "data": {
            "text/plain": [
              "     [,1] [,2] [,3]\n",
              "[1,] 1    4    7   \n",
              "[2,] 2    5    8   \n",
              "[3,] 3    6    9   "
            ],
            "text/latex": "A matrix: 3 × 3 of type int\n\\begin{tabular}{lll}\n\t 1 & 4 & 7\\\\\n\t 2 & 5 & 8\\\\\n\t 3 & 6 & 9\\\\\n\\end{tabular}\n",
            "text/markdown": "\nA matrix: 3 × 3 of type int\n\n| 1 | 4 | 7 |\n| 2 | 5 | 8 |\n| 3 | 6 | 9 |\n\n",
            "text/html": [
              "<table class=\"dataframe\">\n",
              "<caption>A matrix: 3 × 3 of type int</caption>\n",
              "<tbody>\n",
              "\t<tr><td>1</td><td>4</td><td>7</td></tr>\n",
              "\t<tr><td>2</td><td>5</td><td>8</td></tr>\n",
              "\t<tr><td>3</td><td>6</td><td>9</td></tr>\n",
              "</tbody>\n",
              "</table>\n"
            ]
          },
          "metadata": {}
        },
        {
          "output_type": "display_data",
          "data": {
            "text/plain": [
              "  d e f\n",
              "a 1 4 7\n",
              "b 2 5 8\n",
              "c 3 6 9"
            ],
            "text/latex": "A matrix: 3 × 3 of type int\n\\begin{tabular}{r|lll}\n  & d & e & f\\\\\n\\hline\n\ta & 1 & 4 & 7\\\\\n\tb & 2 & 5 & 8\\\\\n\tc & 3 & 6 & 9\\\\\n\\end{tabular}\n",
            "text/markdown": "\nA matrix: 3 × 3 of type int\n\n| <!--/--> | d | e | f |\n|---|---|---|---|\n| a | 1 | 4 | 7 |\n| b | 2 | 5 | 8 |\n| c | 3 | 6 | 9 |\n\n",
            "text/html": [
              "<table class=\"dataframe\">\n",
              "<caption>A matrix: 3 × 3 of type int</caption>\n",
              "<thead>\n",
              "\t<tr><th></th><th scope=col>d</th><th scope=col>e</th><th scope=col>f</th></tr>\n",
              "</thead>\n",
              "<tbody>\n",
              "\t<tr><th scope=row>a</th><td>1</td><td>4</td><td>7</td></tr>\n",
              "\t<tr><th scope=row>b</th><td>2</td><td>5</td><td>8</td></tr>\n",
              "\t<tr><th scope=row>c</th><td>3</td><td>6</td><td>9</td></tr>\n",
              "</tbody>\n",
              "</table>\n"
            ]
          },
          "metadata": {}
        },
        {
          "output_type": "display_data",
          "data": {
            "text/plain": [
              "[1] 3 3"
            ],
            "text/latex": "\\begin{enumerate*}\n\\item 3\n\\item 3\n\\end{enumerate*}\n",
            "text/markdown": "1. 3\n2. 3\n\n\n",
            "text/html": [
              "<style>\n",
              ".list-inline {list-style: none; margin:0; padding: 0}\n",
              ".list-inline>li {display: inline-block}\n",
              ".list-inline>li:not(:last-child)::after {content: \"\\00b7\"; padding: 0 .5ex}\n",
              "</style>\n",
              "<ol class=list-inline><li>3</li><li>3</li></ol>\n"
            ]
          },
          "metadata": {}
        },
        {
          "output_type": "display_data",
          "data": {
            "text/plain": [
              "  d e f \n",
              "a 1 4  7\n",
              "b 2 5  8\n",
              "c 3 4 -2"
            ],
            "text/latex": "A matrix: 3 × 3 of type dbl\n\\begin{tabular}{r|lll}\n  & d & e & f\\\\\n\\hline\n\ta & 1 & 4 &  7\\\\\n\tb & 2 & 5 &  8\\\\\n\tc & 3 & 4 & -2\\\\\n\\end{tabular}\n",
            "text/markdown": "\nA matrix: 3 × 3 of type dbl\n\n| <!--/--> | d | e | f |\n|---|---|---|---|\n| a | 1 | 4 |  7 |\n| b | 2 | 5 |  8 |\n| c | 3 | 4 | -2 |\n\n",
            "text/html": [
              "<table class=\"dataframe\">\n",
              "<caption>A matrix: 3 × 3 of type dbl</caption>\n",
              "<thead>\n",
              "\t<tr><th></th><th scope=col>d</th><th scope=col>e</th><th scope=col>f</th></tr>\n",
              "</thead>\n",
              "<tbody>\n",
              "\t<tr><th scope=row>a</th><td>1</td><td>4</td><td> 7</td></tr>\n",
              "\t<tr><th scope=row>b</th><td>2</td><td>5</td><td> 8</td></tr>\n",
              "\t<tr><th scope=row>c</th><td>3</td><td>4</td><td>-2</td></tr>\n",
              "</tbody>\n",
              "</table>\n"
            ]
          },
          "metadata": {}
        },
        {
          "output_type": "display_data",
          "data": {
            "text/plain": [
              "[1] 21"
            ],
            "text/latex": "21",
            "text/markdown": "21",
            "text/html": [
              "21"
            ]
          },
          "metadata": {}
        },
        {
          "output_type": "display_data",
          "data": {
            "text/plain": [
              "  a b c \n",
              "d 1 2  3\n",
              "e 4 5  4\n",
              "f 7 8 -2"
            ],
            "text/latex": "A matrix: 3 × 3 of type dbl\n\\begin{tabular}{r|lll}\n  & a & b & c\\\\\n\\hline\n\td & 1 & 2 &  3\\\\\n\te & 4 & 5 &  4\\\\\n\tf & 7 & 8 & -2\\\\\n\\end{tabular}\n",
            "text/markdown": "\nA matrix: 3 × 3 of type dbl\n\n| <!--/--> | a | b | c |\n|---|---|---|---|\n| d | 1 | 2 |  3 |\n| e | 4 | 5 |  4 |\n| f | 7 | 8 | -2 |\n\n",
            "text/html": [
              "<table class=\"dataframe\">\n",
              "<caption>A matrix: 3 × 3 of type dbl</caption>\n",
              "<thead>\n",
              "\t<tr><th></th><th scope=col>a</th><th scope=col>b</th><th scope=col>c</th></tr>\n",
              "</thead>\n",
              "<tbody>\n",
              "\t<tr><th scope=row>d</th><td>1</td><td>2</td><td> 3</td></tr>\n",
              "\t<tr><th scope=row>e</th><td>4</td><td>5</td><td> 4</td></tr>\n",
              "\t<tr><th scope=row>f</th><td>7</td><td>8</td><td>-2</td></tr>\n",
              "</tbody>\n",
              "</table>\n"
            ]
          },
          "metadata": {}
        },
        {
          "output_type": "display_data",
          "data": {
            "text/plain": [
              "  a          b          c         \n",
              "d -2.0000000  1.7142857 -0.1428571\n",
              "e  1.3333333 -1.0952381  0.2857143\n",
              "f -0.3333333  0.3809524 -0.1428571"
            ],
            "text/latex": "A matrix: 3 × 3 of type dbl\n\\begin{tabular}{r|lll}\n  & a & b & c\\\\\n\\hline\n\td & -2.0000000 &  1.7142857 & -0.1428571\\\\\n\te &  1.3333333 & -1.0952381 &  0.2857143\\\\\n\tf & -0.3333333 &  0.3809524 & -0.1428571\\\\\n\\end{tabular}\n",
            "text/markdown": "\nA matrix: 3 × 3 of type dbl\n\n| <!--/--> | a | b | c |\n|---|---|---|---|\n| d | -2.0000000 |  1.7142857 | -0.1428571 |\n| e |  1.3333333 | -1.0952381 |  0.2857143 |\n| f | -0.3333333 |  0.3809524 | -0.1428571 |\n\n",
            "text/html": [
              "<table class=\"dataframe\">\n",
              "<caption>A matrix: 3 × 3 of type dbl</caption>\n",
              "<thead>\n",
              "\t<tr><th></th><th scope=col>a</th><th scope=col>b</th><th scope=col>c</th></tr>\n",
              "</thead>\n",
              "<tbody>\n",
              "\t<tr><th scope=row>d</th><td>-2.0000000</td><td> 1.7142857</td><td>-0.1428571</td></tr>\n",
              "\t<tr><th scope=row>e</th><td> 1.3333333</td><td>-1.0952381</td><td> 0.2857143</td></tr>\n",
              "\t<tr><th scope=row>f</th><td>-0.3333333</td><td> 0.3809524</td><td>-0.1428571</td></tr>\n",
              "</tbody>\n",
              "</table>\n"
            ]
          },
          "metadata": {}
        },
        {
          "output_type": "display_data",
          "data": {
            "text/plain": [
              "     [,1] [,2] [,3] [,4]\n",
              "[1,] 1    0    0    0   \n",
              "[2,] 0    2    0    0   \n",
              "[3,] 0    0    3    0   \n",
              "[4,] 0    0    0    4   "
            ],
            "text/latex": "A matrix: 4 × 4 of type dbl\n\\begin{tabular}{llll}\n\t 1 & 0 & 0 & 0\\\\\n\t 0 & 2 & 0 & 0\\\\\n\t 0 & 0 & 3 & 0\\\\\n\t 0 & 0 & 0 & 4\\\\\n\\end{tabular}\n",
            "text/markdown": "\nA matrix: 4 × 4 of type dbl\n\n| 1 | 0 | 0 | 0 |\n| 0 | 2 | 0 | 0 |\n| 0 | 0 | 3 | 0 |\n| 0 | 0 | 0 | 4 |\n\n",
            "text/html": [
              "<table class=\"dataframe\">\n",
              "<caption>A matrix: 4 × 4 of type dbl</caption>\n",
              "<tbody>\n",
              "\t<tr><td>1</td><td>0</td><td>0</td><td>0</td></tr>\n",
              "\t<tr><td>0</td><td>2</td><td>0</td><td>0</td></tr>\n",
              "\t<tr><td>0</td><td>0</td><td>3</td><td>0</td></tr>\n",
              "\t<tr><td>0</td><td>0</td><td>0</td><td>4</td></tr>\n",
              "</tbody>\n",
              "</table>\n"
            ]
          },
          "metadata": {}
        }
      ]
    },
    {
      "cell_type": "code",
      "metadata": {
        "colab": {
          "base_uri": "https://localhost:8080/",
          "height": 1000
        },
        "id": "1byMYP4fkNFb",
        "outputId": "61ffee37-a13c-4c32-faed-f16e2f8c84bf"
      },
      "source": [
        "#1\n",
        "x<-seq(25,100,5)\n",
        "m1<-matrix(x,nrow = 4)\n",
        "m1\n",
        "#2\n",
        "v1<-rep(11,5)\n",
        "v1\n",
        "v2<-rep(22,5)\n",
        "v3<-rep(33,5)\n",
        "v4<-rep(44,5)\n",
        "v5<-rep(55,5)\n",
        "m2<-matrix(c(v1,v2,v3,v4,v5),nrow = 5,byrow = T)\n",
        "m2\n",
        "#3\n",
        "m3<-m2[1:4,1:4]\n",
        "m3\n",
        "#4\n",
        "m4<-m1+m3\n",
        "m4\n",
        "m4[2,3]\n",
        "#5\n",
        "m5<-m4-m3\n",
        "m5\n",
        "m5[c(2,4),]\n",
        "#6\n",
        "m6<-matrix(seq(21,36),nrow = 4)\n",
        "m6\n",
        "m7<-matrix(seq(41,56),nrow = 4,byrow = T)\n",
        "m7\n",
        "#7\n",
        "v5<-m6[2,]*m7[,3]\n",
        "v5\n",
        "#8\n",
        "m8<-m6*t(m7)\n",
        "m8\n",
        "#9\n",
        "m9<-head(m2,4)\n",
        "m9\n",
        "#10\n",
        "dim(m9)\n",
        "dim(m8)\n",
        "m10<-m8%*%m9\n",
        "m10\n"
      ],
      "execution_count": null,
      "outputs": [
        {
          "output_type": "display_data",
          "data": {
            "text/plain": [
              "     [,1] [,2] [,3] [,4]\n",
              "[1,] 25   45   65    85 \n",
              "[2,] 30   50   70    90 \n",
              "[3,] 35   55   75    95 \n",
              "[4,] 40   60   80   100 "
            ],
            "text/latex": "A matrix: 4 × 4 of type dbl\n\\begin{tabular}{llll}\n\t 25 & 45 & 65 &  85\\\\\n\t 30 & 50 & 70 &  90\\\\\n\t 35 & 55 & 75 &  95\\\\\n\t 40 & 60 & 80 & 100\\\\\n\\end{tabular}\n",
            "text/markdown": "\nA matrix: 4 × 4 of type dbl\n\n| 25 | 45 | 65 |  85 |\n| 30 | 50 | 70 |  90 |\n| 35 | 55 | 75 |  95 |\n| 40 | 60 | 80 | 100 |\n\n",
            "text/html": [
              "<table class=\"dataframe\">\n",
              "<caption>A matrix: 4 × 4 of type dbl</caption>\n",
              "<tbody>\n",
              "\t<tr><td>25</td><td>45</td><td>65</td><td> 85</td></tr>\n",
              "\t<tr><td>30</td><td>50</td><td>70</td><td> 90</td></tr>\n",
              "\t<tr><td>35</td><td>55</td><td>75</td><td> 95</td></tr>\n",
              "\t<tr><td>40</td><td>60</td><td>80</td><td>100</td></tr>\n",
              "</tbody>\n",
              "</table>\n"
            ]
          },
          "metadata": {}
        },
        {
          "output_type": "display_data",
          "data": {
            "text/plain": [
              "[1] 11 11 11 11 11"
            ],
            "text/latex": "\\begin{enumerate*}\n\\item 11\n\\item 11\n\\item 11\n\\item 11\n\\item 11\n\\end{enumerate*}\n",
            "text/markdown": "1. 11\n2. 11\n3. 11\n4. 11\n5. 11\n\n\n",
            "text/html": [
              "<style>\n",
              ".list-inline {list-style: none; margin:0; padding: 0}\n",
              ".list-inline>li {display: inline-block}\n",
              ".list-inline>li:not(:last-child)::after {content: \"\\00b7\"; padding: 0 .5ex}\n",
              "</style>\n",
              "<ol class=list-inline><li>11</li><li>11</li><li>11</li><li>11</li><li>11</li></ol>\n"
            ]
          },
          "metadata": {}
        },
        {
          "output_type": "display_data",
          "data": {
            "text/plain": [
              "     [,1] [,2] [,3] [,4] [,5]\n",
              "[1,] 11   11   11   11   11  \n",
              "[2,] 22   22   22   22   22  \n",
              "[3,] 33   33   33   33   33  \n",
              "[4,] 44   44   44   44   44  \n",
              "[5,] 55   55   55   55   55  "
            ],
            "text/latex": "A matrix: 5 × 5 of type dbl\n\\begin{tabular}{lllll}\n\t 11 & 11 & 11 & 11 & 11\\\\\n\t 22 & 22 & 22 & 22 & 22\\\\\n\t 33 & 33 & 33 & 33 & 33\\\\\n\t 44 & 44 & 44 & 44 & 44\\\\\n\t 55 & 55 & 55 & 55 & 55\\\\\n\\end{tabular}\n",
            "text/markdown": "\nA matrix: 5 × 5 of type dbl\n\n| 11 | 11 | 11 | 11 | 11 |\n| 22 | 22 | 22 | 22 | 22 |\n| 33 | 33 | 33 | 33 | 33 |\n| 44 | 44 | 44 | 44 | 44 |\n| 55 | 55 | 55 | 55 | 55 |\n\n",
            "text/html": [
              "<table class=\"dataframe\">\n",
              "<caption>A matrix: 5 × 5 of type dbl</caption>\n",
              "<tbody>\n",
              "\t<tr><td>11</td><td>11</td><td>11</td><td>11</td><td>11</td></tr>\n",
              "\t<tr><td>22</td><td>22</td><td>22</td><td>22</td><td>22</td></tr>\n",
              "\t<tr><td>33</td><td>33</td><td>33</td><td>33</td><td>33</td></tr>\n",
              "\t<tr><td>44</td><td>44</td><td>44</td><td>44</td><td>44</td></tr>\n",
              "\t<tr><td>55</td><td>55</td><td>55</td><td>55</td><td>55</td></tr>\n",
              "</tbody>\n",
              "</table>\n"
            ]
          },
          "metadata": {}
        },
        {
          "output_type": "display_data",
          "data": {
            "text/plain": [
              "     [,1] [,2] [,3] [,4]\n",
              "[1,] 11   11   11   11  \n",
              "[2,] 22   22   22   22  \n",
              "[3,] 33   33   33   33  \n",
              "[4,] 44   44   44   44  "
            ],
            "text/latex": "A matrix: 4 × 4 of type dbl\n\\begin{tabular}{llll}\n\t 11 & 11 & 11 & 11\\\\\n\t 22 & 22 & 22 & 22\\\\\n\t 33 & 33 & 33 & 33\\\\\n\t 44 & 44 & 44 & 44\\\\\n\\end{tabular}\n",
            "text/markdown": "\nA matrix: 4 × 4 of type dbl\n\n| 11 | 11 | 11 | 11 |\n| 22 | 22 | 22 | 22 |\n| 33 | 33 | 33 | 33 |\n| 44 | 44 | 44 | 44 |\n\n",
            "text/html": [
              "<table class=\"dataframe\">\n",
              "<caption>A matrix: 4 × 4 of type dbl</caption>\n",
              "<tbody>\n",
              "\t<tr><td>11</td><td>11</td><td>11</td><td>11</td></tr>\n",
              "\t<tr><td>22</td><td>22</td><td>22</td><td>22</td></tr>\n",
              "\t<tr><td>33</td><td>33</td><td>33</td><td>33</td></tr>\n",
              "\t<tr><td>44</td><td>44</td><td>44</td><td>44</td></tr>\n",
              "</tbody>\n",
              "</table>\n"
            ]
          },
          "metadata": {}
        },
        {
          "output_type": "display_data",
          "data": {
            "text/plain": [
              "     [,1] [,2] [,3] [,4]\n",
              "[1,] 36    56   76   96 \n",
              "[2,] 52    72   92  112 \n",
              "[3,] 68    88  108  128 \n",
              "[4,] 84   104  124  144 "
            ],
            "text/latex": "A matrix: 4 × 4 of type dbl\n\\begin{tabular}{llll}\n\t 36 &  56 &  76 &  96\\\\\n\t 52 &  72 &  92 & 112\\\\\n\t 68 &  88 & 108 & 128\\\\\n\t 84 & 104 & 124 & 144\\\\\n\\end{tabular}\n",
            "text/markdown": "\nA matrix: 4 × 4 of type dbl\n\n| 36 |  56 |  76 |  96 |\n| 52 |  72 |  92 | 112 |\n| 68 |  88 | 108 | 128 |\n| 84 | 104 | 124 | 144 |\n\n",
            "text/html": [
              "<table class=\"dataframe\">\n",
              "<caption>A matrix: 4 × 4 of type dbl</caption>\n",
              "<tbody>\n",
              "\t<tr><td>36</td><td> 56</td><td> 76</td><td> 96</td></tr>\n",
              "\t<tr><td>52</td><td> 72</td><td> 92</td><td>112</td></tr>\n",
              "\t<tr><td>68</td><td> 88</td><td>108</td><td>128</td></tr>\n",
              "\t<tr><td>84</td><td>104</td><td>124</td><td>144</td></tr>\n",
              "</tbody>\n",
              "</table>\n"
            ]
          },
          "metadata": {}
        },
        {
          "output_type": "display_data",
          "data": {
            "text/plain": [
              "[1] 92"
            ],
            "text/latex": "92",
            "text/markdown": "92",
            "text/html": [
              "92"
            ]
          },
          "metadata": {}
        },
        {
          "output_type": "display_data",
          "data": {
            "text/plain": [
              "     [,1] [,2] [,3] [,4]\n",
              "[1,] 25   45   65    85 \n",
              "[2,] 30   50   70    90 \n",
              "[3,] 35   55   75    95 \n",
              "[4,] 40   60   80   100 "
            ],
            "text/latex": "A matrix: 4 × 4 of type dbl\n\\begin{tabular}{llll}\n\t 25 & 45 & 65 &  85\\\\\n\t 30 & 50 & 70 &  90\\\\\n\t 35 & 55 & 75 &  95\\\\\n\t 40 & 60 & 80 & 100\\\\\n\\end{tabular}\n",
            "text/markdown": "\nA matrix: 4 × 4 of type dbl\n\n| 25 | 45 | 65 |  85 |\n| 30 | 50 | 70 |  90 |\n| 35 | 55 | 75 |  95 |\n| 40 | 60 | 80 | 100 |\n\n",
            "text/html": [
              "<table class=\"dataframe\">\n",
              "<caption>A matrix: 4 × 4 of type dbl</caption>\n",
              "<tbody>\n",
              "\t<tr><td>25</td><td>45</td><td>65</td><td> 85</td></tr>\n",
              "\t<tr><td>30</td><td>50</td><td>70</td><td> 90</td></tr>\n",
              "\t<tr><td>35</td><td>55</td><td>75</td><td> 95</td></tr>\n",
              "\t<tr><td>40</td><td>60</td><td>80</td><td>100</td></tr>\n",
              "</tbody>\n",
              "</table>\n"
            ]
          },
          "metadata": {}
        },
        {
          "output_type": "display_data",
          "data": {
            "text/plain": [
              "     [,1] [,2] [,3] [,4]\n",
              "[1,] 30   50   70    90 \n",
              "[2,] 40   60   80   100 "
            ],
            "text/latex": "A matrix: 2 × 4 of type dbl\n\\begin{tabular}{llll}\n\t 30 & 50 & 70 &  90\\\\\n\t 40 & 60 & 80 & 100\\\\\n\\end{tabular}\n",
            "text/markdown": "\nA matrix: 2 × 4 of type dbl\n\n| 30 | 50 | 70 |  90 |\n| 40 | 60 | 80 | 100 |\n\n",
            "text/html": [
              "<table class=\"dataframe\">\n",
              "<caption>A matrix: 2 × 4 of type dbl</caption>\n",
              "<tbody>\n",
              "\t<tr><td>30</td><td>50</td><td>70</td><td> 90</td></tr>\n",
              "\t<tr><td>40</td><td>60</td><td>80</td><td>100</td></tr>\n",
              "</tbody>\n",
              "</table>\n"
            ]
          },
          "metadata": {}
        },
        {
          "output_type": "display_data",
          "data": {
            "text/plain": [
              "     [,1] [,2] [,3] [,4]\n",
              "[1,] 21   25   29   33  \n",
              "[2,] 22   26   30   34  \n",
              "[3,] 23   27   31   35  \n",
              "[4,] 24   28   32   36  "
            ],
            "text/latex": "A matrix: 4 × 4 of type int\n\\begin{tabular}{llll}\n\t 21 & 25 & 29 & 33\\\\\n\t 22 & 26 & 30 & 34\\\\\n\t 23 & 27 & 31 & 35\\\\\n\t 24 & 28 & 32 & 36\\\\\n\\end{tabular}\n",
            "text/markdown": "\nA matrix: 4 × 4 of type int\n\n| 21 | 25 | 29 | 33 |\n| 22 | 26 | 30 | 34 |\n| 23 | 27 | 31 | 35 |\n| 24 | 28 | 32 | 36 |\n\n",
            "text/html": [
              "<table class=\"dataframe\">\n",
              "<caption>A matrix: 4 × 4 of type int</caption>\n",
              "<tbody>\n",
              "\t<tr><td>21</td><td>25</td><td>29</td><td>33</td></tr>\n",
              "\t<tr><td>22</td><td>26</td><td>30</td><td>34</td></tr>\n",
              "\t<tr><td>23</td><td>27</td><td>31</td><td>35</td></tr>\n",
              "\t<tr><td>24</td><td>28</td><td>32</td><td>36</td></tr>\n",
              "</tbody>\n",
              "</table>\n"
            ]
          },
          "metadata": {}
        },
        {
          "output_type": "display_data",
          "data": {
            "text/plain": [
              "     [,1] [,2] [,3] [,4]\n",
              "[1,] 41   42   43   44  \n",
              "[2,] 45   46   47   48  \n",
              "[3,] 49   50   51   52  \n",
              "[4,] 53   54   55   56  "
            ],
            "text/latex": "A matrix: 4 × 4 of type int\n\\begin{tabular}{llll}\n\t 41 & 42 & 43 & 44\\\\\n\t 45 & 46 & 47 & 48\\\\\n\t 49 & 50 & 51 & 52\\\\\n\t 53 & 54 & 55 & 56\\\\\n\\end{tabular}\n",
            "text/markdown": "\nA matrix: 4 × 4 of type int\n\n| 41 | 42 | 43 | 44 |\n| 45 | 46 | 47 | 48 |\n| 49 | 50 | 51 | 52 |\n| 53 | 54 | 55 | 56 |\n\n",
            "text/html": [
              "<table class=\"dataframe\">\n",
              "<caption>A matrix: 4 × 4 of type int</caption>\n",
              "<tbody>\n",
              "\t<tr><td>41</td><td>42</td><td>43</td><td>44</td></tr>\n",
              "\t<tr><td>45</td><td>46</td><td>47</td><td>48</td></tr>\n",
              "\t<tr><td>49</td><td>50</td><td>51</td><td>52</td></tr>\n",
              "\t<tr><td>53</td><td>54</td><td>55</td><td>56</td></tr>\n",
              "</tbody>\n",
              "</table>\n"
            ]
          },
          "metadata": {}
        },
        {
          "output_type": "display_data",
          "data": {
            "text/plain": [
              "[1]  946 1222 1530 1870"
            ],
            "text/latex": "\\begin{enumerate*}\n\\item 946\n\\item 1222\n\\item 1530\n\\item 1870\n\\end{enumerate*}\n",
            "text/markdown": "1. 946\n2. 1222\n3. 1530\n4. 1870\n\n\n",
            "text/html": [
              "<style>\n",
              ".list-inline {list-style: none; margin:0; padding: 0}\n",
              ".list-inline>li {display: inline-block}\n",
              ".list-inline>li:not(:last-child)::after {content: \"\\00b7\"; padding: 0 .5ex}\n",
              "</style>\n",
              "<ol class=list-inline><li>946</li><li>1222</li><li>1530</li><li>1870</li></ol>\n"
            ]
          },
          "metadata": {}
        },
        {
          "output_type": "display_data",
          "data": {
            "text/plain": [
              "     [,1] [,2] [,3] [,4]\n",
              "[1,]  861 1125 1421 1749\n",
              "[2,]  924 1196 1500 1836\n",
              "[3,]  989 1269 1581 1925\n",
              "[4,] 1056 1344 1664 2016"
            ],
            "text/latex": "A matrix: 4 × 4 of type int\n\\begin{tabular}{llll}\n\t  861 & 1125 & 1421 & 1749\\\\\n\t  924 & 1196 & 1500 & 1836\\\\\n\t  989 & 1269 & 1581 & 1925\\\\\n\t 1056 & 1344 & 1664 & 2016\\\\\n\\end{tabular}\n",
            "text/markdown": "\nA matrix: 4 × 4 of type int\n\n|  861 | 1125 | 1421 | 1749 |\n|  924 | 1196 | 1500 | 1836 |\n|  989 | 1269 | 1581 | 1925 |\n| 1056 | 1344 | 1664 | 2016 |\n\n",
            "text/html": [
              "<table class=\"dataframe\">\n",
              "<caption>A matrix: 4 × 4 of type int</caption>\n",
              "<tbody>\n",
              "\t<tr><td> 861</td><td>1125</td><td>1421</td><td>1749</td></tr>\n",
              "\t<tr><td> 924</td><td>1196</td><td>1500</td><td>1836</td></tr>\n",
              "\t<tr><td> 989</td><td>1269</td><td>1581</td><td>1925</td></tr>\n",
              "\t<tr><td>1056</td><td>1344</td><td>1664</td><td>2016</td></tr>\n",
              "</tbody>\n",
              "</table>\n"
            ]
          },
          "metadata": {}
        },
        {
          "output_type": "display_data",
          "data": {
            "text/plain": [
              "     [,1] [,2] [,3] [,4] [,5]\n",
              "[1,] 11   11   11   11   11  \n",
              "[2,] 22   22   22   22   22  \n",
              "[3,] 33   33   33   33   33  \n",
              "[4,] 44   44   44   44   44  "
            ],
            "text/latex": "A matrix: 4 × 5 of type dbl\n\\begin{tabular}{lllll}\n\t 11 & 11 & 11 & 11 & 11\\\\\n\t 22 & 22 & 22 & 22 & 22\\\\\n\t 33 & 33 & 33 & 33 & 33\\\\\n\t 44 & 44 & 44 & 44 & 44\\\\\n\\end{tabular}\n",
            "text/markdown": "\nA matrix: 4 × 5 of type dbl\n\n| 11 | 11 | 11 | 11 | 11 |\n| 22 | 22 | 22 | 22 | 22 |\n| 33 | 33 | 33 | 33 | 33 |\n| 44 | 44 | 44 | 44 | 44 |\n\n",
            "text/html": [
              "<table class=\"dataframe\">\n",
              "<caption>A matrix: 4 × 5 of type dbl</caption>\n",
              "<tbody>\n",
              "\t<tr><td>11</td><td>11</td><td>11</td><td>11</td><td>11</td></tr>\n",
              "\t<tr><td>22</td><td>22</td><td>22</td><td>22</td><td>22</td></tr>\n",
              "\t<tr><td>33</td><td>33</td><td>33</td><td>33</td><td>33</td></tr>\n",
              "\t<tr><td>44</td><td>44</td><td>44</td><td>44</td><td>44</td></tr>\n",
              "</tbody>\n",
              "</table>\n"
            ]
          },
          "metadata": {}
        },
        {
          "output_type": "display_data",
          "data": {
            "text/plain": [
              "[1] 4 5"
            ],
            "text/latex": "\\begin{enumerate*}\n\\item 4\n\\item 5\n\\end{enumerate*}\n",
            "text/markdown": "1. 4\n2. 5\n\n\n",
            "text/html": [
              "<style>\n",
              ".list-inline {list-style: none; margin:0; padding: 0}\n",
              ".list-inline>li {display: inline-block}\n",
              ".list-inline>li:not(:last-child)::after {content: \"\\00b7\"; padding: 0 .5ex}\n",
              "</style>\n",
              "<ol class=list-inline><li>4</li><li>5</li></ol>\n"
            ]
          },
          "metadata": {}
        },
        {
          "output_type": "display_data",
          "data": {
            "text/plain": [
              "[1] 4 4"
            ],
            "text/latex": "\\begin{enumerate*}\n\\item 4\n\\item 4\n\\end{enumerate*}\n",
            "text/markdown": "1. 4\n2. 4\n\n\n",
            "text/html": [
              "<style>\n",
              ".list-inline {list-style: none; margin:0; padding: 0}\n",
              ".list-inline>li {display: inline-block}\n",
              ".list-inline>li:not(:last-child)::after {content: \"\\00b7\"; padding: 0 .5ex}\n",
              "</style>\n",
              "<ol class=list-inline><li>4</li><li>4</li></ol>\n"
            ]
          },
          "metadata": {}
        },
        {
          "output_type": "display_data",
          "data": {
            "text/plain": [
              "     [,1]   [,2]   [,3]   [,4]   [,5]  \n",
              "[1,] 158070 158070 158070 158070 158070\n",
              "[2,] 166760 166760 166760 166760 166760\n",
              "[3,] 175670 175670 175670 175670 175670\n",
              "[4,] 184800 184800 184800 184800 184800"
            ],
            "text/latex": "A matrix: 4 × 5 of type dbl\n\\begin{tabular}{lllll}\n\t 158070 & 158070 & 158070 & 158070 & 158070\\\\\n\t 166760 & 166760 & 166760 & 166760 & 166760\\\\\n\t 175670 & 175670 & 175670 & 175670 & 175670\\\\\n\t 184800 & 184800 & 184800 & 184800 & 184800\\\\\n\\end{tabular}\n",
            "text/markdown": "\nA matrix: 4 × 5 of type dbl\n\n| 158070 | 158070 | 158070 | 158070 | 158070 |\n| 166760 | 166760 | 166760 | 166760 | 166760 |\n| 175670 | 175670 | 175670 | 175670 | 175670 |\n| 184800 | 184800 | 184800 | 184800 | 184800 |\n\n",
            "text/html": [
              "<table class=\"dataframe\">\n",
              "<caption>A matrix: 4 × 5 of type dbl</caption>\n",
              "<tbody>\n",
              "\t<tr><td>158070</td><td>158070</td><td>158070</td><td>158070</td><td>158070</td></tr>\n",
              "\t<tr><td>166760</td><td>166760</td><td>166760</td><td>166760</td><td>166760</td></tr>\n",
              "\t<tr><td>175670</td><td>175670</td><td>175670</td><td>175670</td><td>175670</td></tr>\n",
              "\t<tr><td>184800</td><td>184800</td><td>184800</td><td>184800</td><td>184800</td></tr>\n",
              "</tbody>\n",
              "</table>\n"
            ]
          },
          "metadata": {}
        }
      ]
    },
    {
      "cell_type": "markdown",
      "metadata": {
        "id": "PqAhIoKBrGnx"
      },
      "source": [
        "# **4.Data Frames & Data Handling in R**"
      ]
    },
    {
      "cell_type": "code",
      "metadata": {
        "id": "SwJaUcLprQKG"
      },
      "source": [],
      "execution_count": 1,
      "outputs": []
    },
    {
      "cell_type": "code",
      "source": [],
      "metadata": {
        "id": "eW6uszrAPY67"
      },
      "execution_count": null,
      "outputs": []
    },
    {
      "cell_type": "code",
      "source": [],
      "metadata": {
        "id": "viheYG3pPZOj"
      },
      "execution_count": null,
      "outputs": []
    },
    {
      "cell_type": "code",
      "source": [],
      "metadata": {
        "id": "R3jpHdX2PZQN"
      },
      "execution_count": null,
      "outputs": []
    },
    {
      "cell_type": "code",
      "source": [],
      "metadata": {
        "id": "GIbrGvymPZRs"
      },
      "execution_count": null,
      "outputs": []
    },
    {
      "cell_type": "markdown",
      "metadata": {
        "id": "aV5SCXc5rd44"
      },
      "source": [
        "# **5.Descriptive Statistics**"
      ]
    },
    {
      "cell_type": "markdown",
      "source": [
        "    • Measures Of Frequency\n",
        "    • Measures Of Central Tendency (Mean, Median, Mode)\n",
        "    • Measures Of Variability Or Spread (Variance, IQR, Range)\n",
        "    • Measures Of Position (Quartile, Deciles, Percentiles)\n"
      ],
      "metadata": {
        "id": "XUMD1VfFd0v8"
      }
    },
    {
      "cell_type": "code",
      "metadata": {
        "id": "c1hxaZYUrl5m",
        "colab": {
          "base_uri": "https://localhost:8080/",
          "height": 260
        },
        "outputId": "2b6227ae-4144-437c-fa58-2402a9e035ba"
      },
      "source": [
        "#1\n",
        "height<-c(152,147,156,149,151,159,148,161,160,153,153,165,160,159,158,160)\n",
        "height\n",
        "\n",
        "#1.a\n",
        "mean(height)\n",
        "median(height)\n",
        "\n",
        "mode<-function(height){\n",
        "  uniqheight<-unique(height)\n",
        "  uniqheight[which.max(tabulate(match(height,uniqheight)))]\n",
        "}\n",
        "mode(height)\n",
        "\n",
        "#1.b\n",
        "quantile(height)\n",
        "IQR(height)\n",
        "\n",
        "#1.c\n",
        "sex<-c(\"F\",\"M\",\"M\",\"F\",\"F\",\"F\",\"M\",\"M\",\"M\",\"M\",\"F\",\"F\",\"M\",\"M\",\"F\",\"M\")\n",
        "sex\n",
        "tapply(height,sex,summary)\n",
        "\n",
        "\n"
      ],
      "execution_count": null,
      "outputs": [
        {
          "output_type": "display_data",
          "data": {
            "text/plain": [
              " [1] 152 147 156 149 151 159 148 161 160 153 153 165 160 159 158 160"
            ],
            "text/latex": "\\begin{enumerate*}\n\\item 152\n\\item 147\n\\item 156\n\\item 149\n\\item 151\n\\item 159\n\\item 148\n\\item 161\n\\item 160\n\\item 153\n\\item 153\n\\item 165\n\\item 160\n\\item 159\n\\item 158\n\\item 160\n\\end{enumerate*}\n",
            "text/markdown": "1. 152\n2. 147\n3. 156\n4. 149\n5. 151\n6. 159\n7. 148\n8. 161\n9. 160\n10. 153\n11. 153\n12. 165\n13. 160\n14. 159\n15. 158\n16. 160\n\n\n",
            "text/html": [
              "<style>\n",
              ".list-inline {list-style: none; margin:0; padding: 0}\n",
              ".list-inline>li {display: inline-block}\n",
              ".list-inline>li:not(:last-child)::after {content: \"\\00b7\"; padding: 0 .5ex}\n",
              "</style>\n",
              "<ol class=list-inline><li>152</li><li>147</li><li>156</li><li>149</li><li>151</li><li>159</li><li>148</li><li>161</li><li>160</li><li>153</li><li>153</li><li>165</li><li>160</li><li>159</li><li>158</li><li>160</li></ol>\n"
            ]
          },
          "metadata": {}
        },
        {
          "output_type": "display_data",
          "data": {
            "text/plain": [
              "[1] 155.6875"
            ],
            "text/latex": "155.6875",
            "text/markdown": "155.6875",
            "text/html": [
              "155.6875"
            ]
          },
          "metadata": {}
        },
        {
          "output_type": "display_data",
          "data": {
            "text/plain": [
              "[1] 157"
            ],
            "text/latex": "157",
            "text/markdown": "157",
            "text/html": [
              "157"
            ]
          },
          "metadata": {}
        },
        {
          "output_type": "display_data",
          "data": {
            "text/plain": [
              "[1] 160"
            ],
            "text/latex": "160",
            "text/markdown": "160",
            "text/html": [
              "160"
            ]
          },
          "metadata": {}
        },
        {
          "output_type": "display_data",
          "data": {
            "text/plain": [
              "    0%    25%    50%    75%   100% \n",
              "147.00 151.75 157.00 160.00 165.00 "
            ],
            "text/latex": "\\begin{description*}\n\\item[0\\textbackslash{}\\%] 147\n\\item[25\\textbackslash{}\\%] 151.75\n\\item[50\\textbackslash{}\\%] 157\n\\item[75\\textbackslash{}\\%] 160\n\\item[100\\textbackslash{}\\%] 165\n\\end{description*}\n",
            "text/markdown": "0%\n:   14725%\n:   151.7550%\n:   15775%\n:   160100%\n:   165\n\n",
            "text/html": [
              "<style>\n",
              ".dl-inline {width: auto; margin:0; padding: 0}\n",
              ".dl-inline>dt, .dl-inline>dd {float: none; width: auto; display: inline-block}\n",
              ".dl-inline>dt::after {content: \":\\0020\"; padding-right: .5ex}\n",
              ".dl-inline>dt:not(:first-of-type) {padding-left: .5ex}\n",
              "</style><dl class=dl-inline><dt>0%</dt><dd>147</dd><dt>25%</dt><dd>151.75</dd><dt>50%</dt><dd>157</dd><dt>75%</dt><dd>160</dd><dt>100%</dt><dd>165</dd></dl>\n"
            ]
          },
          "metadata": {}
        },
        {
          "output_type": "display_data",
          "data": {
            "text/plain": [
              "[1] 8.25"
            ],
            "text/latex": "8.25",
            "text/markdown": "8.25",
            "text/html": [
              "8.25"
            ]
          },
          "metadata": {}
        },
        {
          "output_type": "display_data",
          "data": {
            "text/plain": [
              " [1] \"F\" \"M\" \"M\" \"F\" \"F\" \"F\" \"M\" \"M\" \"M\" \"M\" \"F\" \"F\" \"M\" \"M\" \"F\" \"M\""
            ],
            "text/latex": "\\begin{enumerate*}\n\\item 'F'\n\\item 'M'\n\\item 'M'\n\\item 'F'\n\\item 'F'\n\\item 'F'\n\\item 'M'\n\\item 'M'\n\\item 'M'\n\\item 'M'\n\\item 'F'\n\\item 'F'\n\\item 'M'\n\\item 'M'\n\\item 'F'\n\\item 'M'\n\\end{enumerate*}\n",
            "text/markdown": "1. 'F'\n2. 'M'\n3. 'M'\n4. 'F'\n5. 'F'\n6. 'F'\n7. 'M'\n8. 'M'\n9. 'M'\n10. 'M'\n11. 'F'\n12. 'F'\n13. 'M'\n14. 'M'\n15. 'F'\n16. 'M'\n\n\n",
            "text/html": [
              "<style>\n",
              ".list-inline {list-style: none; margin:0; padding: 0}\n",
              ".list-inline>li {display: inline-block}\n",
              ".list-inline>li:not(:last-child)::after {content: \"\\00b7\"; padding: 0 .5ex}\n",
              "</style>\n",
              "<ol class=list-inline><li>'F'</li><li>'M'</li><li>'M'</li><li>'F'</li><li>'F'</li><li>'F'</li><li>'M'</li><li>'M'</li><li>'M'</li><li>'M'</li><li>'F'</li><li>'F'</li><li>'M'</li><li>'M'</li><li>'F'</li><li>'M'</li></ol>\n"
            ]
          },
          "metadata": {}
        },
        {
          "output_type": "display_data",
          "data": {
            "text/plain": [
              "$F\n",
              "   Min. 1st Qu.  Median    Mean 3rd Qu.    Max. \n",
              "  149.0   151.5   153.0   155.3   158.5   165.0 \n",
              "\n",
              "$M\n",
              "   Min. 1st Qu.  Median    Mean 3rd Qu.    Max. \n",
              "    147     153     159     156     160     161 \n"
            ]
          },
          "metadata": {}
        }
      ]
    },
    {
      "cell_type": "code",
      "source": [
        "#2\n",
        "set.seed(20)\n",
        "s<-sample(1:50,20,replace = T)\n",
        "s\n",
        "\n",
        "frequency<-table(s)\n",
        "frequency\n",
        "\n",
        "r_frequency<-prop.table(table(s))\n",
        "r_frequency\n",
        "\n",
        "\n",
        "cumsum(s)"
      ],
      "metadata": {
        "colab": {
          "base_uri": "https://localhost:8080/",
          "height": 190
        },
        "id": "gezAcxljgLUJ",
        "outputId": "342e6385-9c0e-4532-8875-3c40f4716a16"
      },
      "execution_count": null,
      "outputs": [
        {
          "output_type": "display_data",
          "data": {
            "text/plain": [
              " [1] 38 43  2 34 29 30 45 41  3 45 14  8 50  9 21 17  6 40 20 37"
            ],
            "text/latex": "\\begin{enumerate*}\n\\item 38\n\\item 43\n\\item 2\n\\item 34\n\\item 29\n\\item 30\n\\item 45\n\\item 41\n\\item 3\n\\item 45\n\\item 14\n\\item 8\n\\item 50\n\\item 9\n\\item 21\n\\item 17\n\\item 6\n\\item 40\n\\item 20\n\\item 37\n\\end{enumerate*}\n",
            "text/markdown": "1. 38\n2. 43\n3. 2\n4. 34\n5. 29\n6. 30\n7. 45\n8. 41\n9. 3\n10. 45\n11. 14\n12. 8\n13. 50\n14. 9\n15. 21\n16. 17\n17. 6\n18. 40\n19. 20\n20. 37\n\n\n",
            "text/html": [
              "<style>\n",
              ".list-inline {list-style: none; margin:0; padding: 0}\n",
              ".list-inline>li {display: inline-block}\n",
              ".list-inline>li:not(:last-child)::after {content: \"\\00b7\"; padding: 0 .5ex}\n",
              "</style>\n",
              "<ol class=list-inline><li>38</li><li>43</li><li>2</li><li>34</li><li>29</li><li>30</li><li>45</li><li>41</li><li>3</li><li>45</li><li>14</li><li>8</li><li>50</li><li>9</li><li>21</li><li>17</li><li>6</li><li>40</li><li>20</li><li>37</li></ol>\n"
            ]
          },
          "metadata": {}
        },
        {
          "output_type": "display_data",
          "data": {
            "text/plain": [
              "s\n",
              " 2  3  6  8  9 14 17 20 21 29 30 34 37 38 40 41 43 45 50 \n",
              " 1  1  1  1  1  1  1  1  1  1  1  1  1  1  1  1  1  2  1 "
            ]
          },
          "metadata": {}
        },
        {
          "output_type": "display_data",
          "data": {
            "text/plain": [
              "s\n",
              "   2    3    6    8    9   14   17   20   21   29   30   34   37   38   40   41 \n",
              "0.05 0.05 0.05 0.05 0.05 0.05 0.05 0.05 0.05 0.05 0.05 0.05 0.05 0.05 0.05 0.05 \n",
              "  43   45   50 \n",
              "0.05 0.10 0.05 "
            ]
          },
          "metadata": {}
        },
        {
          "output_type": "display_data",
          "data": {
            "text/plain": [
              " [1]  38  81  83 117 146 176 221 262 265 310 324 332 382 391 412 429 435 475 495\n",
              "[20] 532"
            ],
            "text/latex": "\\begin{enumerate*}\n\\item 38\n\\item 81\n\\item 83\n\\item 117\n\\item 146\n\\item 176\n\\item 221\n\\item 262\n\\item 265\n\\item 310\n\\item 324\n\\item 332\n\\item 382\n\\item 391\n\\item 412\n\\item 429\n\\item 435\n\\item 475\n\\item 495\n\\item 532\n\\end{enumerate*}\n",
            "text/markdown": "1. 38\n2. 81\n3. 83\n4. 117\n5. 146\n6. 176\n7. 221\n8. 262\n9. 265\n10. 310\n11. 324\n12. 332\n13. 382\n14. 391\n15. 412\n16. 429\n17. 435\n18. 475\n19. 495\n20. 532\n\n\n",
            "text/html": [
              "<style>\n",
              ".list-inline {list-style: none; margin:0; padding: 0}\n",
              ".list-inline>li {display: inline-block}\n",
              ".list-inline>li:not(:last-child)::after {content: \"\\00b7\"; padding: 0 .5ex}\n",
              "</style>\n",
              "<ol class=list-inline><li>38</li><li>81</li><li>83</li><li>117</li><li>146</li><li>176</li><li>221</li><li>262</li><li>265</li><li>310</li><li>324</li><li>332</li><li>382</li><li>391</li><li>412</li><li>429</li><li>435</li><li>475</li><li>495</li><li>532</li></ol>\n"
            ]
          },
          "metadata": {}
        }
      ]
    },
    {
      "cell_type": "code",
      "source": [
        "#3\n",
        "marks<-c(75,NA,68,79,80,65,60,45,NA,NA,72,85,62,39,90,78,45,65,66,62,NA,75,78,26,79,56,52,51,56,58 )\n",
        "marks\n",
        "\n",
        "summary(marks)\n",
        "var(marks,na.rm = T)\n",
        "range<-max(marks,na.rm = T)-min(marks,na.rm = T)\n",
        "range\n",
        "sd(marks,na.rm = T)\n",
        "\n",
        "mean(marks,na.rm = T)\n",
        "IQR(marks,na.rm = T)\n",
        "\n"
      ],
      "metadata": {
        "colab": {
          "base_uri": "https://localhost:8080/",
          "height": 173
        },
        "id": "8pKFsWfLgLW7",
        "outputId": "7a9e3bc3-cdea-4ea5-eb21-f76ddc038eda"
      },
      "execution_count": null,
      "outputs": [
        {
          "output_type": "display_data",
          "data": {
            "text/plain": [
              " [1] 75 NA 68 79 80 65 60 45 NA NA 72 85 62 39 90 78 45 65 66 62 NA 75 78 26 79\n",
              "[26] 56 52 51 56 58"
            ],
            "text/latex": "\\begin{enumerate*}\n\\item 75\n\\item <NA>\n\\item 68\n\\item 79\n\\item 80\n\\item 65\n\\item 60\n\\item 45\n\\item <NA>\n\\item <NA>\n\\item 72\n\\item 85\n\\item 62\n\\item 39\n\\item 90\n\\item 78\n\\item 45\n\\item 65\n\\item 66\n\\item 62\n\\item <NA>\n\\item 75\n\\item 78\n\\item 26\n\\item 79\n\\item 56\n\\item 52\n\\item 51\n\\item 56\n\\item 58\n\\end{enumerate*}\n",
            "text/markdown": "1. 75\n2. &lt;NA&gt;\n3. 68\n4. 79\n5. 80\n6. 65\n7. 60\n8. 45\n9. &lt;NA&gt;\n10. &lt;NA&gt;\n11. 72\n12. 85\n13. 62\n14. 39\n15. 90\n16. 78\n17. 45\n18. 65\n19. 66\n20. 62\n21. &lt;NA&gt;\n22. 75\n23. 78\n24. 26\n25. 79\n26. 56\n27. 52\n28. 51\n29. 56\n30. 58\n\n\n",
            "text/html": [
              "<style>\n",
              ".list-inline {list-style: none; margin:0; padding: 0}\n",
              ".list-inline>li {display: inline-block}\n",
              ".list-inline>li:not(:last-child)::after {content: \"\\00b7\"; padding: 0 .5ex}\n",
              "</style>\n",
              "<ol class=list-inline><li>75</li><li>&lt;NA&gt;</li><li>68</li><li>79</li><li>80</li><li>65</li><li>60</li><li>45</li><li>&lt;NA&gt;</li><li>&lt;NA&gt;</li><li>72</li><li>85</li><li>62</li><li>39</li><li>90</li><li>78</li><li>45</li><li>65</li><li>66</li><li>62</li><li>&lt;NA&gt;</li><li>75</li><li>78</li><li>26</li><li>79</li><li>56</li><li>52</li><li>51</li><li>56</li><li>58</li></ol>\n"
            ]
          },
          "metadata": {}
        },
        {
          "output_type": "display_data",
          "data": {
            "text/plain": [
              "   Min. 1st Qu.  Median    Mean 3rd Qu.    Max.    NA's \n",
              "  26.00   56.00   65.00   64.12   77.25   90.00       4 "
            ]
          },
          "metadata": {}
        },
        {
          "output_type": "display_data",
          "data": {
            "text/plain": [
              "[1] 233.3862"
            ],
            "text/latex": "233.386153846154",
            "text/markdown": "233.386153846154",
            "text/html": [
              "233.386153846154"
            ]
          },
          "metadata": {}
        },
        {
          "output_type": "display_data",
          "data": {
            "text/plain": [
              "[1] 64"
            ],
            "text/latex": "64",
            "text/markdown": "64",
            "text/html": [
              "64"
            ]
          },
          "metadata": {}
        },
        {
          "output_type": "display_data",
          "data": {
            "text/plain": [
              "[1] 15.27698"
            ],
            "text/latex": "15.2769811758133",
            "text/markdown": "15.2769811758133",
            "text/html": [
              "15.2769811758133"
            ]
          },
          "metadata": {}
        },
        {
          "output_type": "display_data",
          "data": {
            "text/plain": [
              "[1] 64.11538"
            ],
            "text/latex": "64.1153846153846",
            "text/markdown": "64.1153846153846",
            "text/html": [
              "64.1153846153846"
            ]
          },
          "metadata": {}
        },
        {
          "output_type": "display_data",
          "data": {
            "text/plain": [
              "[1] 21.25"
            ],
            "text/latex": "21.25",
            "text/markdown": "21.25",
            "text/html": [
              "21.25"
            ]
          },
          "metadata": {}
        }
      ]
    },
    {
      "cell_type": "code",
      "source": [
        "#4\n",
        "data(\"mtcars\")\n",
        "str(\"mtcars\")\n"
      ],
      "metadata": {
        "id": "M1s2SuhkgLZz",
        "colab": {
          "base_uri": "https://localhost:8080/"
        },
        "outputId": "6f05d33d-41e9-4868-f2d2-c8f8143779fc"
      },
      "execution_count": null,
      "outputs": [
        {
          "output_type": "stream",
          "name": "stdout",
          "text": [
            " chr \"mtcars\"\n"
          ]
        }
      ]
    },
    {
      "cell_type": "code",
      "source": [],
      "metadata": {
        "id": "lzNSHvl9gLcb"
      },
      "execution_count": 3,
      "outputs": []
    },
    {
      "cell_type": "code",
      "source": [],
      "metadata": {
        "id": "S5fK9zszgLfp"
      },
      "execution_count": 4,
      "outputs": []
    },
    {
      "cell_type": "markdown",
      "metadata": {
        "id": "fZkUjv5trmUH"
      },
      "source": [
        "# **6.Graphs using R**"
      ]
    },
    {
      "cell_type": "code",
      "metadata": {
        "id": "tH1HNl3-rsK-"
      },
      "source": [],
      "execution_count": 2,
      "outputs": []
    },
    {
      "cell_type": "markdown",
      "metadata": {
        "id": "lE9Zdo6CQF5p"
      },
      "source": [
        "# **7.Functions in R**\n",
        "\n",
        "  Built in R function\n",
        "\n",
        "  User defined function"
      ]
    },
    {
      "cell_type": "markdown",
      "metadata": {
        "id": "g4KxmG7KYOk-"
      },
      "source": [
        "\n",
        "## **User defined function**"
      ]
    },
    {
      "cell_type": "code",
      "metadata": {
        "id": "yGTauRjDQIJm",
        "colab": {
          "base_uri": "https://localhost:8080/",
          "height": 34
        },
        "outputId": "c6adf64e-6695-4574-d91c-81eb3426a89d"
      },
      "source": [
        "square_root<-function(x){\n",
        "  answer<-sqrt(x)\n",
        "  return(answer)\n",
        "}\n",
        "square_root(8)"
      ],
      "execution_count": null,
      "outputs": [
        {
          "output_type": "display_data",
          "data": {
            "text/plain": [
              "[1] 2.828427"
            ],
            "text/latex": "2.82842712474619",
            "text/markdown": "2.82842712474619",
            "text/html": [
              "2.82842712474619"
            ]
          },
          "metadata": {}
        }
      ]
    },
    {
      "cell_type": "code",
      "metadata": {
        "colab": {
          "base_uri": "https://localhost:8080/"
        },
        "id": "_jTaM8T_ZZiq",
        "outputId": "46139c1d-b6ea-4acf-9432-f21adc813622"
      },
      "source": [
        "no.arg<-function(){\n",
        "  for (i in 1:10){\n",
        "    print(i+5)\n",
        "  }\n",
        "}\n",
        "no.arg()"
      ],
      "execution_count": null,
      "outputs": [
        {
          "output_type": "stream",
          "name": "stdout",
          "text": [
            "[1] 6\n",
            "[1] 7\n",
            "[1] 8\n",
            "[1] 9\n",
            "[1] 10\n",
            "[1] 11\n",
            "[1] 12\n",
            "[1] 13\n",
            "[1] 14\n",
            "[1] 15\n"
          ]
        }
      ]
    },
    {
      "cell_type": "code",
      "metadata": {
        "colab": {
          "base_uri": "https://localhost:8080/",
          "height": 34
        },
        "id": "rHT6ECKJZtR5",
        "outputId": "6f914aa2-cfce-4291-ea51-b698e48c4a63"
      },
      "source": [
        "with.arg<-function(x,y,z){\n",
        "  ans=x^2+y-z\n",
        "  return(ans)\n",
        "}\n",
        "with.arg(5,7,2)"
      ],
      "execution_count": null,
      "outputs": [
        {
          "output_type": "display_data",
          "data": {
            "text/plain": [
              "[1] 30"
            ],
            "text/latex": "30",
            "text/markdown": "30",
            "text/html": [
              "30"
            ]
          },
          "metadata": {}
        }
      ]
    },
    {
      "cell_type": "code",
      "metadata": {
        "colab": {
          "base_uri": "https://localhost:8080/",
          "height": 50
        },
        "id": "UJeawcOCcllW",
        "outputId": "a360972f-9352-46d4-a888-dd8d177e48db"
      },
      "source": [
        "myfct<-function(x1,x2=7){\n",
        "  v1<-x1-x2\n",
        "  v2<-x1^x2\n",
        "  v2_new<-signif(v2,digits = 3)\n",
        "  ans<-c(v1,v2_new)\n",
        "\n",
        "  return(ans)\n",
        "}\n",
        "myfct(3,5)\n",
        "myfct(x1=3,x2=5)\n",
        "myfct(x2=5)"
      ],
      "execution_count": null,
      "outputs": [
        {
          "output_type": "display_data",
          "data": {
            "text/plain": [
              "[1]  -2 243"
            ],
            "text/latex": "\\begin{enumerate*}\n\\item -2\n\\item 243\n\\end{enumerate*}\n",
            "text/markdown": "1. -2\n2. 243\n\n\n",
            "text/html": [
              "<style>\n",
              ".list-inline {list-style: none; margin:0; padding: 0}\n",
              ".list-inline>li {display: inline-block}\n",
              ".list-inline>li:not(:last-child)::after {content: \"\\00b7\"; padding: 0 .5ex}\n",
              "</style>\n",
              "<ol class=list-inline><li>-2</li><li>243</li></ol>\n"
            ]
          },
          "metadata": {}
        },
        {
          "output_type": "display_data",
          "data": {
            "text/plain": [
              "[1]  -2 243"
            ],
            "text/latex": "\\begin{enumerate*}\n\\item -2\n\\item 243\n\\end{enumerate*}\n",
            "text/markdown": "1. -2\n2. 243\n\n\n",
            "text/html": [
              "<style>\n",
              ".list-inline {list-style: none; margin:0; padding: 0}\n",
              ".list-inline>li {display: inline-block}\n",
              ".list-inline>li:not(:last-child)::after {content: \"\\00b7\"; padding: 0 .5ex}\n",
              "</style>\n",
              "<ol class=list-inline><li>-2</li><li>243</li></ol>\n"
            ]
          },
          "metadata": {}
        }
      ]
    },
    {
      "cell_type": "code",
      "metadata": {
        "colab": {
          "base_uri": "https://localhost:8080/",
          "height": 178
        },
        "id": "_lXccVuId0xd",
        "outputId": "6fb62abf-9206-42a8-db18-3ed3c9e4d716"
      },
      "source": [
        "lazy_fn<-function(x,y,z){\n",
        "  print(x^y)\n",
        "  print(y^2)\n",
        "  print(z+3)\n",
        "}\n",
        "lazy_fn(2,4)"
      ],
      "execution_count": null,
      "outputs": [
        {
          "output_type": "stream",
          "name": "stdout",
          "text": [
            "[1] 16\n",
            "[1] 16\n"
          ]
        },
        {
          "output_type": "error",
          "ename": "ERROR",
          "evalue": "ignored",
          "traceback": [
            "Error in print(z + 3): argument \"z\" is missing, with no default\nTraceback:\n",
            "1. lazy_fn(2, 4)",
            "2. print(z + 3)   # at line 4 of file <text>"
          ]
        }
      ]
    },
    {
      "cell_type": "code",
      "metadata": {
        "colab": {
          "base_uri": "https://localhost:8080/",
          "height": 34
        },
        "id": "srwbvS20eg-S",
        "outputId": "eb17372b-3662-492e-fb42-f4c68ac16522"
      },
      "source": [
        "mean.fct<-function(x,mean_of=mean(x)){\n",
        "  x<=x[complete.cases(x)]\n",
        "  return(mean_of)\n",
        "}\n",
        "mean.fct(c(2,4,6,8,NA))"
      ],
      "execution_count": null,
      "outputs": [
        {
          "output_type": "display_data",
          "data": {
            "text/plain": [
              "[1] 5"
            ],
            "text/latex": "5",
            "text/markdown": "5",
            "text/html": [
              "5"
            ]
          },
          "metadata": {}
        }
      ]
    },
    {
      "cell_type": "code",
      "metadata": {
        "colab": {
          "base_uri": "https://localhost:8080/"
        },
        "id": "p5kF8x0ohTgr",
        "outputId": "693b00af-0451-4eb6-8944-b4c17676507e"
      },
      "source": [
        "new.fct<-function(y){\n",
        "  y<-readline(\"Enter the number: \")\n",
        "  y<-as.integer(y)\n",
        "  ans<-(y+5)\n",
        "}\n",
        "my.fct<-function(x,FUN){\n",
        "  cat(\"The answer is: \",x*FUN(y))\n",
        "}\n",
        "my.fct(x=c(2,4,6,8,10),FUN=new.fct)"
      ],
      "execution_count": null,
      "outputs": [
        {
          "output_type": "stream",
          "name": "stdout",
          "text": [
            "Enter the number: 5\n",
            "The answer is:  20 40 60 80 100"
          ]
        }
      ]
    },
    {
      "cell_type": "code",
      "source": [
        "odd.even<-function(){\n",
        "  x<-readline(\"enter the value: \")\n",
        "  x<-as.integer(x)\n",
        "\n",
        "  if (x%%2 == 0){\n",
        "    cat(x ,'is even')\n",
        "  }else\n",
        "  cat(x, 'is odd')\n",
        "}\n",
        "odd.even()"
      ],
      "metadata": {
        "colab": {
          "base_uri": "https://localhost:8080/"
        },
        "id": "WLtu4JXQHgFg",
        "outputId": "d067efb4-e6cb-4cf5-f92d-4a3c56de78a1"
      },
      "execution_count": null,
      "outputs": [
        {
          "output_type": "stream",
          "name": "stdout",
          "text": [
            "enter the value: 5\n",
            "5 is odd"
          ]
        }
      ]
    },
    {
      "cell_type": "code",
      "metadata": {
        "colab": {
          "base_uri": "https://localhost:8080/",
          "height": 279
        },
        "id": "TmJOe7UginCp",
        "outputId": "f2903f5c-4971-4dcd-99a8-1bec40b46a44"
      },
      "source": [
        "args(new.fct)\n",
        "new.fct\n",
        "Editted_fct<- edit(new.fct)\n",
        "Editted_fct"
      ],
      "execution_count": null,
      "outputs": [
        {
          "output_type": "display_data",
          "data": {
            "text/plain": [
              "function (y) \n",
              "NULL"
            ],
            "text/latex": "\\begin{minted}{r}\nfunction (y) \nNULL\n\\end{minted}",
            "text/markdown": "```r\nfunction (y) \nNULL\n```",
            "text/html": [
              "<pre class=language-r><code>function (y) \n",
              "NULL</code></pre>"
            ]
          },
          "metadata": {}
        },
        {
          "output_type": "display_data",
          "data": {
            "text/plain": [
              "function(y){\n",
              "  y<-readline(\"Enter the number: \")\n",
              "  y<-as.integer(y)\n",
              "  ans<-(y+5)\n",
              "}"
            ],
            "text/latex": "\\begin{minted}{r}\nfunction (y) \n\\{\n    y <- readline(\"Enter the number: \")\n    y <- as.integer(y)\n    ans <- (y + 5)\n\\}\n\\end{minted}",
            "text/markdown": "```r\nfunction (y) \n{\n    y <- readline(\"Enter the number: \")\n    y <- as.integer(y)\n    ans <- (y + 5)\n}\n```",
            "text/html": [
              "<pre class=language-r><code>function (y) \n",
              "{\n",
              "<span style=white-space:pre-wrap>    y &lt;- readline(\"Enter the number: \")</span>\n",
              "<span style=white-space:pre-wrap>    y &lt;- as.integer(y)</span>\n",
              "<span style=white-space:pre-wrap>    ans &lt;- (y + 5)</span>\n",
              "}</code></pre>"
            ]
          },
          "metadata": {}
        },
        {
          "output_type": "error",
          "ename": "ERROR",
          "evalue": "ignored",
          "traceback": [
            "Error in edit(new.fct): ‘edit()’ not yet supported in the Jupyter R kernel\nTraceback:\n",
            "1. edit(new.fct)",
            "2. stop(sQuote(\"edit()\"), \" not yet supported in the Jupyter R kernel\")"
          ]
        }
      ]
    },
    {
      "cell_type": "markdown",
      "metadata": {
        "id": "yIWr5OM8jd1C"
      },
      "source": [
        "**Exercise**"
      ]
    },
    {
      "cell_type": "code",
      "metadata": {
        "colab": {
          "base_uri": "https://localhost:8080/",
          "height": 34
        },
        "id": "E7IoboJRiyGU",
        "outputId": "4dd6ce93-6e6d-4d51-de8d-9ab367c61af2"
      },
      "source": [
        "#1\n",
        "function.one<-function(x,y){\n",
        "  sum<-x+y\n",
        "  average<-sum/2\n",
        "  return(c(sum,average))\n",
        "}\n",
        "function.one(7,5)"
      ],
      "execution_count": null,
      "outputs": [
        {
          "output_type": "display_data",
          "data": {
            "text/plain": [
              "[1] 12  6"
            ],
            "text/latex": "\\begin{enumerate*}\n\\item 12\n\\item 6\n\\end{enumerate*}\n",
            "text/markdown": "1. 12\n2. 6\n\n\n",
            "text/html": [
              "<style>\n",
              ".list-inline {list-style: none; margin:0; padding: 0}\n",
              ".list-inline>li {display: inline-block}\n",
              ".list-inline>li:not(:last-child)::after {content: \"\\00b7\"; padding: 0 .5ex}\n",
              "</style>\n",
              "<ol class=list-inline><li>12</li><li>6</li></ol>\n"
            ]
          },
          "metadata": {}
        }
      ]
    },
    {
      "cell_type": "code",
      "metadata": {
        "id": "x8sfglTOhT0z",
        "colab": {
          "base_uri": "https://localhost:8080/"
        },
        "outputId": "ec478dfe-6034-4e21-c6a9-328eafc2da7c"
      },
      "source": [
        "#2\n",
        "function.two<-function(x){\n",
        "  Kelvin<-(x+273.15)\n",
        "  cat(\"The temperatur in Kelvin: \",Kelvin)\n",
        "\n",
        "}\n",
        "function.two(10)"
      ],
      "execution_count": null,
      "outputs": [
        {
          "output_type": "stream",
          "name": "stdout",
          "text": [
            "The temperatur in Kelvin:  283.15"
          ]
        }
      ]
    },
    {
      "cell_type": "code",
      "metadata": {
        "colab": {
          "base_uri": "https://localhost:8080/",
          "height": 34
        },
        "id": "HAwWy4mgrJls",
        "outputId": "5959153f-6aa0-4053-f004-71ae6c9720e3"
      },
      "source": [
        "#3\n",
        "function.three<-function(x){\n",
        "  return(x^2)\n",
        "}\n",
        "function.three(c(1:10))"
      ],
      "execution_count": null,
      "outputs": [
        {
          "output_type": "display_data",
          "data": {
            "text/plain": [
              " [1]   1   4   9  16  25  36  49  64  81 100"
            ],
            "text/latex": "\\begin{enumerate*}\n\\item 1\n\\item 4\n\\item 9\n\\item 16\n\\item 25\n\\item 36\n\\item 49\n\\item 64\n\\item 81\n\\item 100\n\\end{enumerate*}\n",
            "text/markdown": "1. 1\n2. 4\n3. 9\n4. 16\n5. 25\n6. 36\n7. 49\n8. 64\n9. 81\n10. 100\n\n\n",
            "text/html": [
              "<style>\n",
              ".list-inline {list-style: none; margin:0; padding: 0}\n",
              ".list-inline>li {display: inline-block}\n",
              ".list-inline>li:not(:last-child)::after {content: \"\\00b7\"; padding: 0 .5ex}\n",
              "</style>\n",
              "<ol class=list-inline><li>1</li><li>4</li><li>9</li><li>16</li><li>25</li><li>36</li><li>49</li><li>64</li><li>81</li><li>100</li></ol>\n"
            ]
          },
          "metadata": {}
        }
      ]
    },
    {
      "cell_type": "code",
      "metadata": {
        "colab": {
          "base_uri": "https://localhost:8080/",
          "height": 84
        },
        "id": "lHXw1I4Vs8Oz",
        "outputId": "3d390f69-dcf7-4e3b-a77c-5f0a2f74548e"
      },
      "source": [
        "#4\n",
        "function.four<-function(n){\n",
        "  ans<-c()\n",
        "  for (i in 1:n){\n",
        "      ans[i]<-readline(paste(\"Enter the number\", i ,\":\"))\n",
        "      ans<-as.integer(ans)\n",
        "  }\n",
        "  sum<-sum(ans)\n",
        "  average<-sum/length(ans)\n",
        "  return(c(sum,average))\n",
        "}\n",
        "function.four(3)"
      ],
      "execution_count": null,
      "outputs": [
        {
          "name": "stdout",
          "output_type": "stream",
          "text": [
            "Enter the number 1 :1\n",
            "Enter the number 2 :2\n",
            "Enter the number 3 :3\n"
          ]
        },
        {
          "output_type": "display_data",
          "data": {
            "text/plain": [
              "[1] 6 2"
            ],
            "text/latex": "\\begin{enumerate*}\n\\item 6\n\\item 2\n\\end{enumerate*}\n",
            "text/markdown": "1. 6\n2. 2\n\n\n",
            "text/html": [
              "<style>\n",
              ".list-inline {list-style: none; margin:0; padding: 0}\n",
              ".list-inline>li {display: inline-block}\n",
              ".list-inline>li:not(:last-child)::after {content: \"\\00b7\"; padding: 0 .5ex}\n",
              "</style>\n",
              "<ol class=list-inline><li>6</li><li>2</li></ol>\n"
            ]
          },
          "metadata": {}
        }
      ]
    },
    {
      "cell_type": "code",
      "metadata": {
        "colab": {
          "base_uri": "https://localhost:8080/"
        },
        "id": "zjwDz1R2wKQj",
        "outputId": "466245fe-5fbe-473b-a15d-c08f781779bb"
      },
      "source": [
        "#5\n",
        "function.five<-function(x,y=10){\n",
        "  cat(\"sub:\",(x-y))\n",
        "  cat(\"\\nadd:\",(x+y))\n",
        "  cat(\"\\nmul:\",(x*y))\n",
        "  cat(\"\\ndiv:\",(x/y))\n",
        "}\n",
        "function.five(10,5)\n"
      ],
      "execution_count": null,
      "outputs": [
        {
          "output_type": "stream",
          "name": "stdout",
          "text": [
            "sub: 5\n",
            "add: 15\n",
            "mul: 50\n",
            "div: 2"
          ]
        }
      ]
    },
    {
      "cell_type": "code",
      "metadata": {
        "id": "7DUJ3EVgy1eR"
      },
      "source": [
        "#6\n",
        "function.six<-function()\n"
      ],
      "execution_count": null,
      "outputs": []
    },
    {
      "cell_type": "code",
      "metadata": {
        "id": "ZgfUZD72zCWv"
      },
      "source": [
        "#7"
      ],
      "execution_count": null,
      "outputs": []
    },
    {
      "cell_type": "code",
      "metadata": {
        "id": "5ya6pdTxzCgz"
      },
      "source": [
        "#8"
      ],
      "execution_count": null,
      "outputs": []
    },
    {
      "cell_type": "code",
      "metadata": {
        "id": "jrgvCKbrzCrA"
      },
      "source": [
        "#9"
      ],
      "execution_count": null,
      "outputs": []
    },
    {
      "cell_type": "code",
      "metadata": {
        "id": "7CAf3DBezC-W"
      },
      "source": [
        "#10"
      ],
      "execution_count": null,
      "outputs": []
    },
    {
      "cell_type": "markdown",
      "metadata": {
        "id": "iZhMo_kbRIHm"
      },
      "source": [
        "# **8.Control Structures**\n",
        "\n",
        "    *if & else\n",
        "    *for\n",
        "    *while\n",
        "    *repeat\n",
        "    *break\n",
        "    *next\n",
        "    *nested loop\n",
        "    *return\n",
        "\n",
        "\n"
      ]
    },
    {
      "cell_type": "markdown",
      "metadata": {
        "id": "vGcFlKlGxHZO"
      },
      "source": [
        "## **if - else**"
      ]
    },
    {
      "cell_type": "code",
      "metadata": {
        "id": "2UsGbyMCSC1Q",
        "colab": {
          "base_uri": "https://localhost:8080/"
        },
        "outputId": "2f922dee-a88d-40f7-de67-dc47ad68303c"
      },
      "source": [
        "value <- 1:5\n",
        "if (sample(value,1) <=5){\n",
        "  print(paste(value,\"is less than or equal 5\"))\n",
        "}"
      ],
      "execution_count": null,
      "outputs": [
        {
          "output_type": "stream",
          "name": "stdout",
          "text": [
            "[1] \"1 is less than or equal 5\" \"2 is less than or equal 5\"\n",
            "[3] \"3 is less than or equal 5\" \"4 is less than or equal 5\"\n",
            "[5] \"5 is less than or equal 5\"\n"
          ]
        }
      ]
    },
    {
      "cell_type": "code",
      "metadata": {
        "colab": {
          "base_uri": "https://localhost:8080/"
        },
        "id": "cvISN0FnxGRq",
        "outputId": "c6e80302-b335-4803-dd0a-c6ae0a0f6f49"
      },
      "source": [
        "i<-0\n",
        "for (i in 1:5){   # not use range and always use ()\n",
        "  if (i <=5){\n",
        "    print(paste(i, \"is <=5\"))\n",
        "  }\n",
        "}"
      ],
      "execution_count": null,
      "outputs": [
        {
          "output_type": "stream",
          "name": "stdout",
          "text": [
            "[1] \"1 is <=5\"\n",
            "[1] \"2 is <=5\"\n",
            "[1] \"3 is <=5\"\n",
            "[1] \"4 is <=5\"\n",
            "[1] \"5 is <=5\"\n"
          ]
        }
      ]
    },
    {
      "cell_type": "code",
      "metadata": {
        "colab": {
          "base_uri": "https://localhost:8080/"
        },
        "id": "Z2HYP50PxGVj",
        "outputId": "cac0c095-24c0-45ba-8a26-decaaf97ae66"
      },
      "source": [
        "val1 = 10\n",
        "val2 = 5\n",
        "if (val1 < val2){\n",
        "  print(\"value 2 is greater than value 1\")\n",
        "}else{\n",
        "  print(\"value 1 is greater than value 2\")\n",
        "}\n"
      ],
      "execution_count": null,
      "outputs": [
        {
          "output_type": "stream",
          "name": "stdout",
          "text": [
            "[1] \"value 1 is greater than value 2\"\n"
          ]
        }
      ]
    },
    {
      "cell_type": "code",
      "metadata": {
        "colab": {
          "base_uri": "https://localhost:8080/"
        },
        "id": "3xurAJ5BxGbd",
        "outputId": "f6a25015-6ae2-4593-9ce3-c65c260a5ed6"
      },
      "source": [
        "team_a = 5\n",
        "team_b = 3\n",
        "if (team_a > team_b){\n",
        "  print(\"team a win the game\")\n",
        "}else if (team_a < team_b){\n",
        "  print(\"team b win the game\")\n",
        "}else{\n",
        "  print(\"match tied\")\n",
        "}"
      ],
      "execution_count": null,
      "outputs": [
        {
          "output_type": "stream",
          "name": "stdout",
          "text": [
            "[1] \"team a win the game\"\n"
          ]
        }
      ]
    },
    {
      "cell_type": "code",
      "source": [
        "x = as.integer(readline(\"x: \"))\n",
        "\n",
        "if (x>=10){\n",
        "  cat(\"x: \", x)\n",
        "}else{\n",
        "  print(\"try\")\n",
        "}\n"
      ],
      "metadata": {
        "colab": {
          "base_uri": "https://localhost:8080/"
        },
        "id": "RbtzUaMLN9UN",
        "outputId": "0a7f744c-d523-4c6b-aa42-bb8b50a57ee0"
      },
      "execution_count": null,
      "outputs": [
        {
          "output_type": "stream",
          "name": "stdout",
          "text": [
            "x: 12\n",
            "x:  12"
          ]
        }
      ]
    },
    {
      "cell_type": "markdown",
      "metadata": {
        "id": "2dSYWiQp1en3"
      },
      "source": [
        "## **return statement**"
      ]
    },
    {
      "cell_type": "code",
      "metadata": {
        "colab": {
          "base_uri": "https://localhost:8080/",
          "height": 69
        },
        "id": "-hIrxEkKxGeq",
        "outputId": "9acf2bea-cace-43be-acd9-3fe7e01398d5"
      },
      "source": [
        "sign <-function(x){\n",
        "\n",
        "  if (x==0){\n",
        "    result<-\"zero\"\n",
        "  }else if (x<0){\n",
        "    result<- \"negative number\"\n",
        "  }else{\n",
        "    result<-\"positive number\"\n",
        "  }\n",
        "return(result)\n",
        "}\n",
        "sign(5)\n",
        "sign(0)\n",
        "sign(-8)"
      ],
      "execution_count": null,
      "outputs": [
        {
          "output_type": "display_data",
          "data": {
            "text/plain": [
              "[1] \"positive number\""
            ],
            "text/latex": "'positive number'",
            "text/markdown": "'positive number'",
            "text/html": [
              "'positive number'"
            ]
          },
          "metadata": {}
        },
        {
          "output_type": "display_data",
          "data": {
            "text/plain": [
              "[1] \"zero\""
            ],
            "text/latex": "'zero'",
            "text/markdown": "'zero'",
            "text/html": [
              "'zero'"
            ]
          },
          "metadata": {}
        },
        {
          "output_type": "display_data",
          "data": {
            "text/plain": [
              "[1] \"negative number\""
            ],
            "text/latex": "'negative number'",
            "text/markdown": "'negative number'",
            "text/html": [
              "'negative number'"
            ]
          },
          "metadata": {}
        }
      ]
    },
    {
      "cell_type": "code",
      "metadata": {
        "colab": {
          "base_uri": "https://localhost:8080/"
        },
        "id": "rA2aDpZAxGiz",
        "outputId": "90c7e44e-ba7f-41a9-c498-76a9ae5ea880"
      },
      "source": [
        "multi_sign<-function(n1,n2){\n",
        "  if (n1<0 & n2<0){\n",
        "    print(\"Positive\")\n",
        "  }else if (n1>0 & n2>0){\n",
        "    print(\"Positive\")\n",
        "  }else if (n1>0 & n2<0){\n",
        "    print(\"Negative\")\n",
        "  }else if (n1<0 & n2>0){\n",
        "    print(\"Negative\")\n",
        "  }else{\n",
        "    print(\"Zero\")\n",
        "  }\n",
        "\n",
        "}\n",
        "multi_sign(5,8)\n",
        "multi_sign(-8,-5)\n",
        "multi_sign(-5,8)\n",
        "multi_sign(5,-8)\n",
        "multi_sign(5,0)\n",
        "multi_sign(0,8)\n",
        "multi_sign(0,0)\n"
      ],
      "execution_count": null,
      "outputs": [
        {
          "output_type": "stream",
          "name": "stdout",
          "text": [
            "[1] \"Positive\"\n",
            "[1] \"Positive\"\n",
            "[1] \"Negative\"\n",
            "[1] \"Negative\"\n",
            "[1] \"Zero\"\n",
            "[1] \"Zero\"\n",
            "[1] \"Zero\"\n"
          ]
        }
      ]
    },
    {
      "cell_type": "code",
      "metadata": {
        "colab": {
          "base_uri": "https://localhost:8080/"
        },
        "id": "FhCkwhe83y81",
        "outputId": "62e89f64-4348-4a38-88e5-6e7146979b75"
      },
      "source": [
        "temp<-function(n){\n",
        "  if (n<0){\n",
        "    print(\"Freeze\")\n",
        "  }else if (n<10){\n",
        "    print(\"Cool\")\n",
        "  }else if (n<30){\n",
        "    print(\"Warm\")\n",
        "  }else if (n<70){\n",
        "    print(\"Hot\")\n",
        "  }else{\n",
        "    print(\"Cannot classify\")\n",
        "  }\n",
        "}\n",
        "temp(0)\n",
        "temp(-9)\n",
        "temp(10)\n",
        "temp(55)\n",
        "temp(80)"
      ],
      "execution_count": null,
      "outputs": [
        {
          "output_type": "stream",
          "name": "stdout",
          "text": [
            "[1] \"Cool\"\n",
            "[1] \"Freeze\"\n",
            "[1] \"Warm\"\n",
            "[1] \"Hot\"\n",
            "[1] \"Cannot classify\"\n"
          ]
        }
      ]
    },
    {
      "cell_type": "code",
      "metadata": {
        "colab": {
          "base_uri": "https://localhost:8080/",
          "height": 527
        },
        "id": "CgArv6BP4n_G",
        "outputId": "8eca1551-f9f4-48ce-a20b-22283a468511"
      },
      "source": [
        "#1\n",
        "\n",
        "Name <- c('John', 'Niel', 'Ella', 'Sheldon', 'Chrissy')\n",
        "Covid <- c('P', 'P', 'N', 'N', 'P')\n",
        "Age <- c(65, 24, 39, 78, 85)\n",
        "\n",
        "covid.df<-data.frame(Name, Covid, Age)\n",
        "covid.df\n",
        "\n",
        "\n",
        "if (covid.df$Age>60 & covid.df$Covid == 'P'){\n",
        "  covid.df$Eld.covid.pos=TRUE\n",
        "}else{\n",
        "  covid.df$Eld.covid.pos=FALSE\n",
        "}\n",
        "covid.df\n",
        "\n",
        "#Get wrong answer becouse that is data frame\n"
      ],
      "execution_count": null,
      "outputs": [
        {
          "output_type": "display_data",
          "data": {
            "text/plain": [
              "  Name    Covid Age\n",
              "1 John    P     65 \n",
              "2 Niel    P     24 \n",
              "3 Ella    N     39 \n",
              "4 Sheldon N     78 \n",
              "5 Chrissy P     85 "
            ],
            "text/latex": "A data.frame: 5 × 3\n\\begin{tabular}{lll}\n Name & Covid & Age\\\\\n <chr> & <chr> & <dbl>\\\\\n\\hline\n\t John    & P & 65\\\\\n\t Niel    & P & 24\\\\\n\t Ella    & N & 39\\\\\n\t Sheldon & N & 78\\\\\n\t Chrissy & P & 85\\\\\n\\end{tabular}\n",
            "text/markdown": "\nA data.frame: 5 × 3\n\n| Name &lt;chr&gt; | Covid &lt;chr&gt; | Age &lt;dbl&gt; |\n|---|---|---|\n| John    | P | 65 |\n| Niel    | P | 24 |\n| Ella    | N | 39 |\n| Sheldon | N | 78 |\n| Chrissy | P | 85 |\n\n",
            "text/html": [
              "<table class=\"dataframe\">\n",
              "<caption>A data.frame: 5 × 3</caption>\n",
              "<thead>\n",
              "\t<tr><th scope=col>Name</th><th scope=col>Covid</th><th scope=col>Age</th></tr>\n",
              "\t<tr><th scope=col>&lt;chr&gt;</th><th scope=col>&lt;chr&gt;</th><th scope=col>&lt;dbl&gt;</th></tr>\n",
              "</thead>\n",
              "<tbody>\n",
              "\t<tr><td>John   </td><td>P</td><td>65</td></tr>\n",
              "\t<tr><td>Niel   </td><td>P</td><td>24</td></tr>\n",
              "\t<tr><td>Ella   </td><td>N</td><td>39</td></tr>\n",
              "\t<tr><td>Sheldon</td><td>N</td><td>78</td></tr>\n",
              "\t<tr><td>Chrissy</td><td>P</td><td>85</td></tr>\n",
              "</tbody>\n",
              "</table>\n"
            ]
          },
          "metadata": {}
        },
        {
          "output_type": "stream",
          "name": "stderr",
          "text": [
            "Warning message in if (covid.df$Age > 60 & covid.df$Covid == \"P\") {:\n",
            "“the condition has length > 1 and only the first element will be used”\n"
          ]
        },
        {
          "output_type": "display_data",
          "data": {
            "text/plain": [
              "  Name    Covid Age Eld.covid.pos\n",
              "1 John    P     65  TRUE         \n",
              "2 Niel    P     24  TRUE         \n",
              "3 Ella    N     39  TRUE         \n",
              "4 Sheldon N     78  TRUE         \n",
              "5 Chrissy P     85  TRUE         "
            ],
            "text/latex": "A data.frame: 5 × 4\n\\begin{tabular}{llll}\n Name & Covid & Age & Eld.covid.pos\\\\\n <chr> & <chr> & <dbl> & <lgl>\\\\\n\\hline\n\t John    & P & 65 & TRUE\\\\\n\t Niel    & P & 24 & TRUE\\\\\n\t Ella    & N & 39 & TRUE\\\\\n\t Sheldon & N & 78 & TRUE\\\\\n\t Chrissy & P & 85 & TRUE\\\\\n\\end{tabular}\n",
            "text/markdown": "\nA data.frame: 5 × 4\n\n| Name &lt;chr&gt; | Covid &lt;chr&gt; | Age &lt;dbl&gt; | Eld.covid.pos &lt;lgl&gt; |\n|---|---|---|---|\n| John    | P | 65 | TRUE |\n| Niel    | P | 24 | TRUE |\n| Ella    | N | 39 | TRUE |\n| Sheldon | N | 78 | TRUE |\n| Chrissy | P | 85 | TRUE |\n\n",
            "text/html": [
              "<table class=\"dataframe\">\n",
              "<caption>A data.frame: 5 × 4</caption>\n",
              "<thead>\n",
              "\t<tr><th scope=col>Name</th><th scope=col>Covid</th><th scope=col>Age</th><th scope=col>Eld.covid.pos</th></tr>\n",
              "\t<tr><th scope=col>&lt;chr&gt;</th><th scope=col>&lt;chr&gt;</th><th scope=col>&lt;dbl&gt;</th><th scope=col>&lt;lgl&gt;</th></tr>\n",
              "</thead>\n",
              "<tbody>\n",
              "\t<tr><td>John   </td><td>P</td><td>65</td><td>TRUE</td></tr>\n",
              "\t<tr><td>Niel   </td><td>P</td><td>24</td><td>TRUE</td></tr>\n",
              "\t<tr><td>Ella   </td><td>N</td><td>39</td><td>TRUE</td></tr>\n",
              "\t<tr><td>Sheldon</td><td>N</td><td>78</td><td>TRUE</td></tr>\n",
              "\t<tr><td>Chrissy</td><td>P</td><td>85</td><td>TRUE</td></tr>\n",
              "</tbody>\n",
              "</table>\n"
            ]
          },
          "metadata": {}
        }
      ]
    },
    {
      "cell_type": "code",
      "metadata": {
        "colab": {
          "base_uri": "https://localhost:8080/",
          "height": 493
        },
        "id": "gBs-npPK_HpL",
        "outputId": "cc958e21-9bb4-45e0-a743-347297cc502b"
      },
      "source": [
        "#1\n",
        "\n",
        "Name <- c('John', 'Niel', 'Ella', 'Sheldon', 'Chrissy')\n",
        "Covid <- c('P', 'P', 'N', 'N', 'P')\n",
        "Age <- c(65, 24, 39, 78, 85)\n",
        "\n",
        "covid.df<-data.frame(Name, Covid, Age)\n",
        "covid.df\n",
        "\n",
        "#ifelse(condition, do_if_true, do_if_false)\n",
        "\n",
        "covid.df$Eld.covid.pos<-ifelse(covid.df$Covid=='P'& covid.df$Age>60 ,'T', 'F')\n",
        "covid.df"
      ],
      "execution_count": null,
      "outputs": [
        {
          "output_type": "display_data",
          "data": {
            "text/plain": [
              "  Name    Covid Age\n",
              "1 John    P     65 \n",
              "2 Niel    P     24 \n",
              "3 Ella    N     39 \n",
              "4 Sheldon N     78 \n",
              "5 Chrissy P     85 "
            ],
            "text/latex": "A data.frame: 5 × 3\n\\begin{tabular}{lll}\n Name & Covid & Age\\\\\n <chr> & <chr> & <dbl>\\\\\n\\hline\n\t John    & P & 65\\\\\n\t Niel    & P & 24\\\\\n\t Ella    & N & 39\\\\\n\t Sheldon & N & 78\\\\\n\t Chrissy & P & 85\\\\\n\\end{tabular}\n",
            "text/markdown": "\nA data.frame: 5 × 3\n\n| Name &lt;chr&gt; | Covid &lt;chr&gt; | Age &lt;dbl&gt; |\n|---|---|---|\n| John    | P | 65 |\n| Niel    | P | 24 |\n| Ella    | N | 39 |\n| Sheldon | N | 78 |\n| Chrissy | P | 85 |\n\n",
            "text/html": [
              "<table class=\"dataframe\">\n",
              "<caption>A data.frame: 5 × 3</caption>\n",
              "<thead>\n",
              "\t<tr><th scope=col>Name</th><th scope=col>Covid</th><th scope=col>Age</th></tr>\n",
              "\t<tr><th scope=col>&lt;chr&gt;</th><th scope=col>&lt;chr&gt;</th><th scope=col>&lt;dbl&gt;</th></tr>\n",
              "</thead>\n",
              "<tbody>\n",
              "\t<tr><td>John   </td><td>P</td><td>65</td></tr>\n",
              "\t<tr><td>Niel   </td><td>P</td><td>24</td></tr>\n",
              "\t<tr><td>Ella   </td><td>N</td><td>39</td></tr>\n",
              "\t<tr><td>Sheldon</td><td>N</td><td>78</td></tr>\n",
              "\t<tr><td>Chrissy</td><td>P</td><td>85</td></tr>\n",
              "</tbody>\n",
              "</table>\n"
            ]
          },
          "metadata": {}
        },
        {
          "output_type": "display_data",
          "data": {
            "text/plain": [
              "  Name    Covid Age Eld.covid.pos\n",
              "1 John    P     65  T            \n",
              "2 Niel    P     24  F            \n",
              "3 Ella    N     39  F            \n",
              "4 Sheldon N     78  F            \n",
              "5 Chrissy P     85  T            "
            ],
            "text/latex": "A data.frame: 5 × 4\n\\begin{tabular}{llll}\n Name & Covid & Age & Eld.covid.pos\\\\\n <chr> & <chr> & <dbl> & <chr>\\\\\n\\hline\n\t John    & P & 65 & T\\\\\n\t Niel    & P & 24 & F\\\\\n\t Ella    & N & 39 & F\\\\\n\t Sheldon & N & 78 & F\\\\\n\t Chrissy & P & 85 & T\\\\\n\\end{tabular}\n",
            "text/markdown": "\nA data.frame: 5 × 4\n\n| Name &lt;chr&gt; | Covid &lt;chr&gt; | Age &lt;dbl&gt; | Eld.covid.pos &lt;chr&gt; |\n|---|---|---|---|\n| John    | P | 65 | T |\n| Niel    | P | 24 | F |\n| Ella    | N | 39 | F |\n| Sheldon | N | 78 | F |\n| Chrissy | P | 85 | T |\n\n",
            "text/html": [
              "<table class=\"dataframe\">\n",
              "<caption>A data.frame: 5 × 4</caption>\n",
              "<thead>\n",
              "\t<tr><th scope=col>Name</th><th scope=col>Covid</th><th scope=col>Age</th><th scope=col>Eld.covid.pos</th></tr>\n",
              "\t<tr><th scope=col>&lt;chr&gt;</th><th scope=col>&lt;chr&gt;</th><th scope=col>&lt;dbl&gt;</th><th scope=col>&lt;chr&gt;</th></tr>\n",
              "</thead>\n",
              "<tbody>\n",
              "\t<tr><td>John   </td><td>P</td><td>65</td><td>T</td></tr>\n",
              "\t<tr><td>Niel   </td><td>P</td><td>24</td><td>F</td></tr>\n",
              "\t<tr><td>Ella   </td><td>N</td><td>39</td><td>F</td></tr>\n",
              "\t<tr><td>Sheldon</td><td>N</td><td>78</td><td>F</td></tr>\n",
              "\t<tr><td>Chrissy</td><td>P</td><td>85</td><td>T</td></tr>\n",
              "</tbody>\n",
              "</table>\n"
            ]
          },
          "metadata": {}
        }
      ]
    },
    {
      "cell_type": "code",
      "metadata": {
        "colab": {
          "base_uri": "https://localhost:8080/"
        },
        "id": "ubYki29Q4oBy",
        "outputId": "72dad5ca-3cb0-4df0-dbc2-a5100318086b"
      },
      "source": [
        "#2\n",
        "greaterNum <-function(n1,n2){\n",
        "  if (n1<n2){\n",
        "    print(paste(n2 ,\"is greater than\", n1))\n",
        "  }else if(n1>n2){\n",
        "    print(paste(n1 ,\"is greater than\", n2))\n",
        "  }else{\n",
        "    print(paste(n1 ,\"is equal\", n2))\n",
        "  }\n",
        "}\n",
        "greaterNum(5,8)"
      ],
      "execution_count": null,
      "outputs": [
        {
          "output_type": "stream",
          "name": "stdout",
          "text": [
            "[1] \"8 is greater than 5\"\n"
          ]
        }
      ]
    },
    {
      "cell_type": "code",
      "metadata": {
        "id": "vntV0TkY4oEe",
        "colab": {
          "base_uri": "https://localhost:8080/"
        },
        "outputId": "d0e0a7c5-bcba-4c68-8989-c6b3af486970"
      },
      "source": [
        "#3\n",
        "assignGrdes<-function(n){\n",
        "  if (n>75){\n",
        "    print('A')\n",
        "  }else if (n>65){\n",
        "    print('B')\n",
        "  }else if (n>55){\n",
        "    print('C')\n",
        "  }else if (n>45){\n",
        "    print('D')\n",
        "  }else{\n",
        "    print('F')\n",
        "  }\n",
        "\n",
        "}\n",
        "\n",
        "assignGrdes(98)\n",
        "assignGrdes(75)\n",
        "assignGrdes(68)\n",
        "assignGrdes(58)\n",
        "assignGrdes(48)\n",
        "assignGrdes(38)\n",
        "assignGrdes(18)"
      ],
      "execution_count": null,
      "outputs": [
        {
          "output_type": "stream",
          "name": "stdout",
          "text": [
            "[1] \"A\"\n",
            "[1] \"B\"\n",
            "[1] \"B\"\n",
            "[1] \"C\"\n",
            "[1] \"D\"\n",
            "[1] \"F\"\n",
            "[1] \"F\"\n"
          ]
        }
      ]
    },
    {
      "cell_type": "code",
      "metadata": {
        "id": "1Gc8TZep4oH9",
        "colab": {
          "base_uri": "https://localhost:8080/"
        },
        "outputId": "1bf60a84-2e04-4064-dc8b-21af488dc078"
      },
      "source": [
        "#4\n",
        "A <-c('Book', 'magazine', 'newspaper')\n",
        "B <-c('Vegetable', 'meat', 'beverage')\n",
        "C <-c('T-shirt', 'jeans', 'pants')\n",
        "\n",
        "VAT <- function(c,p){\n",
        "  if (c == 'A'){\n",
        "    print(paste('A VAT rate of 8% is applied',\"the total price is\", p*1.08))\n",
        "  }else if (c == 'B'){\n",
        "    print(paste('B VAT rate of 10% is applied',\"the total price is\", p*1.10))\n",
        "  }else if(c == 'C'){\n",
        "    cat('C VAT rate of 20% is applied',\"the total price is\", p*1.20)\n",
        "  }else{\n",
        "    print(\"worng input\")\n",
        "  }\n",
        "\n",
        "}\n",
        "VAT('A',20)\n",
        "VAT('B',20)\n",
        "VAT('C',20)\n"
      ],
      "execution_count": null,
      "outputs": [
        {
          "output_type": "stream",
          "name": "stdout",
          "text": [
            "[1] \"A VAT rate of 8% is applied the total price is 21.6\"\n",
            "[1] \"B VAT rate of 10% is applied the total price is 22\"\n",
            "C VAT rate of 20% is applied the total price is 24"
          ]
        }
      ]
    },
    {
      "cell_type": "code",
      "metadata": {
        "id": "0uowP3844u_U",
        "colab": {
          "base_uri": "https://localhost:8080/",
          "height": 618
        },
        "outputId": "ddeaae4e-1856-4978-c2f7-cab10e5173be"
      },
      "source": [
        "#5\n",
        "\n",
        "Name<-c('Varun','Daniel','Maze','Russel','Nelson','Sherlock','Henry')\n",
        "Mathscore<-c(54,86,56,85,43,50,70)\n",
        "Sciencescore<-c(68,35,95,50,68,90,79)\n",
        "\n",
        "class.df<-data.frame(Name,Mathscore,Sciencescore)\n",
        "class.df\n",
        "\n",
        "class.df$Result<-ifelse(class.df$Mathscore >=50 & class.df$Sciencescore >=50,TRUE,FALSE)\n",
        "class.df\n",
        "\n",
        "\n"
      ],
      "execution_count": null,
      "outputs": [
        {
          "output_type": "display_data",
          "data": {
            "text/plain": [
              "  Name     Mathscore Sciencescore\n",
              "1 Varun    54        68          \n",
              "2 Daniel   86        35          \n",
              "3 Maze     56        95          \n",
              "4 Russel   85        50          \n",
              "5 Nelson   43        68          \n",
              "6 Sherlock 50        90          \n",
              "7 Henry    70        79          "
            ],
            "text/latex": "A data.frame: 7 × 3\n\\begin{tabular}{lll}\n Name & Mathscore & Sciencescore\\\\\n <chr> & <dbl> & <dbl>\\\\\n\\hline\n\t Varun    & 54 & 68\\\\\n\t Daniel   & 86 & 35\\\\\n\t Maze     & 56 & 95\\\\\n\t Russel   & 85 & 50\\\\\n\t Nelson   & 43 & 68\\\\\n\t Sherlock & 50 & 90\\\\\n\t Henry    & 70 & 79\\\\\n\\end{tabular}\n",
            "text/markdown": "\nA data.frame: 7 × 3\n\n| Name &lt;chr&gt; | Mathscore &lt;dbl&gt; | Sciencescore &lt;dbl&gt; |\n|---|---|---|\n| Varun    | 54 | 68 |\n| Daniel   | 86 | 35 |\n| Maze     | 56 | 95 |\n| Russel   | 85 | 50 |\n| Nelson   | 43 | 68 |\n| Sherlock | 50 | 90 |\n| Henry    | 70 | 79 |\n\n",
            "text/html": [
              "<table class=\"dataframe\">\n",
              "<caption>A data.frame: 7 × 3</caption>\n",
              "<thead>\n",
              "\t<tr><th scope=col>Name</th><th scope=col>Mathscore</th><th scope=col>Sciencescore</th></tr>\n",
              "\t<tr><th scope=col>&lt;chr&gt;</th><th scope=col>&lt;dbl&gt;</th><th scope=col>&lt;dbl&gt;</th></tr>\n",
              "</thead>\n",
              "<tbody>\n",
              "\t<tr><td>Varun   </td><td>54</td><td>68</td></tr>\n",
              "\t<tr><td>Daniel  </td><td>86</td><td>35</td></tr>\n",
              "\t<tr><td>Maze    </td><td>56</td><td>95</td></tr>\n",
              "\t<tr><td>Russel  </td><td>85</td><td>50</td></tr>\n",
              "\t<tr><td>Nelson  </td><td>43</td><td>68</td></tr>\n",
              "\t<tr><td>Sherlock</td><td>50</td><td>90</td></tr>\n",
              "\t<tr><td>Henry   </td><td>70</td><td>79</td></tr>\n",
              "</tbody>\n",
              "</table>\n"
            ]
          },
          "metadata": {}
        },
        {
          "output_type": "display_data",
          "data": {
            "text/plain": [
              "  Name     Mathscore Sciencescore Result\n",
              "1 Varun    54        68            TRUE \n",
              "2 Daniel   86        35           FALSE \n",
              "3 Maze     56        95            TRUE \n",
              "4 Russel   85        50            TRUE \n",
              "5 Nelson   43        68           FALSE \n",
              "6 Sherlock 50        90            TRUE \n",
              "7 Henry    70        79            TRUE "
            ],
            "text/latex": "A data.frame: 7 × 4\n\\begin{tabular}{llll}\n Name & Mathscore & Sciencescore & Result\\\\\n <chr> & <dbl> & <dbl> & <lgl>\\\\\n\\hline\n\t Varun    & 54 & 68 &  TRUE\\\\\n\t Daniel   & 86 & 35 & FALSE\\\\\n\t Maze     & 56 & 95 &  TRUE\\\\\n\t Russel   & 85 & 50 &  TRUE\\\\\n\t Nelson   & 43 & 68 & FALSE\\\\\n\t Sherlock & 50 & 90 &  TRUE\\\\\n\t Henry    & 70 & 79 &  TRUE\\\\\n\\end{tabular}\n",
            "text/markdown": "\nA data.frame: 7 × 4\n\n| Name &lt;chr&gt; | Mathscore &lt;dbl&gt; | Sciencescore &lt;dbl&gt; | Result &lt;lgl&gt; |\n|---|---|---|---|\n| Varun    | 54 | 68 |  TRUE |\n| Daniel   | 86 | 35 | FALSE |\n| Maze     | 56 | 95 |  TRUE |\n| Russel   | 85 | 50 |  TRUE |\n| Nelson   | 43 | 68 | FALSE |\n| Sherlock | 50 | 90 |  TRUE |\n| Henry    | 70 | 79 |  TRUE |\n\n",
            "text/html": [
              "<table class=\"dataframe\">\n",
              "<caption>A data.frame: 7 × 4</caption>\n",
              "<thead>\n",
              "\t<tr><th scope=col>Name</th><th scope=col>Mathscore</th><th scope=col>Sciencescore</th><th scope=col>Result</th></tr>\n",
              "\t<tr><th scope=col>&lt;chr&gt;</th><th scope=col>&lt;dbl&gt;</th><th scope=col>&lt;dbl&gt;</th><th scope=col>&lt;lgl&gt;</th></tr>\n",
              "</thead>\n",
              "<tbody>\n",
              "\t<tr><td>Varun   </td><td>54</td><td>68</td><td> TRUE</td></tr>\n",
              "\t<tr><td>Daniel  </td><td>86</td><td>35</td><td>FALSE</td></tr>\n",
              "\t<tr><td>Maze    </td><td>56</td><td>95</td><td> TRUE</td></tr>\n",
              "\t<tr><td>Russel  </td><td>85</td><td>50</td><td> TRUE</td></tr>\n",
              "\t<tr><td>Nelson  </td><td>43</td><td>68</td><td>FALSE</td></tr>\n",
              "\t<tr><td>Sherlock</td><td>50</td><td>90</td><td> TRUE</td></tr>\n",
              "\t<tr><td>Henry   </td><td>70</td><td>79</td><td> TRUE</td></tr>\n",
              "</tbody>\n",
              "</table>\n"
            ]
          },
          "metadata": {}
        }
      ]
    },
    {
      "cell_type": "markdown",
      "metadata": {
        "id": "jBa5rM3mmkv9"
      },
      "source": [
        "## **for loop**"
      ]
    },
    {
      "cell_type": "code",
      "metadata": {
        "colab": {
          "base_uri": "https://localhost:8080/"
        },
        "id": "Ft5hTv-fnUzZ",
        "outputId": "739ca6d8-eaba-482c-dcb0-70a0d2263761"
      },
      "source": [
        "for (i in 1:10){\n",
        "  print(paste(\"Number is\",i))\n",
        "}"
      ],
      "execution_count": null,
      "outputs": [
        {
          "output_type": "stream",
          "name": "stdout",
          "text": [
            "[1] \"Number is 1\"\n",
            "[1] \"Number is 2\"\n",
            "[1] \"Number is 3\"\n",
            "[1] \"Number is 4\"\n",
            "[1] \"Number is 5\"\n",
            "[1] \"Number is 6\"\n",
            "[1] \"Number is 7\"\n",
            "[1] \"Number is 8\"\n",
            "[1] \"Number is 9\"\n",
            "[1] \"Number is 10\"\n"
          ]
        }
      ]
    },
    {
      "cell_type": "code",
      "metadata": {
        "colab": {
          "base_uri": "https://localhost:8080/"
        },
        "id": "tWPXkmQRnVAv",
        "outputId": "1481a758-a5dc-4c6b-ca8c-5d31bc1ca098"
      },
      "source": [
        "Country<- c(\"USA\",\"Canada\",\"SriLanka\",\"Australia\", \"France\")\n",
        "for (i in 1:length(Country)){\n",
        "  print(Country[i])\n",
        "}"
      ],
      "execution_count": null,
      "outputs": [
        {
          "output_type": "stream",
          "name": "stdout",
          "text": [
            "[1] \"USA\"\n",
            "[1] \"Canada\"\n",
            "[1] \"SriLanka\"\n",
            "[1] \"Australia\"\n",
            "[1] \"France\"\n"
          ]
        }
      ]
    },
    {
      "cell_type": "code",
      "metadata": {
        "colab": {
          "base_uri": "https://localhost:8080/"
        },
        "id": "EDl1kzkAnVT5",
        "outputId": "0fabea46-3c86-4d4a-9771-3c595525b550"
      },
      "source": [
        "list<-c()\n",
        "for (i in 1:5){\n",
        "  list[i]<-i^2\n",
        "}\n",
        "print(list)"
      ],
      "execution_count": null,
      "outputs": [
        {
          "output_type": "stream",
          "name": "stdout",
          "text": [
            "[1]  1  4  9 16 25\n"
          ]
        }
      ]
    },
    {
      "cell_type": "code",
      "metadata": {
        "colab": {
          "base_uri": "https://localhost:8080/",
          "height": 132
        },
        "id": "JcMA2AjunVUs",
        "outputId": "386f31cb-85fb-4a2c-b0c9-abb8dcbba6b3"
      },
      "source": [
        "m<-matrix(seq(1,30,3),nrow=2)\n",
        "m\n",
        "count<-0\n",
        "for (rval in 1:nrow(m)){\n",
        "  for (cval in 1:ncol(m)){\n",
        "    if (m[rval,cval]%%2==0){\n",
        "      count = count+1\n",
        "    }\n",
        "\n",
        "  }\n",
        "}\n",
        "count"
      ],
      "execution_count": null,
      "outputs": [
        {
          "output_type": "display_data",
          "data": {
            "text/plain": [
              "     [,1] [,2] [,3] [,4] [,5]\n",
              "[1,] 1     7   13   19   25  \n",
              "[2,] 4    10   16   22   28  "
            ],
            "text/latex": "A matrix: 2 × 5 of type dbl\n\\begin{tabular}{lllll}\n\t 1 &  7 & 13 & 19 & 25\\\\\n\t 4 & 10 & 16 & 22 & 28\\\\\n\\end{tabular}\n",
            "text/markdown": "\nA matrix: 2 × 5 of type dbl\n\n| 1 |  7 | 13 | 19 | 25 |\n| 4 | 10 | 16 | 22 | 28 |\n\n",
            "text/html": [
              "<table class=\"dataframe\">\n",
              "<caption>A matrix: 2 × 5 of type dbl</caption>\n",
              "<tbody>\n",
              "\t<tr><td>1</td><td> 7</td><td>13</td><td>19</td><td>25</td></tr>\n",
              "\t<tr><td>4</td><td>10</td><td>16</td><td>22</td><td>28</td></tr>\n",
              "</tbody>\n",
              "</table>\n"
            ]
          },
          "metadata": {}
        },
        {
          "output_type": "display_data",
          "data": {
            "text/plain": [
              "[1] 5"
            ],
            "text/latex": "5",
            "text/markdown": "5",
            "text/html": [
              "5"
            ]
          },
          "metadata": {}
        }
      ]
    },
    {
      "cell_type": "markdown",
      "metadata": {
        "id": "YVFpd4ylmkzV"
      },
      "source": [
        "## **while loop**"
      ]
    },
    {
      "cell_type": "code",
      "metadata": {
        "colab": {
          "base_uri": "https://localhost:8080/"
        },
        "id": "S31BF_Jq0LKZ",
        "outputId": "0e96cad4-5d04-4988-aec6-d8c3816549df"
      },
      "source": [
        "student<-c('Kamal','Nizar','Sachini')\n",
        "count = 3\n",
        "\n",
        "while (count<10){\n",
        "  print(student)\n",
        "  count = count +1\n",
        "}"
      ],
      "execution_count": null,
      "outputs": [
        {
          "output_type": "stream",
          "name": "stdout",
          "text": [
            "[1] \"Kamal\"   \"Nizar\"   \"Sachini\"\n",
            "[1] \"Kamal\"   \"Nizar\"   \"Sachini\"\n",
            "[1] \"Kamal\"   \"Nizar\"   \"Sachini\"\n",
            "[1] \"Kamal\"   \"Nizar\"   \"Sachini\"\n",
            "[1] \"Kamal\"   \"Nizar\"   \"Sachini\"\n",
            "[1] \"Kamal\"   \"Nizar\"   \"Sachini\"\n",
            "[1] \"Kamal\"   \"Nizar\"   \"Sachini\"\n"
          ]
        }
      ]
    },
    {
      "cell_type": "code",
      "metadata": {
        "colab": {
          "base_uri": "https://localhost:8080/"
        },
        "id": "hLy7lxrJ0LNX",
        "outputId": "2f82a2cb-dec8-4b1b-a5b3-0c873f6910ea"
      },
      "source": [
        "i <-1\n",
        "while (i <=4){\n",
        "  print(i^3)\n",
        "  i=i+1\n",
        "}"
      ],
      "execution_count": null,
      "outputs": [
        {
          "output_type": "stream",
          "name": "stdout",
          "text": [
            "[1] 1\n",
            "[1] 8\n",
            "[1] 27\n",
            "[1] 64\n"
          ]
        }
      ]
    },
    {
      "cell_type": "code",
      "metadata": {
        "colab": {
          "base_uri": "https://localhost:8080/"
        },
        "id": "8yteWIAA0LQ6",
        "outputId": "24ac4bf4-5a39-42fd-c477-571bfc26fd1d"
      },
      "source": [
        "i <-1\n",
        "while (i<=10){\n",
        "  print(paste(\"number is\",i))\n",
        "  i = i+1\n",
        "}"
      ],
      "execution_count": null,
      "outputs": [
        {
          "output_type": "stream",
          "name": "stdout",
          "text": [
            "[1] \"number is 1\"\n",
            "[1] \"number is 2\"\n",
            "[1] \"number is 3\"\n",
            "[1] \"number is 4\"\n",
            "[1] \"number is 5\"\n",
            "[1] \"number is 6\"\n",
            "[1] \"number is 7\"\n",
            "[1] \"number is 8\"\n",
            "[1] \"number is 9\"\n",
            "[1] \"number is 10\"\n"
          ]
        }
      ]
    },
    {
      "cell_type": "markdown",
      "metadata": {
        "id": "GGB9g8H9481A"
      },
      "source": [
        "## **repeat loop**"
      ]
    },
    {
      "cell_type": "code",
      "metadata": {
        "colab": {
          "base_uri": "https://localhost:8080/"
        },
        "id": "ChZRO5yG5AbF",
        "outputId": "000caf63-88a8-4ef8-aed4-e30f1071db8a"
      },
      "source": [
        "repeat{\n",
        "  print(\"press Esc to stop the loop\")\n",
        "  #break\n",
        "}"
      ],
      "execution_count": null,
      "outputs": [
        {
          "output_type": "stream",
          "name": "stdout",
          "text": [
            "[1] \"press Esc to stop the loop\"\n"
          ]
        }
      ]
    },
    {
      "cell_type": "code",
      "metadata": {
        "colab": {
          "base_uri": "https://localhost:8080/"
        },
        "id": "Rj9XDxvj5Ad2",
        "outputId": "7b28446d-170f-4705-cc63-66869956bb82"
      },
      "source": [
        "z<-0\n",
        "repeat{\n",
        "  print(z)\n",
        "  if (z ==10){\n",
        "    break\n",
        "  }\n",
        "  z = z+2\n",
        "}"
      ],
      "execution_count": null,
      "outputs": [
        {
          "output_type": "stream",
          "name": "stdout",
          "text": [
            "[1] 0\n",
            "[1] 2\n",
            "[1] 4\n",
            "[1] 6\n",
            "[1] 8\n",
            "[1] 10\n"
          ]
        }
      ]
    },
    {
      "cell_type": "code",
      "metadata": {
        "colab": {
          "base_uri": "https://localhost:8080/"
        },
        "id": "OwhZ4_Ya5AhA",
        "outputId": "c5ad1598-c17b-4a3a-ef8a-4c01d4538b1a"
      },
      "source": [
        "i <-0\n",
        "repeat{\n",
        "  print(i)\n",
        "  if (i==30){\n",
        "    break\n",
        "  }\n",
        "  i =i+5\n",
        "}"
      ],
      "execution_count": null,
      "outputs": [
        {
          "output_type": "stream",
          "name": "stdout",
          "text": [
            "[1] 0\n",
            "[1] 5\n",
            "[1] 10\n",
            "[1] 15\n",
            "[1] 20\n",
            "[1] 25\n",
            "[1] 30\n"
          ]
        }
      ]
    },
    {
      "cell_type": "markdown",
      "metadata": {
        "id": "zt61m_Gdmk4E"
      },
      "source": [
        "## **break**\n",
        "\n",
        "syntax of using **break** statement within an **if** statement"
      ]
    },
    {
      "cell_type": "code",
      "metadata": {
        "colab": {
          "base_uri": "https://localhost:8080/"
        },
        "id": "bH2q9swm6dDO",
        "outputId": "ac21fac9-16b4-4b61-f663-fe514d990213"
      },
      "source": [
        "colors<-c('red','yellow','green','blue','black','white')\n",
        "for (i in 1:length(colors)){\n",
        "  if (colors[i] == 'blue'){\n",
        "  break\n",
        "}\n",
        "print(colors[i])\n",
        "\n",
        "}\n"
      ],
      "execution_count": null,
      "outputs": [
        {
          "output_type": "stream",
          "name": "stdout",
          "text": [
            "[1] \"red\"\n",
            "[1] \"yellow\"\n",
            "[1] \"green\"\n"
          ]
        }
      ]
    },
    {
      "cell_type": "code",
      "metadata": {
        "colab": {
          "base_uri": "https://localhost:8080/"
        },
        "id": "udiBdJeA6dGS",
        "outputId": "0bfd47b5-d1a3-40fd-a846-a6994a2f0c92"
      },
      "source": [
        "i<-0\n",
        "while (i<10){\n",
        "  if (i^2 >50){\n",
        "    break\n",
        "  }\n",
        "  i=i+1\n",
        "  print(i^2)\n",
        "}\n"
      ],
      "execution_count": null,
      "outputs": [
        {
          "output_type": "stream",
          "name": "stdout",
          "text": [
            "[1] 1\n",
            "[1] 4\n",
            "[1] 9\n",
            "[1] 16\n",
            "[1] 25\n",
            "[1] 36\n",
            "[1] 49\n",
            "[1] 64\n"
          ]
        }
      ]
    },
    {
      "cell_type": "markdown",
      "metadata": {
        "id": "_ImvAxNRoBPF"
      },
      "source": [
        "## **next**\n",
        "\n",
        "Syntax of using **next** statement within an **if** statement:"
      ]
    },
    {
      "cell_type": "code",
      "metadata": {
        "colab": {
          "base_uri": "https://localhost:8080/"
        },
        "id": "yTnoM_j08R03",
        "outputId": "26ca01b4-4850-4846-b987-f6c53588e5a2"
      },
      "source": [
        "v<-c(3,7,10,16,20)\n",
        "for (i in 1:length(v)){\n",
        "  if (v[i]== 16){\n",
        "    next\n",
        "  }\n",
        "  print(v[i])\n",
        "\n",
        "}"
      ],
      "execution_count": null,
      "outputs": [
        {
          "output_type": "stream",
          "name": "stdout",
          "text": [
            "[1] 3\n",
            "[1] 7\n",
            "[1] 10\n",
            "[1] 20\n"
          ]
        }
      ]
    },
    {
      "cell_type": "code",
      "metadata": {
        "colab": {
          "base_uri": "https://localhost:8080/"
        },
        "id": "k3jrfrI08R4N",
        "outputId": "5cf790e2-669c-4d21-f0e5-94cace94af24"
      },
      "source": [
        "x<-1\n",
        "while(x<5){\n",
        "  x<-x+1\n",
        "  if (x==3){\n",
        "    next\n",
        "  }\n",
        "  print(x)\n",
        "\n",
        "}"
      ],
      "execution_count": null,
      "outputs": [
        {
          "output_type": "stream",
          "name": "stdout",
          "text": [
            "[1] 2\n",
            "[1] 4\n",
            "[1] 5\n"
          ]
        }
      ]
    },
    {
      "cell_type": "code",
      "metadata": {
        "colab": {
          "base_uri": "https://localhost:8080/",
          "height": 805
        },
        "id": "DogpURxJr1BB",
        "outputId": "11f6c62c-cde0-4e41-ec82-04ad04cce179"
      },
      "source": [
        "#1\n",
        "y<-c(28,35,13,13,162,153,183,171,65,59,72,83)\n",
        "DataM<-matrix(y,nrow=4,ncol=3)\n",
        "DataM\n",
        "\n",
        "rownames(DataM)<-c(\"Veronica\", \"Karl\", \"Miriam\", \"Peter\" )\n",
        "colnames(DataM)<-c(\"age\", \"height\", \"weight\")\n",
        "DataM\n",
        "dimnames(DataM)<-list(c(\"Veronica\", \"Karl\", \"Miriam\", \"Peter\"),c(\"age\", \"height\", \"weight\"))\n",
        "DataM\n",
        "\n",
        "\n",
        "for (i in rownames(DataM)){\n",
        "  for (j in colnames(DataM))\n",
        "  print(paste(\"The\", j,\"of\",i, \"is\",DataM[i,j]))\n",
        "\n",
        "}\n",
        "print(\"   \")\n",
        "\n",
        "for (i in colnames(DataM)){\n",
        "  m <- mean(DataM[,i])\n",
        "  print(paste(\"Average\", i , 'is',m))\n",
        "}\n"
      ],
      "execution_count": null,
      "outputs": [
        {
          "output_type": "display_data",
          "data": {
            "text/plain": [
              "     [,1] [,2] [,3]\n",
              "[1,] 28   162  65  \n",
              "[2,] 35   153  59  \n",
              "[3,] 13   183  72  \n",
              "[4,] 13   171  83  "
            ],
            "text/latex": "A matrix: 4 × 3 of type dbl\n\\begin{tabular}{lll}\n\t 28 & 162 & 65\\\\\n\t 35 & 153 & 59\\\\\n\t 13 & 183 & 72\\\\\n\t 13 & 171 & 83\\\\\n\\end{tabular}\n",
            "text/markdown": "\nA matrix: 4 × 3 of type dbl\n\n| 28 | 162 | 65 |\n| 35 | 153 | 59 |\n| 13 | 183 | 72 |\n| 13 | 171 | 83 |\n\n",
            "text/html": [
              "<table class=\"dataframe\">\n",
              "<caption>A matrix: 4 × 3 of type dbl</caption>\n",
              "<tbody>\n",
              "\t<tr><td>28</td><td>162</td><td>65</td></tr>\n",
              "\t<tr><td>35</td><td>153</td><td>59</td></tr>\n",
              "\t<tr><td>13</td><td>183</td><td>72</td></tr>\n",
              "\t<tr><td>13</td><td>171</td><td>83</td></tr>\n",
              "</tbody>\n",
              "</table>\n"
            ]
          },
          "metadata": {}
        },
        {
          "output_type": "display_data",
          "data": {
            "text/plain": [
              "         age height weight\n",
              "Veronica 28  162    65    \n",
              "Karl     35  153    59    \n",
              "Miriam   13  183    72    \n",
              "Peter    13  171    83    "
            ],
            "text/latex": "A matrix: 4 × 3 of type dbl\n\\begin{tabular}{r|lll}\n  & age & height & weight\\\\\n\\hline\n\tVeronica & 28 & 162 & 65\\\\\n\tKarl & 35 & 153 & 59\\\\\n\tMiriam & 13 & 183 & 72\\\\\n\tPeter & 13 & 171 & 83\\\\\n\\end{tabular}\n",
            "text/markdown": "\nA matrix: 4 × 3 of type dbl\n\n| <!--/--> | age | height | weight |\n|---|---|---|---|\n| Veronica | 28 | 162 | 65 |\n| Karl | 35 | 153 | 59 |\n| Miriam | 13 | 183 | 72 |\n| Peter | 13 | 171 | 83 |\n\n",
            "text/html": [
              "<table class=\"dataframe\">\n",
              "<caption>A matrix: 4 × 3 of type dbl</caption>\n",
              "<thead>\n",
              "\t<tr><th></th><th scope=col>age</th><th scope=col>height</th><th scope=col>weight</th></tr>\n",
              "</thead>\n",
              "<tbody>\n",
              "\t<tr><th scope=row>Veronica</th><td>28</td><td>162</td><td>65</td></tr>\n",
              "\t<tr><th scope=row>Karl</th><td>35</td><td>153</td><td>59</td></tr>\n",
              "\t<tr><th scope=row>Miriam</th><td>13</td><td>183</td><td>72</td></tr>\n",
              "\t<tr><th scope=row>Peter</th><td>13</td><td>171</td><td>83</td></tr>\n",
              "</tbody>\n",
              "</table>\n"
            ]
          },
          "metadata": {}
        },
        {
          "output_type": "display_data",
          "data": {
            "text/plain": [
              "         age height weight\n",
              "Veronica 28  162    65    \n",
              "Karl     35  153    59    \n",
              "Miriam   13  183    72    \n",
              "Peter    13  171    83    "
            ],
            "text/latex": "A matrix: 4 × 3 of type dbl\n\\begin{tabular}{r|lll}\n  & age & height & weight\\\\\n\\hline\n\tVeronica & 28 & 162 & 65\\\\\n\tKarl & 35 & 153 & 59\\\\\n\tMiriam & 13 & 183 & 72\\\\\n\tPeter & 13 & 171 & 83\\\\\n\\end{tabular}\n",
            "text/markdown": "\nA matrix: 4 × 3 of type dbl\n\n| <!--/--> | age | height | weight |\n|---|---|---|---|\n| Veronica | 28 | 162 | 65 |\n| Karl | 35 | 153 | 59 |\n| Miriam | 13 | 183 | 72 |\n| Peter | 13 | 171 | 83 |\n\n",
            "text/html": [
              "<table class=\"dataframe\">\n",
              "<caption>A matrix: 4 × 3 of type dbl</caption>\n",
              "<thead>\n",
              "\t<tr><th></th><th scope=col>age</th><th scope=col>height</th><th scope=col>weight</th></tr>\n",
              "</thead>\n",
              "<tbody>\n",
              "\t<tr><th scope=row>Veronica</th><td>28</td><td>162</td><td>65</td></tr>\n",
              "\t<tr><th scope=row>Karl</th><td>35</td><td>153</td><td>59</td></tr>\n",
              "\t<tr><th scope=row>Miriam</th><td>13</td><td>183</td><td>72</td></tr>\n",
              "\t<tr><th scope=row>Peter</th><td>13</td><td>171</td><td>83</td></tr>\n",
              "</tbody>\n",
              "</table>\n"
            ]
          },
          "metadata": {}
        },
        {
          "output_type": "stream",
          "name": "stdout",
          "text": [
            "[1] \"The age of Veronica is 28\"\n",
            "[1] \"The height of Veronica is 162\"\n",
            "[1] \"The weight of Veronica is 65\"\n",
            "[1] \"The age of Karl is 35\"\n",
            "[1] \"The height of Karl is 153\"\n",
            "[1] \"The weight of Karl is 59\"\n",
            "[1] \"The age of Miriam is 13\"\n",
            "[1] \"The height of Miriam is 183\"\n",
            "[1] \"The weight of Miriam is 72\"\n",
            "[1] \"The age of Peter is 13\"\n",
            "[1] \"The height of Peter is 171\"\n",
            "[1] \"The weight of Peter is 83\"\n",
            "[1] \"   \"\n",
            "[1] \"Average age is 22.25\"\n",
            "[1] \"Average height is 167.25\"\n",
            "[1] \"Average weight is 69.75\"\n"
          ]
        }
      ]
    },
    {
      "cell_type": "code",
      "metadata": {
        "colab": {
          "base_uri": "https://localhost:8080/",
          "height": 254
        },
        "id": "NRRk8Qc0r1D4",
        "outputId": "6dae3e87-9e9e-46c3-8dff-65cf74c5248b"
      },
      "source": [
        "#2\n",
        "m1<-matrix(c(1,2,5,6,8,2,5,2), nrow = 2)\n",
        "m1\n",
        "\n",
        "for (i in 1:2 ){\n",
        "  for (j in 1:4){\n",
        "    print(paste(\"element m1 [\",i,',',j,\"] is\",m1[i,j]))\n",
        "\n",
        "  }\n",
        "\n",
        "}\n"
      ],
      "execution_count": null,
      "outputs": [
        {
          "output_type": "display_data",
          "data": {
            "text/plain": [
              "     [,1] [,2] [,3] [,4]\n",
              "[1,] 1    5    8    5   \n",
              "[2,] 2    6    2    2   "
            ],
            "text/latex": "A matrix: 2 × 4 of type dbl\n\\begin{tabular}{llll}\n\t 1 & 5 & 8 & 5\\\\\n\t 2 & 6 & 2 & 2\\\\\n\\end{tabular}\n",
            "text/markdown": "\nA matrix: 2 × 4 of type dbl\n\n| 1 | 5 | 8 | 5 |\n| 2 | 6 | 2 | 2 |\n\n",
            "text/html": [
              "<table class=\"dataframe\">\n",
              "<caption>A matrix: 2 × 4 of type dbl</caption>\n",
              "<tbody>\n",
              "\t<tr><td>1</td><td>5</td><td>8</td><td>5</td></tr>\n",
              "\t<tr><td>2</td><td>6</td><td>2</td><td>2</td></tr>\n",
              "</tbody>\n",
              "</table>\n"
            ]
          },
          "metadata": {}
        },
        {
          "output_type": "stream",
          "name": "stdout",
          "text": [
            "[1] \"element m1 [ 1 , 1 ] is 1\"\n",
            "[1] \"element m1 [ 1 , 2 ] is 5\"\n",
            "[1] \"element m1 [ 1 , 3 ] is 8\"\n",
            "[1] \"element m1 [ 1 , 4 ] is 5\"\n",
            "[1] \"element m1 [ 2 , 1 ] is 2\"\n",
            "[1] \"element m1 [ 2 , 2 ] is 6\"\n",
            "[1] \"element m1 [ 2 , 3 ] is 2\"\n",
            "[1] \"element m1 [ 2 , 4 ] is 2\"\n"
          ]
        }
      ]
    },
    {
      "cell_type": "code",
      "metadata": {
        "colab": {
          "base_uri": "https://localhost:8080/",
          "height": 264
        },
        "id": "zaub5Kh0r1J2",
        "outputId": "eba4f601-6fcd-47bb-8b52-48c88502a2ab"
      },
      "source": [
        "#3\n",
        "m2 <-matrix(c(1:12),nrow = 4,ncol = 3)\n",
        "m2\n",
        "m2t<-matrix(nrow = 3,ncol = 4)\n",
        "\n",
        "for (i in 1:3){\n",
        "  for (j in 1:4){\n",
        "    m2t[i,j]<-m2[j,i]\n",
        "\n",
        "  }\n",
        "}\n",
        "print(m2t)"
      ],
      "execution_count": null,
      "outputs": [
        {
          "output_type": "display_data",
          "data": {
            "text/plain": [
              "     [,1] [,2] [,3]\n",
              "[1,] 1    5     9  \n",
              "[2,] 2    6    10  \n",
              "[3,] 3    7    11  \n",
              "[4,] 4    8    12  "
            ],
            "text/latex": "A matrix: 4 × 3 of type int\n\\begin{tabular}{lll}\n\t 1 & 5 &  9\\\\\n\t 2 & 6 & 10\\\\\n\t 3 & 7 & 11\\\\\n\t 4 & 8 & 12\\\\\n\\end{tabular}\n",
            "text/markdown": "\nA matrix: 4 × 3 of type int\n\n| 1 | 5 |  9 |\n| 2 | 6 | 10 |\n| 3 | 7 | 11 |\n| 4 | 8 | 12 |\n\n",
            "text/html": [
              "<table class=\"dataframe\">\n",
              "<caption>A matrix: 4 × 3 of type int</caption>\n",
              "<tbody>\n",
              "\t<tr><td>1</td><td>5</td><td> 9</td></tr>\n",
              "\t<tr><td>2</td><td>6</td><td>10</td></tr>\n",
              "\t<tr><td>3</td><td>7</td><td>11</td></tr>\n",
              "\t<tr><td>4</td><td>8</td><td>12</td></tr>\n",
              "</tbody>\n",
              "</table>\n"
            ]
          },
          "metadata": {}
        },
        {
          "output_type": "stream",
          "name": "stdout",
          "text": [
            "     [,1] [,2] [,3] [,4]\n",
            "[1,]    1    2    3    4\n",
            "[2,]    5    6    7    8\n",
            "[3,]    9   10   11   12\n"
          ]
        }
      ]
    },
    {
      "cell_type": "code",
      "metadata": {
        "colab": {
          "base_uri": "https://localhost:8080/"
        },
        "id": "SmL52QuCr1NQ",
        "outputId": "dbac5e7d-aa2a-4047-e55d-25eec684fad1"
      },
      "source": [
        "#4\n",
        "x<-c(1,2,3,4)\n",
        "y<-c(0,0,5,1)\n",
        "\n",
        "i<-0\n",
        "while (i<=4){\n",
        "  sum<-(x[i]+y[i])\n",
        "  i<-i+1\n",
        "  print(sum)\n",
        "}\n",
        "\n"
      ],
      "execution_count": null,
      "outputs": [
        {
          "output_type": "stream",
          "name": "stdout",
          "text": [
            "numeric(0)\n",
            "[1] 1\n",
            "[1] 2\n",
            "[1] 8\n",
            "[1] 5\n"
          ]
        }
      ]
    },
    {
      "cell_type": "code",
      "metadata": {
        "colab": {
          "base_uri": "https://localhost:8080/"
        },
        "id": "_c2OD4dhr5hA",
        "outputId": "fd821ca9-d72c-4828-835a-1459feb8ea8a"
      },
      "source": [
        "#5\n",
        "a<-1\n",
        "repeat{\n",
        "  print('Statistics')\n",
        "  a=a+1\n",
        "  if (a>6){\n",
        "    break\n",
        "  }\n",
        "\n",
        "}"
      ],
      "execution_count": null,
      "outputs": [
        {
          "output_type": "stream",
          "name": "stdout",
          "text": [
            "[1] \"Statistics\"\n",
            "[1] \"Statistics\"\n",
            "[1] \"Statistics\"\n",
            "[1] \"Statistics\"\n",
            "[1] \"Statistics\"\n",
            "[1] \"Statistics\"\n"
          ]
        }
      ]
    },
    {
      "cell_type": "code",
      "metadata": {
        "colab": {
          "base_uri": "https://localhost:8080/",
          "height": 173
        },
        "id": "lGNVcvllr5kO",
        "outputId": "04eda81d-8236-41de-fa98-1e68de126282"
      },
      "source": [
        "#6\n",
        "letters<-LETTERS[1:10]\n",
        "letters\n",
        "\n",
        "for (i in 1:10){\n",
        "  if (letters[i] == 'E'){\n",
        "    next\n",
        "  }\n",
        "  if (letters[i] == 'G'){\n",
        "    next\n",
        "  }\n",
        "  print(letters[i])\n",
        "}\n"
      ],
      "execution_count": null,
      "outputs": [
        {
          "output_type": "display_data",
          "data": {
            "text/plain": [
              " [1] \"A\" \"B\" \"C\" \"D\" \"E\" \"F\" \"G\" \"H\" \"I\" \"J\""
            ],
            "text/latex": "\\begin{enumerate*}\n\\item 'A'\n\\item 'B'\n\\item 'C'\n\\item 'D'\n\\item 'E'\n\\item 'F'\n\\item 'G'\n\\item 'H'\n\\item 'I'\n\\item 'J'\n\\end{enumerate*}\n",
            "text/markdown": "1. 'A'\n2. 'B'\n3. 'C'\n4. 'D'\n5. 'E'\n6. 'F'\n7. 'G'\n8. 'H'\n9. 'I'\n10. 'J'\n\n\n",
            "text/html": [
              "<style>\n",
              ".list-inline {list-style: none; margin:0; padding: 0}\n",
              ".list-inline>li {display: inline-block}\n",
              ".list-inline>li:not(:last-child)::after {content: \"\\00b7\"; padding: 0 .5ex}\n",
              "</style>\n",
              "<ol class=list-inline><li>'A'</li><li>'B'</li><li>'C'</li><li>'D'</li><li>'E'</li><li>'F'</li><li>'G'</li><li>'H'</li><li>'I'</li><li>'J'</li></ol>\n"
            ]
          },
          "metadata": {}
        },
        {
          "output_type": "stream",
          "name": "stdout",
          "text": [
            "[1] \"A\"\n",
            "[1] \"B\"\n",
            "[1] \"C\"\n",
            "[1] \"D\"\n",
            "[1] \"F\"\n",
            "[1] \"H\"\n",
            "[1] \"I\"\n",
            "[1] \"J\"\n"
          ]
        }
      ]
    },
    {
      "cell_type": "markdown",
      "metadata": {
        "id": "3sRyxFaISDKG"
      },
      "source": [
        "# **9.Recursive Functions in R**"
      ]
    },
    {
      "cell_type": "markdown",
      "metadata": {
        "id": "xWEbgUCmlHTs"
      },
      "source": [
        "### **syntax:**\n",
        "\n",
        "      function_name<-function(arguments)\n",
        "      {\n",
        "        if(condition)\n",
        "        {\n",
        "          Base case\n",
        "        }\n",
        "        else\n",
        "        {\n",
        "          Recursive case\n",
        "        }\n",
        "      }"
      ]
    },
    {
      "cell_type": "code",
      "metadata": {
        "id": "xSzxAq28SZPH",
        "colab": {
          "base_uri": "https://localhost:8080/",
          "height": 67
        },
        "outputId": "710d6337-6797-4076-ff7b-b1b9bc84abaa"
      },
      "source": [
        "recursive_factorial <- function(x)\n",
        "{\n",
        "  if (x==0){   #base\n",
        "    return(1)\n",
        "  }else{\n",
        "    return(x*recursive_factorial(x-1))  #recursive\n",
        "  }\n",
        "}\n",
        "\n",
        "recursive_factorial(0)\n",
        "recursive_factorial(1)\n",
        "recursive_factorial(3)\n",
        "# recursive_factorial(-3)  error"
      ],
      "execution_count": null,
      "outputs": [
        {
          "output_type": "display_data",
          "data": {
            "text/plain": [
              "[1] 1"
            ],
            "text/latex": "1",
            "text/markdown": "1",
            "text/html": [
              "1"
            ]
          },
          "metadata": {}
        },
        {
          "output_type": "display_data",
          "data": {
            "text/plain": [
              "[1] 1"
            ],
            "text/latex": "1",
            "text/markdown": "1",
            "text/html": [
              "1"
            ]
          },
          "metadata": {}
        },
        {
          "output_type": "display_data",
          "data": {
            "text/plain": [
              "[1] 6"
            ],
            "text/latex": "6",
            "text/markdown": "6",
            "text/html": [
              "6"
            ]
          },
          "metadata": {}
        }
      ]
    },
    {
      "cell_type": "code",
      "metadata": {
        "colab": {
          "base_uri": "https://localhost:8080/"
        },
        "id": "IPPq8hvtpDG4",
        "outputId": "e56c745c-fc04-4702-d4ac-567a07b1f3a4"
      },
      "source": [
        "factorial_normal<-function(num)\n",
        "{\n",
        "  factorial<-1\n",
        "  if(num<0){\n",
        "    print(\"factorial does not exists\")\n",
        "  }else if (num == 0){\n",
        "    print(\"factorial of 0 is 1\")\n",
        "  }else{\n",
        "    for (i in 1:num){\n",
        "      factorial<-factorial*i\n",
        "    }\n",
        "  print(paste(\"factorial of \", num, \":\", factorial))\n",
        "  }\n",
        "\n",
        "}\n",
        "factorial_normal(-2)\n",
        "factorial_normal(0)\n",
        "factorial_normal(1)\n",
        "factorial_normal(2)\n",
        "factorial_normal(3)"
      ],
      "execution_count": null,
      "outputs": [
        {
          "output_type": "stream",
          "name": "stdout",
          "text": [
            "[1] \"factorial does not exists\"\n",
            "[1] \"factorial of 0 is 1\"\n",
            "[1] \"factorial of  1 : 1\"\n",
            "[1] \"factorial of  2 : 2\"\n",
            "[1] \"factorial of  3 : 6\"\n"
          ]
        }
      ]
    },
    {
      "cell_type": "markdown",
      "metadata": {
        "id": "T17_ofM5sc4W"
      },
      "source": [
        "    base case: n=0 => 0\n",
        "               n=1 => 1\n",
        "    recursive case: n>=2 => fn = f(n-1) + f(n-2)\n"
      ]
    },
    {
      "cell_type": "code",
      "metadata": {
        "colab": {
          "base_uri": "https://localhost:8080/",
          "height": 118
        },
        "id": "MJ0jY9FEsaih",
        "outputId": "45003e16-2a88-4faf-d516-6f158695f25d"
      },
      "source": [
        "recursive_fibonacci<-function(n)\n",
        "{\n",
        "  if(n==0){\n",
        "    return(0)\n",
        "  }else if(n==1){\n",
        "    return(1)\n",
        "  }else{\n",
        "    return(recursive_fibonacci(n-1) + recursive_fibonacci(n-2))\n",
        "  }\n",
        "\n",
        "}\n",
        "\n",
        "recursive_fibonacci(0)\n",
        "recursive_fibonacci(1)\n",
        "recursive_fibonacci(2)\n",
        "recursive_fibonacci(3)\n",
        "recursive_fibonacci(4)\n",
        "recursive_fibonacci(5)\n",
        "\n"
      ],
      "execution_count": null,
      "outputs": [
        {
          "output_type": "display_data",
          "data": {
            "text/plain": [
              "[1] 0"
            ],
            "text/latex": "0",
            "text/markdown": "0",
            "text/html": [
              "0"
            ]
          },
          "metadata": {}
        },
        {
          "output_type": "display_data",
          "data": {
            "text/plain": [
              "[1] 1"
            ],
            "text/latex": "1",
            "text/markdown": "1",
            "text/html": [
              "1"
            ]
          },
          "metadata": {}
        },
        {
          "output_type": "display_data",
          "data": {
            "text/plain": [
              "[1] 1"
            ],
            "text/latex": "1",
            "text/markdown": "1",
            "text/html": [
              "1"
            ]
          },
          "metadata": {}
        },
        {
          "output_type": "display_data",
          "data": {
            "text/plain": [
              "[1] 2"
            ],
            "text/latex": "2",
            "text/markdown": "2",
            "text/html": [
              "2"
            ]
          },
          "metadata": {}
        },
        {
          "output_type": "display_data",
          "data": {
            "text/plain": [
              "[1] 3"
            ],
            "text/latex": "3",
            "text/markdown": "3",
            "text/html": [
              "3"
            ]
          },
          "metadata": {}
        },
        {
          "output_type": "display_data",
          "data": {
            "text/plain": [
              "[1] 5"
            ],
            "text/latex": "5",
            "text/markdown": "5",
            "text/html": [
              "5"
            ]
          },
          "metadata": {}
        }
      ]
    },
    {
      "cell_type": "code",
      "metadata": {
        "colab": {
          "base_uri": "https://localhost:8080/"
        },
        "id": "M6zUB9twuXpk",
        "outputId": "fdb2e685-eb01-473a-a55b-476471bc8375"
      },
      "source": [
        "\n",
        "recursive_fibonacci<-function(n)\n",
        "{\n",
        "  if(n==0){\n",
        "    return(0)\n",
        "  }else if(n==1){\n",
        "    return(1)\n",
        "  }else{\n",
        "    return(recursive_fibonacci(n-1) + recursive_fibonacci(n-2))\n",
        "  }\n",
        "\n",
        "}\n",
        "\n",
        "fibonacci_series<-function(n)\n",
        "{\n",
        "  if(n<0){\n",
        "    print(\"fibonacci number does not exist\")\n",
        "  }else{\n",
        "    for (i in 0:(n-1)){\n",
        "      print(recursive_fibonacci(i))\n",
        "    }\n",
        "  }\n",
        "}\n",
        "fibonacci_series(-2)\n",
        "fibonacci_series(2)\n",
        "fibonacci_series(1)\n",
        "fibonacci_series(5)"
      ],
      "execution_count": null,
      "outputs": [
        {
          "output_type": "stream",
          "name": "stdout",
          "text": [
            "[1] \"fibonacci number does not exist\"\n",
            "[1] 0\n",
            "[1] 1\n",
            "[1] 0\n",
            "[1] 0\n",
            "[1] 1\n",
            "[1] 1\n",
            "[1] 2\n",
            "[1] 3\n"
          ]
        }
      ]
    },
    {
      "cell_type": "code",
      "metadata": {
        "colab": {
          "base_uri": "https://localhost:8080/",
          "height": 34
        },
        "id": "7s1aEZpr5oiZ",
        "outputId": "b45ef1db-3741-4bab-9dfe-59193ec5896e"
      },
      "source": [
        "#1\n",
        "sum_squares<-function(n)\n",
        "{\n",
        "  if(n==0){\n",
        "    return(0)\n",
        "  }else{\n",
        "    return(n*n + sum_squares(n - 1))\n",
        "    }\n",
        "\n",
        "}\n",
        "sum_squares(3)"
      ],
      "execution_count": null,
      "outputs": [
        {
          "output_type": "display_data",
          "data": {
            "text/plain": [
              "[1] 14"
            ],
            "text/latex": "14",
            "text/markdown": "14",
            "text/html": [
              "14"
            ]
          },
          "metadata": {}
        }
      ]
    },
    {
      "cell_type": "code",
      "metadata": {
        "id": "4nnLHeRv1ZQ9",
        "colab": {
          "base_uri": "https://localhost:8080/",
          "height": 84
        },
        "outputId": "b6f36c23-f6f4-44c6-a8a8-b3d0065dd91b"
      },
      "source": [
        "#2\n",
        "sum_natural<-function(n)\n",
        "{\n",
        "    if (n<1){\n",
        "      print(\"The input is not valid\")\n",
        "    }else if(n==1){\n",
        "      return(1)\n",
        "    }else{\n",
        "      return(n + sum_natural(n-1))\n",
        "    }\n",
        "\n",
        "}\n",
        "sum_natural(-2)\n",
        "sum_natural(0)\n",
        "sum_natural(1)\n",
        "sum_natural(5)\n"
      ],
      "execution_count": null,
      "outputs": [
        {
          "output_type": "stream",
          "name": "stdout",
          "text": [
            "[1] \"The input is not valid\"\n",
            "[1] \"The input is not valid\"\n"
          ]
        },
        {
          "output_type": "display_data",
          "data": {
            "text/plain": [
              "[1] 1"
            ],
            "text/latex": "1",
            "text/markdown": "1",
            "text/html": [
              "1"
            ]
          },
          "metadata": {}
        },
        {
          "output_type": "display_data",
          "data": {
            "text/plain": [
              "[1] 15"
            ],
            "text/latex": "15",
            "text/markdown": "15",
            "text/html": [
              "15"
            ]
          },
          "metadata": {}
        }
      ]
    },
    {
      "cell_type": "code",
      "metadata": {
        "id": "5AvBakuk1ZZf",
        "colab": {
          "base_uri": "https://localhost:8080/",
          "height": 34
        },
        "outputId": "2eee5968-b524-45f4-edb1-4041ad17e0ac"
      },
      "source": [
        "#3\n",
        "sort_asc<-function(v)\n",
        "{\n",
        "  if (length(v)<=1){\n",
        "    return(v)\n",
        "  }else{\n",
        "    init_ele<-v[1]\n",
        "    other_ele<-v[-1]\n",
        "    lager<-other_ele[other_ele>init_ele]\n",
        "    small<-other_ele[other_ele<=init_ele]\n",
        "    lager<-sort_asc(lager)\n",
        "    small<-sort_asc(small)\n",
        "    return(c(small,init_ele,lager))\n",
        "  }\n",
        "}\n",
        "v <-c(15,-10,12,-20,-22,28)\n",
        "sort_asc(v)\n"
      ],
      "execution_count": null,
      "outputs": [
        {
          "output_type": "display_data",
          "data": {
            "text/plain": [
              "[1] -22 -20 -10  12  15  28"
            ],
            "text/latex": "\\begin{enumerate*}\n\\item -22\n\\item -20\n\\item -10\n\\item 12\n\\item 15\n\\item 28\n\\end{enumerate*}\n",
            "text/markdown": "1. -22\n2. -20\n3. -10\n4. 12\n5. 15\n6. 28\n\n\n",
            "text/html": [
              "<style>\n",
              ".list-inline {list-style: none; margin:0; padding: 0}\n",
              ".list-inline>li {display: inline-block}\n",
              ".list-inline>li:not(:last-child)::after {content: \"\\00b7\"; padding: 0 .5ex}\n",
              "</style>\n",
              "<ol class=list-inline><li>-22</li><li>-20</li><li>-10</li><li>12</li><li>15</li><li>28</li></ol>\n"
            ]
          },
          "metadata": {}
        }
      ]
    },
    {
      "cell_type": "code",
      "metadata": {
        "id": "4GFUvc6f1ZiH"
      },
      "source": [
        "#4\n"
      ],
      "execution_count": null,
      "outputs": []
    },
    {
      "cell_type": "code",
      "metadata": {
        "id": "The0q1X-1Zqf"
      },
      "source": [
        "#5"
      ],
      "execution_count": null,
      "outputs": []
    },
    {
      "cell_type": "markdown",
      "metadata": {
        "id": "o5CN4eCHSZeW"
      },
      "source": [
        "# **10.R Packeges**"
      ]
    },
    {
      "cell_type": "code",
      "metadata": {
        "id": "j_ITc2_bS7bX",
        "colab": {
          "base_uri": "https://localhost:8080/",
          "height": 34
        },
        "outputId": "6fd569cf-c845-4e0e-8251-7dc4b785348a"
      },
      "source": [
        "#get library locations\n",
        ".libPaths()"
      ],
      "execution_count": null,
      "outputs": [
        {
          "output_type": "display_data",
          "data": {
            "text/plain": [
              "[1] \"/usr/local/lib/R/site-library\" \"/usr/lib/R/site-library\"      \n",
              "[3] \"/usr/lib/R/library\"           "
            ],
            "text/latex": "\\begin{enumerate*}\n\\item '/usr/local/lib/R/site-library'\n\\item '/usr/lib/R/site-library'\n\\item '/usr/lib/R/library'\n\\end{enumerate*}\n",
            "text/markdown": "1. '/usr/local/lib/R/site-library'\n2. '/usr/lib/R/site-library'\n3. '/usr/lib/R/library'\n\n\n",
            "text/html": [
              "<style>\n",
              ".list-inline {list-style: none; margin:0; padding: 0}\n",
              ".list-inline>li {display: inline-block}\n",
              ".list-inline>li:not(:last-child)::after {content: \"\\00b7\"; padding: 0 .5ex}\n",
              "</style>\n",
              "<ol class=list-inline><li>'/usr/local/lib/R/site-library'</li><li>'/usr/lib/R/site-library'</li><li>'/usr/lib/R/library'</li></ol>\n"
            ]
          },
          "metadata": {}
        }
      ]
    },
    {
      "cell_type": "code",
      "metadata": {
        "id": "S6JTK337TxzA"
      },
      "source": [
        "#get the list of all the library packages\n",
        "library()"
      ],
      "execution_count": null,
      "outputs": []
    },
    {
      "cell_type": "code",
      "metadata": {
        "colab": {
          "base_uri": "https://localhost:8080/",
          "height": 50
        },
        "id": "3WPDRodUUCAC",
        "outputId": "7c6fb3c3-686a-41d8-a4bc-f7fdbb704596"
      },
      "source": [
        "#get all packages\n",
        "search()"
      ],
      "execution_count": null,
      "outputs": [
        {
          "output_type": "display_data",
          "data": {
            "text/plain": [
              " [1] \".GlobalEnv\"        \"jupyter:irkernel\"  \"package:stats\"    \n",
              " [4] \"package:graphics\"  \"package:grDevices\" \"package:utils\"    \n",
              " [7] \"package:datasets\"  \"package:methods\"   \"Autoloads\"        \n",
              "[10] \"package:base\"     "
            ],
            "text/latex": "\\begin{enumerate*}\n\\item '.GlobalEnv'\n\\item 'jupyter:irkernel'\n\\item 'package:stats'\n\\item 'package:graphics'\n\\item 'package:grDevices'\n\\item 'package:utils'\n\\item 'package:datasets'\n\\item 'package:methods'\n\\item 'Autoloads'\n\\item 'package:base'\n\\end{enumerate*}\n",
            "text/markdown": "1. '.GlobalEnv'\n2. 'jupyter:irkernel'\n3. 'package:stats'\n4. 'package:graphics'\n5. 'package:grDevices'\n6. 'package:utils'\n7. 'package:datasets'\n8. 'package:methods'\n9. 'Autoloads'\n10. 'package:base'\n\n\n",
            "text/html": [
              "<style>\n",
              ".list-inline {list-style: none; margin:0; padding: 0}\n",
              ".list-inline>li {display: inline-block}\n",
              ".list-inline>li:not(:last-child)::after {content: \"\\00b7\"; padding: 0 .5ex}\n",
              "</style>\n",
              "<ol class=list-inline><li>'.GlobalEnv'</li><li>'jupyter:irkernel'</li><li>'package:stats'</li><li>'package:graphics'</li><li>'package:grDevices'</li><li>'package:utils'</li><li>'package:datasets'</li><li>'package:methods'</li><li>'Autoloads'</li><li>'package:base'</li></ol>\n"
            ]
          },
          "metadata": {}
        }
      ]
    },
    {
      "cell_type": "code",
      "metadata": {
        "id": "46aRjbCEUNYM"
      },
      "source": [
        "#install a new package\n",
        "\n",
        "##1\n",
        "install.packages(\" \")\n",
        "\n",
        "##2\n",
        "'''go to the link and download the package needed'''\n",
        "\n",
        "##3\n",
        "'''installing R packges in R studio'''\n",
        "\n",
        "##4\n",
        "library(package_name)\n"
      ],
      "execution_count": null,
      "outputs": []
    },
    {
      "cell_type": "markdown",
      "metadata": {
        "id": "V_LTXXhTVMmp"
      },
      "source": [
        "## **R Shiny**"
      ]
    },
    {
      "cell_type": "code",
      "metadata": {
        "id": "jpZYp3XwVCGM"
      },
      "source": [],
      "execution_count": null,
      "outputs": []
    },
    {
      "cell_type": "markdown",
      "metadata": {
        "id": "dTvDSs6SVRhi"
      },
      "source": [
        "## **R Markdown**"
      ]
    },
    {
      "cell_type": "code",
      "metadata": {
        "id": "BY_t7yjuVV8I"
      },
      "source": [
        "#go to the R markdown in R file"
      ],
      "execution_count": null,
      "outputs": []
    },
    {
      "cell_type": "markdown",
      "metadata": {
        "id": "FRHVTuR4VWUi"
      },
      "source": [
        "## **ggplot2**"
      ]
    },
    {
      "cell_type": "code",
      "metadata": {
        "id": "YkVCosqEV_us"
      },
      "source": [
        "install.packages(\"tidyverse\")\n",
        "install.packages(\"ggplot2\")"
      ],
      "execution_count": null,
      "outputs": []
    },
    {
      "cell_type": "code",
      "metadata": {
        "colab": {
          "base_uri": "https://localhost:8080/"
        },
        "id": "ZTIOpBJvINv_",
        "outputId": "17c7c69e-0b59-4339-8613-6694d8abe257"
      },
      "source": [
        "library(ggplot2)\n",
        "Maths_Score<-data.frame(Students=c('Student_1','Student_2','Student_3','Student_4','Student_5'),Maths_Marks=c(53,61,48,55,48))\n",
        "ggplot(Maths_Score,aes(x=Students, y=Maths_Marks))+geom_bar(stat =\"identity\",fill =rainbow(5),color='black')\n"
      ],
      "execution_count": null,
      "outputs": [
        {
          "output_type": "display_data",
          "data": {
            "image/png": "[encoded data removed]",
            "text/plain": [
              "plot without title"
            ]
          },
          "metadata": {
            "image/png": {
              "width": 420,
              "height": 420
            }
          }
        }
      ]
    },
    {
      "cell_type": "code",
      "metadata": {
        "colab": {
          "base_uri": "https://localhost:8080/",
          "height": 437
        },
        "id": "IXakAYt1VcjD",
        "outputId": "3c6b245b-b4f7-4c54-ac2e-45a8800e1871"
      },
      "source": [
        "library(ggplot2)\n",
        "sales<-data.frame(Days=c('Mon', 'Tue', 'Wed', 'Thu', 'Fri'),No_of_items=c(20,15,18,7,10))\n",
        "ggplot(sales,aes(x=Days, y=No_of_items))+geom_bar(stat =\"identity\",fill =rainbow(5),color='black')"
      ],
      "execution_count": null,
      "outputs": [
        {
          "output_type": "display_data",
          "data": {
            "text/plain": [
              "plot without title"
            ],
            "image/png": "[encoded data removed]"
          },
          "metadata": {
            "image/png": {
              "width": 420,
              "height": 420
            }
          }
        }
      ]
    },
    {
      "cell_type": "markdown",
      "metadata": {
        "id": "HpHbMJj4WjMT"
      },
      "source": [
        "**Advantages of ggplot2**\n",
        "\n",
        "    very flexible\n",
        "    theme system for polishing plot appearance\n",
        "    many users, active mailing list\n",
        "    "
      ]
    },
    {
      "cell_type": "markdown",
      "metadata": {
        "id": "GIJ9i3vTVbH5"
      },
      "source": [
        "**Things we cannot do with ggplot2**\n",
        "    \n",
        "    3-dimensional graphics\n",
        "    graph-theory type graphs\n",
        "    interactive graphics"
      ]
    }
  ]
}